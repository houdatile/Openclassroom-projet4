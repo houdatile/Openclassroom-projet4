{
 "cells": [
  {
   "cell_type": "markdown",
   "source": [
    "# Projet 3\n",
    "\n",
    "The \"Santé publique France\" agency is launching a call for projects to find innovative ideas for food-related applications. You want to participate and suggest an app idea.\n",
    "\n",
    "I decided to create an application that calculates the sugar level of different products for diabetics.\n",
    "\n",
    "This first notebook will clean the data.\n",
    "The second is an exploration notebook."
   ],
   "metadata": {
    "collapsed": false,
    "pycharm": {
     "name": "#%% md\n"
    }
   }
  },
  {
   "cell_type": "code",
   "execution_count": 48,
   "metadata": {
    "pycharm": {
     "name": "#%%\n"
    }
   },
   "outputs": [],
   "source": [
    "import pandas as pd\n",
    "import numpy as np\n",
    "import matplotlib.pyplot as plt"
   ]
  },
  {
   "cell_type": "code",
   "execution_count": 49,
   "metadata": {
    "pycharm": {
     "name": "#%%\n"
    }
   },
   "outputs": [],
   "source": [
    "path = \"openfoodfactsorgproducts.csv\""
   ]
  },
  {
   "cell_type": "code",
   "execution_count": 50,
   "metadata": {
    "pycharm": {
     "name": "#%%\n"
    }
   },
   "outputs": [
    {
     "name": "stderr",
     "output_type": "stream",
     "text": [
      "C:\\Users\\houda\\AppData\\Local\\Temp\\ipykernel_6352\\3051908425.py:1: DtypeWarning: Columns (0,3,5,19,20,24,25,26,27,28,35,36,37,38,39,48) have mixed types. Specify dtype option on import or set low_memory=False.\n",
      "  open_food_fact = pd.read_csv(path, sep=\"\\t\")\n"
     ]
    }
   ],
   "source": [
    "open_food_fact = pd.read_csv(path, sep=\"\\t\")"
   ]
  },
  {
   "cell_type": "markdown",
   "metadata": {
    "pycharm": {
     "name": "#%% md\n"
    }
   },
   "source": [
    "## I – Data cleaning\n",
    "\n",
    "### 1 - First analysis of the dataframe"
   ]
  },
  {
   "cell_type": "code",
   "execution_count": 51,
   "metadata": {
    "pycharm": {
     "name": "#%%\n"
    }
   },
   "outputs": [
    {
     "data": {
      "text/plain": "    code                                                url  \\\n0   3087  http://world-fr.openfoodfacts.org/produit/0000...   \n1   4530  http://world-fr.openfoodfacts.org/produit/0000...   \n2   4559  http://world-fr.openfoodfacts.org/produit/0000...   \n3  16087  http://world-fr.openfoodfacts.org/produit/0000...   \n4  16094  http://world-fr.openfoodfacts.org/produit/0000...   \n\n                      creator   created_t      created_datetime  \\\n0  openfoodfacts-contributors  1474103866  2016-09-17T09:17:46Z   \n1             usda-ndb-import  1489069957  2017-03-09T14:32:37Z   \n2             usda-ndb-import  1489069957  2017-03-09T14:32:37Z   \n3             usda-ndb-import  1489055731  2017-03-09T10:35:31Z   \n4             usda-ndb-import  1489055653  2017-03-09T10:34:13Z   \n\n  last_modified_t last_modified_datetime                    product_name  \\\n0      1474103893   2016-09-17T09:18:13Z              Farine de blé noir   \n1      1489069957   2017-03-09T14:32:37Z  Banana Chips Sweetened (Whole)   \n2      1489069957   2017-03-09T14:32:37Z                         Peanuts   \n3      1489055731   2017-03-09T10:35:31Z          Organic Salted Nut Mix   \n4      1489055653   2017-03-09T10:34:13Z                 Organic Polenta   \n\n  generic_name quantity  ... ph_100g fruits-vegetables-nuts_100g  \\\n0          NaN      1kg  ...     NaN                         NaN   \n1          NaN      NaN  ...     NaN                         NaN   \n2          NaN      NaN  ...     NaN                         NaN   \n3          NaN      NaN  ...     NaN                         NaN   \n4          NaN      NaN  ...     NaN                         NaN   \n\n  collagen-meat-protein-ratio_100g cocoa_100g chlorophyl_100g  \\\n0                              NaN        NaN             NaN   \n1                              NaN        NaN             NaN   \n2                              NaN        NaN             NaN   \n3                              NaN        NaN             NaN   \n4                              NaN        NaN             NaN   \n\n  carbon-footprint_100g nutrition-score-fr_100g nutrition-score-uk_100g  \\\n0                   NaN                     NaN                     NaN   \n1                   NaN                    14.0                    14.0   \n2                   NaN                     0.0                     0.0   \n3                   NaN                    12.0                    12.0   \n4                   NaN                     NaN                     NaN   \n\n  glycemic-index_100g water-hardness_100g  \n0                 NaN                 NaN  \n1                 NaN                 NaN  \n2                 NaN                 NaN  \n3                 NaN                 NaN  \n4                 NaN                 NaN  \n\n[5 rows x 162 columns]",
      "text/html": "<div>\n<style scoped>\n    .dataframe tbody tr th:only-of-type {\n        vertical-align: middle;\n    }\n\n    .dataframe tbody tr th {\n        vertical-align: top;\n    }\n\n    .dataframe thead th {\n        text-align: right;\n    }\n</style>\n<table border=\"1\" class=\"dataframe\">\n  <thead>\n    <tr style=\"text-align: right;\">\n      <th></th>\n      <th>code</th>\n      <th>url</th>\n      <th>creator</th>\n      <th>created_t</th>\n      <th>created_datetime</th>\n      <th>last_modified_t</th>\n      <th>last_modified_datetime</th>\n      <th>product_name</th>\n      <th>generic_name</th>\n      <th>quantity</th>\n      <th>...</th>\n      <th>ph_100g</th>\n      <th>fruits-vegetables-nuts_100g</th>\n      <th>collagen-meat-protein-ratio_100g</th>\n      <th>cocoa_100g</th>\n      <th>chlorophyl_100g</th>\n      <th>carbon-footprint_100g</th>\n      <th>nutrition-score-fr_100g</th>\n      <th>nutrition-score-uk_100g</th>\n      <th>glycemic-index_100g</th>\n      <th>water-hardness_100g</th>\n    </tr>\n  </thead>\n  <tbody>\n    <tr>\n      <th>0</th>\n      <td>3087</td>\n      <td>http://world-fr.openfoodfacts.org/produit/0000...</td>\n      <td>openfoodfacts-contributors</td>\n      <td>1474103866</td>\n      <td>2016-09-17T09:17:46Z</td>\n      <td>1474103893</td>\n      <td>2016-09-17T09:18:13Z</td>\n      <td>Farine de blé noir</td>\n      <td>NaN</td>\n      <td>1kg</td>\n      <td>...</td>\n      <td>NaN</td>\n      <td>NaN</td>\n      <td>NaN</td>\n      <td>NaN</td>\n      <td>NaN</td>\n      <td>NaN</td>\n      <td>NaN</td>\n      <td>NaN</td>\n      <td>NaN</td>\n      <td>NaN</td>\n    </tr>\n    <tr>\n      <th>1</th>\n      <td>4530</td>\n      <td>http://world-fr.openfoodfacts.org/produit/0000...</td>\n      <td>usda-ndb-import</td>\n      <td>1489069957</td>\n      <td>2017-03-09T14:32:37Z</td>\n      <td>1489069957</td>\n      <td>2017-03-09T14:32:37Z</td>\n      <td>Banana Chips Sweetened (Whole)</td>\n      <td>NaN</td>\n      <td>NaN</td>\n      <td>...</td>\n      <td>NaN</td>\n      <td>NaN</td>\n      <td>NaN</td>\n      <td>NaN</td>\n      <td>NaN</td>\n      <td>NaN</td>\n      <td>14.0</td>\n      <td>14.0</td>\n      <td>NaN</td>\n      <td>NaN</td>\n    </tr>\n    <tr>\n      <th>2</th>\n      <td>4559</td>\n      <td>http://world-fr.openfoodfacts.org/produit/0000...</td>\n      <td>usda-ndb-import</td>\n      <td>1489069957</td>\n      <td>2017-03-09T14:32:37Z</td>\n      <td>1489069957</td>\n      <td>2017-03-09T14:32:37Z</td>\n      <td>Peanuts</td>\n      <td>NaN</td>\n      <td>NaN</td>\n      <td>...</td>\n      <td>NaN</td>\n      <td>NaN</td>\n      <td>NaN</td>\n      <td>NaN</td>\n      <td>NaN</td>\n      <td>NaN</td>\n      <td>0.0</td>\n      <td>0.0</td>\n      <td>NaN</td>\n      <td>NaN</td>\n    </tr>\n    <tr>\n      <th>3</th>\n      <td>16087</td>\n      <td>http://world-fr.openfoodfacts.org/produit/0000...</td>\n      <td>usda-ndb-import</td>\n      <td>1489055731</td>\n      <td>2017-03-09T10:35:31Z</td>\n      <td>1489055731</td>\n      <td>2017-03-09T10:35:31Z</td>\n      <td>Organic Salted Nut Mix</td>\n      <td>NaN</td>\n      <td>NaN</td>\n      <td>...</td>\n      <td>NaN</td>\n      <td>NaN</td>\n      <td>NaN</td>\n      <td>NaN</td>\n      <td>NaN</td>\n      <td>NaN</td>\n      <td>12.0</td>\n      <td>12.0</td>\n      <td>NaN</td>\n      <td>NaN</td>\n    </tr>\n    <tr>\n      <th>4</th>\n      <td>16094</td>\n      <td>http://world-fr.openfoodfacts.org/produit/0000...</td>\n      <td>usda-ndb-import</td>\n      <td>1489055653</td>\n      <td>2017-03-09T10:34:13Z</td>\n      <td>1489055653</td>\n      <td>2017-03-09T10:34:13Z</td>\n      <td>Organic Polenta</td>\n      <td>NaN</td>\n      <td>NaN</td>\n      <td>...</td>\n      <td>NaN</td>\n      <td>NaN</td>\n      <td>NaN</td>\n      <td>NaN</td>\n      <td>NaN</td>\n      <td>NaN</td>\n      <td>NaN</td>\n      <td>NaN</td>\n      <td>NaN</td>\n      <td>NaN</td>\n    </tr>\n  </tbody>\n</table>\n<p>5 rows × 162 columns</p>\n</div>"
     },
     "execution_count": 51,
     "metadata": {},
     "output_type": "execute_result"
    }
   ],
   "source": [
    "open_food_fact.head()"
   ]
  },
  {
   "cell_type": "code",
   "execution_count": 52,
   "metadata": {
    "pycharm": {
     "name": "#%%\n"
    }
   },
   "outputs": [
    {
     "data": {
      "text/plain": "(320772, 162)"
     },
     "execution_count": 52,
     "metadata": {},
     "output_type": "execute_result"
    }
   ],
   "source": [
    "open_food_fact.shape"
   ]
  },
  {
   "cell_type": "code",
   "execution_count": 53,
   "outputs": [
    {
     "data": {
      "text/plain": "                 code                                                url  \\\n0                3087  http://world-fr.openfoodfacts.org/produit/0000...   \n1                4530  http://world-fr.openfoodfacts.org/produit/0000...   \n2                4559  http://world-fr.openfoodfacts.org/produit/0000...   \n3               16087  http://world-fr.openfoodfacts.org/produit/0000...   \n4               16094  http://world-fr.openfoodfacts.org/produit/0000...   \n...               ...                                                ...   \n320767  9948282780603  http://world-fr.openfoodfacts.org/produit/9948...   \n320768       99567453  http://world-fr.openfoodfacts.org/produit/9956...   \n320769  9970229501521  http://world-fr.openfoodfacts.org/produit/9970...   \n320770  9980282863788  http://world-fr.openfoodfacts.org/produit/9980...   \n320771   999990026839  http://world-fr.openfoodfacts.org/produit/9999...   \n\n                           creator   created_t      created_datetime  \\\n0       openfoodfacts-contributors  1474103866  2016-09-17T09:17:46Z   \n1                  usda-ndb-import  1489069957  2017-03-09T14:32:37Z   \n2                  usda-ndb-import  1489069957  2017-03-09T14:32:37Z   \n3                  usda-ndb-import  1489055731  2017-03-09T10:35:31Z   \n4                  usda-ndb-import  1489055653  2017-03-09T10:34:13Z   \n...                            ...         ...                   ...   \n320767  openfoodfacts-contributors  1490631299  2017-03-27T16:14:59Z   \n320768             usda-ndb-import  1489059076  2017-03-09T11:31:16Z   \n320769                      tomato  1422099377  2015-01-24T11:36:17Z   \n320770  openfoodfacts-contributors  1492340089  2017-04-16T10:54:49Z   \n320771             usda-ndb-import  1489072709  2017-03-09T15:18:29Z   \n\n       last_modified_t last_modified_datetime  \\\n0           1474103893   2016-09-17T09:18:13Z   \n1           1489069957   2017-03-09T14:32:37Z   \n2           1489069957   2017-03-09T14:32:37Z   \n3           1489055731   2017-03-09T10:35:31Z   \n4           1489055653   2017-03-09T10:34:13Z   \n...                ...                    ...   \n320767      1491244498   2017-04-03T18:34:58Z   \n320768      1491244499   2017-04-03T18:34:59Z   \n320769      1491244499   2017-04-03T18:34:59Z   \n320770      1492340089   2017-04-16T10:54:49Z   \n320771      1491244499   2017-04-03T18:34:59Z   \n\n                                             product_name  \\\n0                                      Farine de blé noir   \n1                          Banana Chips Sweetened (Whole)   \n2                                                 Peanuts   \n3                                  Organic Salted Nut Mix   \n4                                         Organic Polenta   \n...                                                   ...   \n320767                                  Tomato & ricotta    \n320768  Mint Melange Tea A Blend Of Peppermint, Lemon ...   \n320769                                            乐吧泡菜味薯片   \n320770                           Tomates aux Vermicelles    \n320771                    Sugar Free Drink Mix, Peach Tea   \n\n                           generic_name quantity  ... ph_100g  \\\n0                                   NaN      1kg  ...     NaN   \n1                                   NaN      NaN  ...     NaN   \n2                                   NaN      NaN  ...     NaN   \n3                                   NaN      NaN  ...     NaN   \n4                                   NaN      NaN  ...     NaN   \n...                                 ...      ...  ...     ...   \n320767                              NaN        1  ...     NaN   \n320768                              NaN      NaN  ...     NaN   \n320769  Leba pickle flavor potato chips     50 g  ...     NaN   \n320770                              NaN      67g  ...     NaN   \n320771                              NaN      NaN  ...     NaN   \n\n       fruits-vegetables-nuts_100g collagen-meat-protein-ratio_100g  \\\n0                              NaN                              NaN   \n1                              NaN                              NaN   \n2                              NaN                              NaN   \n3                              NaN                              NaN   \n4                              NaN                              NaN   \n...                            ...                              ...   \n320767                         NaN                              NaN   \n320768                         NaN                              NaN   \n320769                         NaN                              NaN   \n320770                         NaN                              NaN   \n320771                         NaN                              NaN   \n\n       cocoa_100g chlorophyl_100g carbon-footprint_100g  \\\n0             NaN             NaN                   NaN   \n1             NaN             NaN                   NaN   \n2             NaN             NaN                   NaN   \n3             NaN             NaN                   NaN   \n4             NaN             NaN                   NaN   \n...           ...             ...                   ...   \n320767        NaN             NaN                   NaN   \n320768        NaN             NaN                   NaN   \n320769        NaN             NaN                   NaN   \n320770        NaN             NaN                   NaN   \n320771        NaN             NaN                   NaN   \n\n       nutrition-score-fr_100g nutrition-score-uk_100g glycemic-index_100g  \\\n0                          NaN                     NaN                 NaN   \n1                         14.0                    14.0                 NaN   \n2                          0.0                     0.0                 NaN   \n3                         12.0                    12.0                 NaN   \n4                          NaN                     NaN                 NaN   \n...                        ...                     ...                 ...   \n320767                     NaN                     NaN                 NaN   \n320768                     0.0                     0.0                 NaN   \n320769                     NaN                     NaN                 NaN   \n320770                     NaN                     NaN                 NaN   \n320771                     NaN                     NaN                 NaN   \n\n       water-hardness_100g  \n0                      NaN  \n1                      NaN  \n2                      NaN  \n3                      NaN  \n4                      NaN  \n...                    ...  \n320767                 NaN  \n320768                 NaN  \n320769                 NaN  \n320770                 NaN  \n320771                 NaN  \n\n[320772 rows x 162 columns]",
      "text/html": "<div>\n<style scoped>\n    .dataframe tbody tr th:only-of-type {\n        vertical-align: middle;\n    }\n\n    .dataframe tbody tr th {\n        vertical-align: top;\n    }\n\n    .dataframe thead th {\n        text-align: right;\n    }\n</style>\n<table border=\"1\" class=\"dataframe\">\n  <thead>\n    <tr style=\"text-align: right;\">\n      <th></th>\n      <th>code</th>\n      <th>url</th>\n      <th>creator</th>\n      <th>created_t</th>\n      <th>created_datetime</th>\n      <th>last_modified_t</th>\n      <th>last_modified_datetime</th>\n      <th>product_name</th>\n      <th>generic_name</th>\n      <th>quantity</th>\n      <th>...</th>\n      <th>ph_100g</th>\n      <th>fruits-vegetables-nuts_100g</th>\n      <th>collagen-meat-protein-ratio_100g</th>\n      <th>cocoa_100g</th>\n      <th>chlorophyl_100g</th>\n      <th>carbon-footprint_100g</th>\n      <th>nutrition-score-fr_100g</th>\n      <th>nutrition-score-uk_100g</th>\n      <th>glycemic-index_100g</th>\n      <th>water-hardness_100g</th>\n    </tr>\n  </thead>\n  <tbody>\n    <tr>\n      <th>0</th>\n      <td>3087</td>\n      <td>http://world-fr.openfoodfacts.org/produit/0000...</td>\n      <td>openfoodfacts-contributors</td>\n      <td>1474103866</td>\n      <td>2016-09-17T09:17:46Z</td>\n      <td>1474103893</td>\n      <td>2016-09-17T09:18:13Z</td>\n      <td>Farine de blé noir</td>\n      <td>NaN</td>\n      <td>1kg</td>\n      <td>...</td>\n      <td>NaN</td>\n      <td>NaN</td>\n      <td>NaN</td>\n      <td>NaN</td>\n      <td>NaN</td>\n      <td>NaN</td>\n      <td>NaN</td>\n      <td>NaN</td>\n      <td>NaN</td>\n      <td>NaN</td>\n    </tr>\n    <tr>\n      <th>1</th>\n      <td>4530</td>\n      <td>http://world-fr.openfoodfacts.org/produit/0000...</td>\n      <td>usda-ndb-import</td>\n      <td>1489069957</td>\n      <td>2017-03-09T14:32:37Z</td>\n      <td>1489069957</td>\n      <td>2017-03-09T14:32:37Z</td>\n      <td>Banana Chips Sweetened (Whole)</td>\n      <td>NaN</td>\n      <td>NaN</td>\n      <td>...</td>\n      <td>NaN</td>\n      <td>NaN</td>\n      <td>NaN</td>\n      <td>NaN</td>\n      <td>NaN</td>\n      <td>NaN</td>\n      <td>14.0</td>\n      <td>14.0</td>\n      <td>NaN</td>\n      <td>NaN</td>\n    </tr>\n    <tr>\n      <th>2</th>\n      <td>4559</td>\n      <td>http://world-fr.openfoodfacts.org/produit/0000...</td>\n      <td>usda-ndb-import</td>\n      <td>1489069957</td>\n      <td>2017-03-09T14:32:37Z</td>\n      <td>1489069957</td>\n      <td>2017-03-09T14:32:37Z</td>\n      <td>Peanuts</td>\n      <td>NaN</td>\n      <td>NaN</td>\n      <td>...</td>\n      <td>NaN</td>\n      <td>NaN</td>\n      <td>NaN</td>\n      <td>NaN</td>\n      <td>NaN</td>\n      <td>NaN</td>\n      <td>0.0</td>\n      <td>0.0</td>\n      <td>NaN</td>\n      <td>NaN</td>\n    </tr>\n    <tr>\n      <th>3</th>\n      <td>16087</td>\n      <td>http://world-fr.openfoodfacts.org/produit/0000...</td>\n      <td>usda-ndb-import</td>\n      <td>1489055731</td>\n      <td>2017-03-09T10:35:31Z</td>\n      <td>1489055731</td>\n      <td>2017-03-09T10:35:31Z</td>\n      <td>Organic Salted Nut Mix</td>\n      <td>NaN</td>\n      <td>NaN</td>\n      <td>...</td>\n      <td>NaN</td>\n      <td>NaN</td>\n      <td>NaN</td>\n      <td>NaN</td>\n      <td>NaN</td>\n      <td>NaN</td>\n      <td>12.0</td>\n      <td>12.0</td>\n      <td>NaN</td>\n      <td>NaN</td>\n    </tr>\n    <tr>\n      <th>4</th>\n      <td>16094</td>\n      <td>http://world-fr.openfoodfacts.org/produit/0000...</td>\n      <td>usda-ndb-import</td>\n      <td>1489055653</td>\n      <td>2017-03-09T10:34:13Z</td>\n      <td>1489055653</td>\n      <td>2017-03-09T10:34:13Z</td>\n      <td>Organic Polenta</td>\n      <td>NaN</td>\n      <td>NaN</td>\n      <td>...</td>\n      <td>NaN</td>\n      <td>NaN</td>\n      <td>NaN</td>\n      <td>NaN</td>\n      <td>NaN</td>\n      <td>NaN</td>\n      <td>NaN</td>\n      <td>NaN</td>\n      <td>NaN</td>\n      <td>NaN</td>\n    </tr>\n    <tr>\n      <th>...</th>\n      <td>...</td>\n      <td>...</td>\n      <td>...</td>\n      <td>...</td>\n      <td>...</td>\n      <td>...</td>\n      <td>...</td>\n      <td>...</td>\n      <td>...</td>\n      <td>...</td>\n      <td>...</td>\n      <td>...</td>\n      <td>...</td>\n      <td>...</td>\n      <td>...</td>\n      <td>...</td>\n      <td>...</td>\n      <td>...</td>\n      <td>...</td>\n      <td>...</td>\n      <td>...</td>\n    </tr>\n    <tr>\n      <th>320767</th>\n      <td>9948282780603</td>\n      <td>http://world-fr.openfoodfacts.org/produit/9948...</td>\n      <td>openfoodfacts-contributors</td>\n      <td>1490631299</td>\n      <td>2017-03-27T16:14:59Z</td>\n      <td>1491244498</td>\n      <td>2017-04-03T18:34:58Z</td>\n      <td>Tomato &amp; ricotta</td>\n      <td>NaN</td>\n      <td>1</td>\n      <td>...</td>\n      <td>NaN</td>\n      <td>NaN</td>\n      <td>NaN</td>\n      <td>NaN</td>\n      <td>NaN</td>\n      <td>NaN</td>\n      <td>NaN</td>\n      <td>NaN</td>\n      <td>NaN</td>\n      <td>NaN</td>\n    </tr>\n    <tr>\n      <th>320768</th>\n      <td>99567453</td>\n      <td>http://world-fr.openfoodfacts.org/produit/9956...</td>\n      <td>usda-ndb-import</td>\n      <td>1489059076</td>\n      <td>2017-03-09T11:31:16Z</td>\n      <td>1491244499</td>\n      <td>2017-04-03T18:34:59Z</td>\n      <td>Mint Melange Tea A Blend Of Peppermint, Lemon ...</td>\n      <td>NaN</td>\n      <td>NaN</td>\n      <td>...</td>\n      <td>NaN</td>\n      <td>NaN</td>\n      <td>NaN</td>\n      <td>NaN</td>\n      <td>NaN</td>\n      <td>NaN</td>\n      <td>0.0</td>\n      <td>0.0</td>\n      <td>NaN</td>\n      <td>NaN</td>\n    </tr>\n    <tr>\n      <th>320769</th>\n      <td>9970229501521</td>\n      <td>http://world-fr.openfoodfacts.org/produit/9970...</td>\n      <td>tomato</td>\n      <td>1422099377</td>\n      <td>2015-01-24T11:36:17Z</td>\n      <td>1491244499</td>\n      <td>2017-04-03T18:34:59Z</td>\n      <td>乐吧泡菜味薯片</td>\n      <td>Leba pickle flavor potato chips</td>\n      <td>50 g</td>\n      <td>...</td>\n      <td>NaN</td>\n      <td>NaN</td>\n      <td>NaN</td>\n      <td>NaN</td>\n      <td>NaN</td>\n      <td>NaN</td>\n      <td>NaN</td>\n      <td>NaN</td>\n      <td>NaN</td>\n      <td>NaN</td>\n    </tr>\n    <tr>\n      <th>320770</th>\n      <td>9980282863788</td>\n      <td>http://world-fr.openfoodfacts.org/produit/9980...</td>\n      <td>openfoodfacts-contributors</td>\n      <td>1492340089</td>\n      <td>2017-04-16T10:54:49Z</td>\n      <td>1492340089</td>\n      <td>2017-04-16T10:54:49Z</td>\n      <td>Tomates aux Vermicelles</td>\n      <td>NaN</td>\n      <td>67g</td>\n      <td>...</td>\n      <td>NaN</td>\n      <td>NaN</td>\n      <td>NaN</td>\n      <td>NaN</td>\n      <td>NaN</td>\n      <td>NaN</td>\n      <td>NaN</td>\n      <td>NaN</td>\n      <td>NaN</td>\n      <td>NaN</td>\n    </tr>\n    <tr>\n      <th>320771</th>\n      <td>999990026839</td>\n      <td>http://world-fr.openfoodfacts.org/produit/9999...</td>\n      <td>usda-ndb-import</td>\n      <td>1489072709</td>\n      <td>2017-03-09T15:18:29Z</td>\n      <td>1491244499</td>\n      <td>2017-04-03T18:34:59Z</td>\n      <td>Sugar Free Drink Mix, Peach Tea</td>\n      <td>NaN</td>\n      <td>NaN</td>\n      <td>...</td>\n      <td>NaN</td>\n      <td>NaN</td>\n      <td>NaN</td>\n      <td>NaN</td>\n      <td>NaN</td>\n      <td>NaN</td>\n      <td>NaN</td>\n      <td>NaN</td>\n      <td>NaN</td>\n      <td>NaN</td>\n    </tr>\n  </tbody>\n</table>\n<p>320772 rows × 162 columns</p>\n</div>"
     },
     "execution_count": 53,
     "metadata": {},
     "output_type": "execute_result"
    }
   ],
   "source": [
    "open_food_fact.drop_duplicates()"
   ],
   "metadata": {
    "collapsed": false,
    "pycharm": {
     "name": "#%%\n"
    }
   }
  },
  {
   "cell_type": "code",
   "execution_count": 54,
   "metadata": {
    "pycharm": {
     "name": "#%%\n"
    }
   },
   "outputs": [
    {
     "data": {
      "text/plain": "code                           23\nurl                            23\ncreator                         2\ncreated_t                       3\ncreated_datetime                9\n                            ...  \ncarbon-footprint_100g      320504\nnutrition-score-fr_100g     99562\nnutrition-score-uk_100g     99562\nglycemic-index_100g        320772\nwater-hardness_100g        320772\nLength: 162, dtype: int64"
     },
     "execution_count": 54,
     "metadata": {},
     "output_type": "execute_result"
    }
   ],
   "source": [
    "open_food_fact.isnull().sum()"
   ]
  },
  {
   "cell_type": "code",
   "execution_count": 55,
   "outputs": [
    {
     "name": "stdout",
     "output_type": "stream",
     "text": [
      "<class 'pandas.core.frame.DataFrame'>\n",
      "RangeIndex: 320772 entries, 0 to 320771\n",
      "Columns: 162 entries, code to water-hardness_100g\n",
      "dtypes: float64(106), object(56)\n",
      "memory usage: 396.5+ MB\n"
     ]
    }
   ],
   "source": [
    "open_food_fact.info()"
   ],
   "metadata": {
    "collapsed": false,
    "pycharm": {
     "name": "#%%\n"
    }
   }
  },
  {
   "cell_type": "code",
   "execution_count": 56,
   "metadata": {
    "pycharm": {
     "name": "#%%\n"
    }
   },
   "outputs": [
    {
     "data": {
      "text/plain": "Index(['code', 'url', 'creator', 'created_t', 'created_datetime',\n       'last_modified_t', 'last_modified_datetime', 'product_name',\n       'generic_name', 'quantity',\n       ...\n       'ph_100g', 'fruits-vegetables-nuts_100g',\n       'collagen-meat-protein-ratio_100g', 'cocoa_100g', 'chlorophyl_100g',\n       'carbon-footprint_100g', 'nutrition-score-fr_100g',\n       'nutrition-score-uk_100g', 'glycemic-index_100g',\n       'water-hardness_100g'],\n      dtype='object', length=162)"
     },
     "execution_count": 56,
     "metadata": {},
     "output_type": "execute_result"
    }
   ],
   "source": [
    "open_food_fact.columns"
   ]
  },
  {
   "cell_type": "markdown",
   "metadata": {
    "pycharm": {
     "name": "#%% md\n"
    }
   },
   "source": [
    "### 2 - Application idea.\n",
    "\n",
    "We start by selecting the useful indicators to have the consumption of sugar by food. So I took all the sugars and their derivatives as well as the different information that could be useful for the consumer and the nutriscore."
   ]
  },
  {
   "cell_type": "code",
   "execution_count": 57,
   "metadata": {
    "pycharm": {
     "name": "#%%\n"
    }
   },
   "outputs": [],
   "source": [
    "selection =  [\"code\", \"product_name\", \"pnns_groups_1\", \"countries_tags\", \"countries_fr\", \"carbohydrates_100g\", \"sugars_100g\", \"sucrose_100g\", \"glucose_100g\", \"fructose_100g\", \"lactose_100g\", \"maltose_100g\", \"nutrition-score-fr_100g\", \"energy_100g\",\"proteins_100g\", \"nutrition_grade_fr\"]"
   ]
  },
  {
   "cell_type": "code",
   "execution_count": 58,
   "metadata": {
    "pycharm": {
     "name": "#%%\n"
    }
   },
   "outputs": [],
   "source": [
    "open_food_fact1 = open_food_fact[selection]"
   ]
  },
  {
   "cell_type": "code",
   "execution_count": 59,
   "outputs": [
    {
     "data": {
      "text/plain": "code                           23\nproduct_name                17762\npnns_groups_1              229259\ncountries_tags                280\ncountries_fr                  280\ncarbohydrates_100g          77184\nsugars_100g                 75801\nsucrose_100g               320700\nglucose_100g               320746\nfructose_100g              320734\nlactose_100g               320510\nmaltose_100g               320768\nnutrition-score-fr_100g     99562\nenergy_100g                 59659\nproteins_100g               60850\nnutrition_grade_fr          99562\ndtype: int64"
     },
     "execution_count": 59,
     "metadata": {},
     "output_type": "execute_result"
    }
   ],
   "source": [
    "open_food_fact1.isnull().sum()"
   ],
   "metadata": {
    "collapsed": false,
    "pycharm": {
     "name": "#%%\n"
    }
   }
  },
  {
   "cell_type": "code",
   "execution_count": 60,
   "metadata": {
    "pycharm": {
     "name": "#%%\n"
    }
   },
   "outputs": [
    {
     "data": {
      "text/plain": "    code                    product_name pnns_groups_1    countries_tags  \\\n0   3087              Farine de blé noir           NaN         en:france   \n1   4530  Banana Chips Sweetened (Whole)           NaN  en:united-states   \n2   4559                         Peanuts           NaN  en:united-states   \n3  16087          Organic Salted Nut Mix           NaN  en:united-states   \n4  16094                 Organic Polenta           NaN  en:united-states   \n\n  countries_fr  carbohydrates_100g  sugars_100g  sucrose_100g  glucose_100g  \\\n0       France                 NaN          NaN           NaN           NaN   \n1   États-Unis               64.29        14.29           NaN           NaN   \n2   États-Unis               60.71        17.86           NaN           NaN   \n3   États-Unis               17.86         3.57           NaN           NaN   \n4   États-Unis               77.14          NaN           NaN           NaN   \n\n   fructose_100g  lactose_100g  maltose_100g  nutrition-score-fr_100g  \\\n0            NaN           NaN           NaN                      NaN   \n1            NaN           NaN           NaN                     14.0   \n2            NaN           NaN           NaN                      0.0   \n3            NaN           NaN           NaN                     12.0   \n4            NaN           NaN           NaN                      NaN   \n\n   energy_100g  proteins_100g nutrition_grade_fr  \n0          NaN            NaN                NaN  \n1       2243.0           3.57                  d  \n2       1941.0          17.86                  b  \n3       2540.0          17.86                  d  \n4       1552.0           8.57                NaN  ",
      "text/html": "<div>\n<style scoped>\n    .dataframe tbody tr th:only-of-type {\n        vertical-align: middle;\n    }\n\n    .dataframe tbody tr th {\n        vertical-align: top;\n    }\n\n    .dataframe thead th {\n        text-align: right;\n    }\n</style>\n<table border=\"1\" class=\"dataframe\">\n  <thead>\n    <tr style=\"text-align: right;\">\n      <th></th>\n      <th>code</th>\n      <th>product_name</th>\n      <th>pnns_groups_1</th>\n      <th>countries_tags</th>\n      <th>countries_fr</th>\n      <th>carbohydrates_100g</th>\n      <th>sugars_100g</th>\n      <th>sucrose_100g</th>\n      <th>glucose_100g</th>\n      <th>fructose_100g</th>\n      <th>lactose_100g</th>\n      <th>maltose_100g</th>\n      <th>nutrition-score-fr_100g</th>\n      <th>energy_100g</th>\n      <th>proteins_100g</th>\n      <th>nutrition_grade_fr</th>\n    </tr>\n  </thead>\n  <tbody>\n    <tr>\n      <th>0</th>\n      <td>3087</td>\n      <td>Farine de blé noir</td>\n      <td>NaN</td>\n      <td>en:france</td>\n      <td>France</td>\n      <td>NaN</td>\n      <td>NaN</td>\n      <td>NaN</td>\n      <td>NaN</td>\n      <td>NaN</td>\n      <td>NaN</td>\n      <td>NaN</td>\n      <td>NaN</td>\n      <td>NaN</td>\n      <td>NaN</td>\n      <td>NaN</td>\n    </tr>\n    <tr>\n      <th>1</th>\n      <td>4530</td>\n      <td>Banana Chips Sweetened (Whole)</td>\n      <td>NaN</td>\n      <td>en:united-states</td>\n      <td>États-Unis</td>\n      <td>64.29</td>\n      <td>14.29</td>\n      <td>NaN</td>\n      <td>NaN</td>\n      <td>NaN</td>\n      <td>NaN</td>\n      <td>NaN</td>\n      <td>14.0</td>\n      <td>2243.0</td>\n      <td>3.57</td>\n      <td>d</td>\n    </tr>\n    <tr>\n      <th>2</th>\n      <td>4559</td>\n      <td>Peanuts</td>\n      <td>NaN</td>\n      <td>en:united-states</td>\n      <td>États-Unis</td>\n      <td>60.71</td>\n      <td>17.86</td>\n      <td>NaN</td>\n      <td>NaN</td>\n      <td>NaN</td>\n      <td>NaN</td>\n      <td>NaN</td>\n      <td>0.0</td>\n      <td>1941.0</td>\n      <td>17.86</td>\n      <td>b</td>\n    </tr>\n    <tr>\n      <th>3</th>\n      <td>16087</td>\n      <td>Organic Salted Nut Mix</td>\n      <td>NaN</td>\n      <td>en:united-states</td>\n      <td>États-Unis</td>\n      <td>17.86</td>\n      <td>3.57</td>\n      <td>NaN</td>\n      <td>NaN</td>\n      <td>NaN</td>\n      <td>NaN</td>\n      <td>NaN</td>\n      <td>12.0</td>\n      <td>2540.0</td>\n      <td>17.86</td>\n      <td>d</td>\n    </tr>\n    <tr>\n      <th>4</th>\n      <td>16094</td>\n      <td>Organic Polenta</td>\n      <td>NaN</td>\n      <td>en:united-states</td>\n      <td>États-Unis</td>\n      <td>77.14</td>\n      <td>NaN</td>\n      <td>NaN</td>\n      <td>NaN</td>\n      <td>NaN</td>\n      <td>NaN</td>\n      <td>NaN</td>\n      <td>NaN</td>\n      <td>1552.0</td>\n      <td>8.57</td>\n      <td>NaN</td>\n    </tr>\n  </tbody>\n</table>\n</div>"
     },
     "execution_count": 60,
     "metadata": {},
     "output_type": "execute_result"
    }
   ],
   "source": [
    "open_food_fact1.head()"
   ]
  },
  {
   "cell_type": "markdown",
   "metadata": {
    "pycharm": {
     "name": "#%% md\n"
    }
   },
   "source": [
    "### 2 - Treatment of outliers\n",
    "\n",
    "To deal with outliers for quantitative variables:\n",
    "I decided to take all the values above 100 and below 0 since these are values that must be between 0 and 100 grams then I deleted them.\n"
   ]
  },
  {
   "cell_type": "code",
   "execution_count": 61,
   "outputs": [
    {
     "name": "stderr",
     "output_type": "stream",
     "text": [
      "C:\\Users\\houda\\AppData\\Local\\Temp\\ipykernel_6352\\3799120611.py:1: SettingWithCopyWarning: \n",
      "A value is trying to be set on a copy of a slice from a DataFrame.\n",
      "Try using .loc[row_indexer,col_indexer] = value instead\n",
      "\n",
      "See the caveats in the documentation: https://pandas.pydata.org/pandas-docs/stable/user_guide/indexing.html#returning-a-view-versus-a-copy\n",
      "  open_food_fact1['pnns_groups_1'] = open_food_fact1['pnns_groups_1'].apply(lambda x: str(x).replace('-', ' '))\n",
      "C:\\Users\\houda\\AppData\\Local\\Temp\\ipykernel_6352\\3799120611.py:2: SettingWithCopyWarning: \n",
      "A value is trying to be set on a copy of a slice from a DataFrame.\n",
      "Try using .loc[row_indexer,col_indexer] = value instead\n",
      "\n",
      "See the caveats in the documentation: https://pandas.pydata.org/pandas-docs/stable/user_guide/indexing.html#returning-a-view-versus-a-copy\n",
      "  open_food_fact1['pnns_groups_1'] = open_food_fact1['pnns_groups_1'].str.lower()\n",
      "C:\\Users\\houda\\AppData\\Local\\Temp\\ipykernel_6352\\3799120611.py:3: SettingWithCopyWarning: \n",
      "A value is trying to be set on a copy of a slice from a DataFrame.\n",
      "Try using .loc[row_indexer,col_indexer] = value instead\n",
      "\n",
      "See the caveats in the documentation: https://pandas.pydata.org/pandas-docs/stable/user_guide/indexing.html#returning-a-view-versus-a-copy\n",
      "  open_food_fact1['pnns_groups_1'] = open_food_fact1['pnns_groups_1'].str.strip()\n"
     ]
    }
   ],
   "source": [
    "open_food_fact1['pnns_groups_1'] = open_food_fact1['pnns_groups_1'].apply(lambda x: str(x).replace('-', ' '))\n",
    "open_food_fact1['pnns_groups_1'] = open_food_fact1['pnns_groups_1'].str.lower()\n",
    "open_food_fact1['pnns_groups_1'] = open_food_fact1['pnns_groups_1'].str.strip()"
   ],
   "metadata": {
    "collapsed": false,
    "pycharm": {
     "name": "#%%\n"
    }
   }
  },
  {
   "cell_type": "code",
   "execution_count": 62,
   "outputs": [],
   "source": [
    "a = open_food_fact1[open_food_fact1.pnns_groups_1.str.contains('unknow')]"
   ],
   "metadata": {
    "collapsed": false,
    "pycharm": {
     "name": "#%%\n"
    }
   }
  },
  {
   "cell_type": "code",
   "execution_count": 63,
   "outputs": [
    {
     "data": {
      "text/plain": "array(['nan', 'unknown', 'fruits and vegetables', 'sugary snacks',\n       'cereals and potatoes', 'composite foods', 'fish meat eggs',\n       'beverages', 'fat and sauces', 'milk and dairy products',\n       'salty snacks'], dtype=object)"
     },
     "execution_count": 63,
     "metadata": {},
     "output_type": "execute_result"
    }
   ],
   "source": [
    "open_food_fact1.pnns_groups_1.unique()"
   ],
   "metadata": {
    "collapsed": false,
    "pycharm": {
     "name": "#%%\n"
    }
   }
  },
  {
   "cell_type": "code",
   "execution_count": 64,
   "outputs": [
    {
     "data": {
      "text/plain": "                 code                                       product_name  \\\n0                3087                                 Farine de blé noir   \n1                4530                     Banana Chips Sweetened (Whole)   \n2                4559                                            Peanuts   \n3               16087                             Organic Salted Nut Mix   \n4               16094                                    Organic Polenta   \n...               ...                                                ...   \n320767  9948282780603                                  Tomato & ricotta    \n320768       99567453  Mint Melange Tea A Blend Of Peppermint, Lemon ...   \n320769  9970229501521                                            乐吧泡菜味薯片   \n320770  9980282863788                           Tomates aux Vermicelles    \n320771   999990026839                    Sugar Free Drink Mix, Peach Tea   \n\n       pnns_groups_1    countries_tags countries_fr  carbohydrates_100g  \\\n0                nan         en:france       France                 NaN   \n1                nan  en:united-states   États-Unis               64.29   \n2                nan  en:united-states   États-Unis               60.71   \n3                nan  en:united-states   États-Unis               17.86   \n4                nan  en:united-states   États-Unis               77.14   \n...              ...               ...          ...                 ...   \n320767           nan        en:romania     Roumanie                 NaN   \n320768           nan  en:united-states   États-Unis                0.00   \n320769  salty snacks          en:china        Chine                 NaN   \n320770           nan         en:france       France                 NaN   \n320771           nan  en:united-states   États-Unis                0.00   \n\n        sugars_100g  sucrose_100g  glucose_100g  fructose_100g  lactose_100g  \\\n0               NaN           NaN           NaN            NaN           NaN   \n1             14.29           NaN           NaN            NaN           NaN   \n2             17.86           NaN           NaN            NaN           NaN   \n3              3.57           NaN           NaN            NaN           NaN   \n4               NaN           NaN           NaN            NaN           NaN   \n...             ...           ...           ...            ...           ...   \n320767          NaN           NaN           NaN            NaN           NaN   \n320768         0.00           NaN           NaN            NaN           NaN   \n320769          NaN           NaN           NaN            NaN           NaN   \n320770          NaN           NaN           NaN            NaN           NaN   \n320771         0.00           NaN           NaN            NaN           NaN   \n\n        maltose_100g  nutrition-score-fr_100g  energy_100g  proteins_100g  \\\n0                NaN                      NaN          NaN            NaN   \n1                NaN                     14.0       2243.0           3.57   \n2                NaN                      0.0       1941.0          17.86   \n3                NaN                     12.0       2540.0          17.86   \n4                NaN                      NaN       1552.0           8.57   \n...              ...                      ...          ...            ...   \n320767           NaN                      NaN          NaN            NaN   \n320768           NaN                      0.0          0.0           0.00   \n320769           NaN                      NaN          NaN            NaN   \n320770           NaN                      NaN          NaN            NaN   \n320771           NaN                      NaN       2092.0           0.00   \n\n       nutrition_grade_fr  \n0                     NaN  \n1                       d  \n2                       b  \n3                       d  \n4                     NaN  \n...                   ...  \n320767                NaN  \n320768                  b  \n320769                NaN  \n320770                NaN  \n320771                NaN  \n\n[320772 rows x 16 columns]",
      "text/html": "<div>\n<style scoped>\n    .dataframe tbody tr th:only-of-type {\n        vertical-align: middle;\n    }\n\n    .dataframe tbody tr th {\n        vertical-align: top;\n    }\n\n    .dataframe thead th {\n        text-align: right;\n    }\n</style>\n<table border=\"1\" class=\"dataframe\">\n  <thead>\n    <tr style=\"text-align: right;\">\n      <th></th>\n      <th>code</th>\n      <th>product_name</th>\n      <th>pnns_groups_1</th>\n      <th>countries_tags</th>\n      <th>countries_fr</th>\n      <th>carbohydrates_100g</th>\n      <th>sugars_100g</th>\n      <th>sucrose_100g</th>\n      <th>glucose_100g</th>\n      <th>fructose_100g</th>\n      <th>lactose_100g</th>\n      <th>maltose_100g</th>\n      <th>nutrition-score-fr_100g</th>\n      <th>energy_100g</th>\n      <th>proteins_100g</th>\n      <th>nutrition_grade_fr</th>\n    </tr>\n  </thead>\n  <tbody>\n    <tr>\n      <th>0</th>\n      <td>3087</td>\n      <td>Farine de blé noir</td>\n      <td>nan</td>\n      <td>en:france</td>\n      <td>France</td>\n      <td>NaN</td>\n      <td>NaN</td>\n      <td>NaN</td>\n      <td>NaN</td>\n      <td>NaN</td>\n      <td>NaN</td>\n      <td>NaN</td>\n      <td>NaN</td>\n      <td>NaN</td>\n      <td>NaN</td>\n      <td>NaN</td>\n    </tr>\n    <tr>\n      <th>1</th>\n      <td>4530</td>\n      <td>Banana Chips Sweetened (Whole)</td>\n      <td>nan</td>\n      <td>en:united-states</td>\n      <td>États-Unis</td>\n      <td>64.29</td>\n      <td>14.29</td>\n      <td>NaN</td>\n      <td>NaN</td>\n      <td>NaN</td>\n      <td>NaN</td>\n      <td>NaN</td>\n      <td>14.0</td>\n      <td>2243.0</td>\n      <td>3.57</td>\n      <td>d</td>\n    </tr>\n    <tr>\n      <th>2</th>\n      <td>4559</td>\n      <td>Peanuts</td>\n      <td>nan</td>\n      <td>en:united-states</td>\n      <td>États-Unis</td>\n      <td>60.71</td>\n      <td>17.86</td>\n      <td>NaN</td>\n      <td>NaN</td>\n      <td>NaN</td>\n      <td>NaN</td>\n      <td>NaN</td>\n      <td>0.0</td>\n      <td>1941.0</td>\n      <td>17.86</td>\n      <td>b</td>\n    </tr>\n    <tr>\n      <th>3</th>\n      <td>16087</td>\n      <td>Organic Salted Nut Mix</td>\n      <td>nan</td>\n      <td>en:united-states</td>\n      <td>États-Unis</td>\n      <td>17.86</td>\n      <td>3.57</td>\n      <td>NaN</td>\n      <td>NaN</td>\n      <td>NaN</td>\n      <td>NaN</td>\n      <td>NaN</td>\n      <td>12.0</td>\n      <td>2540.0</td>\n      <td>17.86</td>\n      <td>d</td>\n    </tr>\n    <tr>\n      <th>4</th>\n      <td>16094</td>\n      <td>Organic Polenta</td>\n      <td>nan</td>\n      <td>en:united-states</td>\n      <td>États-Unis</td>\n      <td>77.14</td>\n      <td>NaN</td>\n      <td>NaN</td>\n      <td>NaN</td>\n      <td>NaN</td>\n      <td>NaN</td>\n      <td>NaN</td>\n      <td>NaN</td>\n      <td>1552.0</td>\n      <td>8.57</td>\n      <td>NaN</td>\n    </tr>\n    <tr>\n      <th>...</th>\n      <td>...</td>\n      <td>...</td>\n      <td>...</td>\n      <td>...</td>\n      <td>...</td>\n      <td>...</td>\n      <td>...</td>\n      <td>...</td>\n      <td>...</td>\n      <td>...</td>\n      <td>...</td>\n      <td>...</td>\n      <td>...</td>\n      <td>...</td>\n      <td>...</td>\n      <td>...</td>\n    </tr>\n    <tr>\n      <th>320767</th>\n      <td>9948282780603</td>\n      <td>Tomato &amp; ricotta</td>\n      <td>nan</td>\n      <td>en:romania</td>\n      <td>Roumanie</td>\n      <td>NaN</td>\n      <td>NaN</td>\n      <td>NaN</td>\n      <td>NaN</td>\n      <td>NaN</td>\n      <td>NaN</td>\n      <td>NaN</td>\n      <td>NaN</td>\n      <td>NaN</td>\n      <td>NaN</td>\n      <td>NaN</td>\n    </tr>\n    <tr>\n      <th>320768</th>\n      <td>99567453</td>\n      <td>Mint Melange Tea A Blend Of Peppermint, Lemon ...</td>\n      <td>nan</td>\n      <td>en:united-states</td>\n      <td>États-Unis</td>\n      <td>0.00</td>\n      <td>0.00</td>\n      <td>NaN</td>\n      <td>NaN</td>\n      <td>NaN</td>\n      <td>NaN</td>\n      <td>NaN</td>\n      <td>0.0</td>\n      <td>0.0</td>\n      <td>0.00</td>\n      <td>b</td>\n    </tr>\n    <tr>\n      <th>320769</th>\n      <td>9970229501521</td>\n      <td>乐吧泡菜味薯片</td>\n      <td>salty snacks</td>\n      <td>en:china</td>\n      <td>Chine</td>\n      <td>NaN</td>\n      <td>NaN</td>\n      <td>NaN</td>\n      <td>NaN</td>\n      <td>NaN</td>\n      <td>NaN</td>\n      <td>NaN</td>\n      <td>NaN</td>\n      <td>NaN</td>\n      <td>NaN</td>\n      <td>NaN</td>\n    </tr>\n    <tr>\n      <th>320770</th>\n      <td>9980282863788</td>\n      <td>Tomates aux Vermicelles</td>\n      <td>nan</td>\n      <td>en:france</td>\n      <td>France</td>\n      <td>NaN</td>\n      <td>NaN</td>\n      <td>NaN</td>\n      <td>NaN</td>\n      <td>NaN</td>\n      <td>NaN</td>\n      <td>NaN</td>\n      <td>NaN</td>\n      <td>NaN</td>\n      <td>NaN</td>\n      <td>NaN</td>\n    </tr>\n    <tr>\n      <th>320771</th>\n      <td>999990026839</td>\n      <td>Sugar Free Drink Mix, Peach Tea</td>\n      <td>nan</td>\n      <td>en:united-states</td>\n      <td>États-Unis</td>\n      <td>0.00</td>\n      <td>0.00</td>\n      <td>NaN</td>\n      <td>NaN</td>\n      <td>NaN</td>\n      <td>NaN</td>\n      <td>NaN</td>\n      <td>NaN</td>\n      <td>2092.0</td>\n      <td>0.00</td>\n      <td>NaN</td>\n    </tr>\n  </tbody>\n</table>\n<p>320772 rows × 16 columns</p>\n</div>"
     },
     "execution_count": 64,
     "metadata": {},
     "output_type": "execute_result"
    }
   ],
   "source": [
    "open_food_fact1"
   ],
   "metadata": {
    "collapsed": false,
    "pycharm": {
     "name": "#%%\n"
    }
   }
  },
  {
   "cell_type": "code",
   "execution_count": 65,
   "outputs": [],
   "source": [
    "groups = list(open_food_fact1['pnns_groups_1'].unique())"
   ],
   "metadata": {
    "collapsed": false,
    "pycharm": {
     "name": "#%%\n"
    }
   }
  },
  {
   "cell_type": "code",
   "execution_count": 66,
   "outputs": [
    {
     "data": {
      "text/plain": "['nan',\n 'unknown',\n 'fruits and vegetables',\n 'sugary snacks',\n 'cereals and potatoes',\n 'composite foods',\n 'fish meat eggs',\n 'beverages',\n 'fat and sauces',\n 'milk and dairy products',\n 'salty snacks']"
     },
     "execution_count": 66,
     "metadata": {},
     "output_type": "execute_result"
    }
   ],
   "source": [
    "groups"
   ],
   "metadata": {
    "collapsed": false,
    "pycharm": {
     "name": "#%%\n"
    }
   }
  },
  {
   "cell_type": "code",
   "execution_count": 67,
   "outputs": [],
   "source": [
    "#sugars= [\"carbohydrates_100g\", \"sugars_100g\"]\n",
    "#for elmt in groups:\n",
    "#    group = groups[elmt]\n",
    "#    for e in sugars:\n",
    "#        Q3 = np.quantile(open_food_fact1[open_food_fact1[\"pnns_groups_1\"] == elmt][e], 0.75)\n",
    "#        Q1 = np.quantile(open_food_fact1[open_food_fact1[\"pnns_groups_1\"] == elmt][e], 0.75)\n",
    "#        IQR = Q3 - Q1\n",
    "#        iter = []\n",
    "#        for i in index:\n",
    "#            if (open_food_fact1.loc[i,'carbohydrates_100g'] < Q1 - IQR * 1,5) or (open_food_fact1.loc[i,'carbohydrates_100g'] > Q3 - IQR * 1,5):\n",
    "#                open_food_fact1.[i, e].replace(to_replace=open_food_fact1.[i, e], value=np.nan)\n",
    "        #print([group[e] > Q3 + IQR * 1,5])\n",
    "        #open_food_fact1[group[e] > Q3 + IQR * 1,5].index\n",
    "        #open_food_fact1.drop(group[group[e] < Q1 - IQR * 1,5].index, inplace=True)"
   ],
   "metadata": {
    "collapsed": false,
    "pycharm": {
     "name": "#%%\n"
    }
   }
  },
  {
   "cell_type": "code",
   "execution_count": 68,
   "outputs": [
    {
     "data": {
      "text/plain": "                 code                                       product_name  \\\n0                3087                                 Farine de blé noir   \n1                4530                     Banana Chips Sweetened (Whole)   \n2                4559                                            Peanuts   \n3               16087                             Organic Salted Nut Mix   \n4               16094                                    Organic Polenta   \n...               ...                                                ...   \n320767  9948282780603                                  Tomato & ricotta    \n320768       99567453  Mint Melange Tea A Blend Of Peppermint, Lemon ...   \n320769  9970229501521                                            乐吧泡菜味薯片   \n320770  9980282863788                           Tomates aux Vermicelles    \n320771   999990026839                    Sugar Free Drink Mix, Peach Tea   \n\n       pnns_groups_1    countries_tags countries_fr  carbohydrates_100g  \\\n0                nan         en:france       France                 NaN   \n1                nan  en:united-states   États-Unis               64.29   \n2                nan  en:united-states   États-Unis               60.71   \n3                nan  en:united-states   États-Unis               17.86   \n4                nan  en:united-states   États-Unis               77.14   \n...              ...               ...          ...                 ...   \n320767           nan        en:romania     Roumanie                 NaN   \n320768           nan  en:united-states   États-Unis                0.00   \n320769  salty snacks          en:china        Chine                 NaN   \n320770           nan         en:france       France                 NaN   \n320771           nan  en:united-states   États-Unis                0.00   \n\n        sugars_100g  sucrose_100g  glucose_100g  fructose_100g  lactose_100g  \\\n0               NaN           NaN           NaN            NaN           NaN   \n1             14.29           NaN           NaN            NaN           NaN   \n2             17.86           NaN           NaN            NaN           NaN   \n3              3.57           NaN           NaN            NaN           NaN   \n4               NaN           NaN           NaN            NaN           NaN   \n...             ...           ...           ...            ...           ...   \n320767          NaN           NaN           NaN            NaN           NaN   \n320768         0.00           NaN           NaN            NaN           NaN   \n320769          NaN           NaN           NaN            NaN           NaN   \n320770          NaN           NaN           NaN            NaN           NaN   \n320771         0.00           NaN           NaN            NaN           NaN   \n\n        maltose_100g  nutrition-score-fr_100g  energy_100g  proteins_100g  \\\n0                NaN                      NaN          NaN            NaN   \n1                NaN                     14.0       2243.0           3.57   \n2                NaN                      0.0       1941.0          17.86   \n3                NaN                     12.0       2540.0          17.86   \n4                NaN                      NaN       1552.0           8.57   \n...              ...                      ...          ...            ...   \n320767           NaN                      NaN          NaN            NaN   \n320768           NaN                      0.0          0.0           0.00   \n320769           NaN                      NaN          NaN            NaN   \n320770           NaN                      NaN          NaN            NaN   \n320771           NaN                      NaN       2092.0           0.00   \n\n       nutrition_grade_fr  \n0                     NaN  \n1                       d  \n2                       b  \n3                       d  \n4                     NaN  \n...                   ...  \n320767                NaN  \n320768                  b  \n320769                NaN  \n320770                NaN  \n320771                NaN  \n\n[320772 rows x 16 columns]",
      "text/html": "<div>\n<style scoped>\n    .dataframe tbody tr th:only-of-type {\n        vertical-align: middle;\n    }\n\n    .dataframe tbody tr th {\n        vertical-align: top;\n    }\n\n    .dataframe thead th {\n        text-align: right;\n    }\n</style>\n<table border=\"1\" class=\"dataframe\">\n  <thead>\n    <tr style=\"text-align: right;\">\n      <th></th>\n      <th>code</th>\n      <th>product_name</th>\n      <th>pnns_groups_1</th>\n      <th>countries_tags</th>\n      <th>countries_fr</th>\n      <th>carbohydrates_100g</th>\n      <th>sugars_100g</th>\n      <th>sucrose_100g</th>\n      <th>glucose_100g</th>\n      <th>fructose_100g</th>\n      <th>lactose_100g</th>\n      <th>maltose_100g</th>\n      <th>nutrition-score-fr_100g</th>\n      <th>energy_100g</th>\n      <th>proteins_100g</th>\n      <th>nutrition_grade_fr</th>\n    </tr>\n  </thead>\n  <tbody>\n    <tr>\n      <th>0</th>\n      <td>3087</td>\n      <td>Farine de blé noir</td>\n      <td>nan</td>\n      <td>en:france</td>\n      <td>France</td>\n      <td>NaN</td>\n      <td>NaN</td>\n      <td>NaN</td>\n      <td>NaN</td>\n      <td>NaN</td>\n      <td>NaN</td>\n      <td>NaN</td>\n      <td>NaN</td>\n      <td>NaN</td>\n      <td>NaN</td>\n      <td>NaN</td>\n    </tr>\n    <tr>\n      <th>1</th>\n      <td>4530</td>\n      <td>Banana Chips Sweetened (Whole)</td>\n      <td>nan</td>\n      <td>en:united-states</td>\n      <td>États-Unis</td>\n      <td>64.29</td>\n      <td>14.29</td>\n      <td>NaN</td>\n      <td>NaN</td>\n      <td>NaN</td>\n      <td>NaN</td>\n      <td>NaN</td>\n      <td>14.0</td>\n      <td>2243.0</td>\n      <td>3.57</td>\n      <td>d</td>\n    </tr>\n    <tr>\n      <th>2</th>\n      <td>4559</td>\n      <td>Peanuts</td>\n      <td>nan</td>\n      <td>en:united-states</td>\n      <td>États-Unis</td>\n      <td>60.71</td>\n      <td>17.86</td>\n      <td>NaN</td>\n      <td>NaN</td>\n      <td>NaN</td>\n      <td>NaN</td>\n      <td>NaN</td>\n      <td>0.0</td>\n      <td>1941.0</td>\n      <td>17.86</td>\n      <td>b</td>\n    </tr>\n    <tr>\n      <th>3</th>\n      <td>16087</td>\n      <td>Organic Salted Nut Mix</td>\n      <td>nan</td>\n      <td>en:united-states</td>\n      <td>États-Unis</td>\n      <td>17.86</td>\n      <td>3.57</td>\n      <td>NaN</td>\n      <td>NaN</td>\n      <td>NaN</td>\n      <td>NaN</td>\n      <td>NaN</td>\n      <td>12.0</td>\n      <td>2540.0</td>\n      <td>17.86</td>\n      <td>d</td>\n    </tr>\n    <tr>\n      <th>4</th>\n      <td>16094</td>\n      <td>Organic Polenta</td>\n      <td>nan</td>\n      <td>en:united-states</td>\n      <td>États-Unis</td>\n      <td>77.14</td>\n      <td>NaN</td>\n      <td>NaN</td>\n      <td>NaN</td>\n      <td>NaN</td>\n      <td>NaN</td>\n      <td>NaN</td>\n      <td>NaN</td>\n      <td>1552.0</td>\n      <td>8.57</td>\n      <td>NaN</td>\n    </tr>\n    <tr>\n      <th>...</th>\n      <td>...</td>\n      <td>...</td>\n      <td>...</td>\n      <td>...</td>\n      <td>...</td>\n      <td>...</td>\n      <td>...</td>\n      <td>...</td>\n      <td>...</td>\n      <td>...</td>\n      <td>...</td>\n      <td>...</td>\n      <td>...</td>\n      <td>...</td>\n      <td>...</td>\n      <td>...</td>\n    </tr>\n    <tr>\n      <th>320767</th>\n      <td>9948282780603</td>\n      <td>Tomato &amp; ricotta</td>\n      <td>nan</td>\n      <td>en:romania</td>\n      <td>Roumanie</td>\n      <td>NaN</td>\n      <td>NaN</td>\n      <td>NaN</td>\n      <td>NaN</td>\n      <td>NaN</td>\n      <td>NaN</td>\n      <td>NaN</td>\n      <td>NaN</td>\n      <td>NaN</td>\n      <td>NaN</td>\n      <td>NaN</td>\n    </tr>\n    <tr>\n      <th>320768</th>\n      <td>99567453</td>\n      <td>Mint Melange Tea A Blend Of Peppermint, Lemon ...</td>\n      <td>nan</td>\n      <td>en:united-states</td>\n      <td>États-Unis</td>\n      <td>0.00</td>\n      <td>0.00</td>\n      <td>NaN</td>\n      <td>NaN</td>\n      <td>NaN</td>\n      <td>NaN</td>\n      <td>NaN</td>\n      <td>0.0</td>\n      <td>0.0</td>\n      <td>0.00</td>\n      <td>b</td>\n    </tr>\n    <tr>\n      <th>320769</th>\n      <td>9970229501521</td>\n      <td>乐吧泡菜味薯片</td>\n      <td>salty snacks</td>\n      <td>en:china</td>\n      <td>Chine</td>\n      <td>NaN</td>\n      <td>NaN</td>\n      <td>NaN</td>\n      <td>NaN</td>\n      <td>NaN</td>\n      <td>NaN</td>\n      <td>NaN</td>\n      <td>NaN</td>\n      <td>NaN</td>\n      <td>NaN</td>\n      <td>NaN</td>\n    </tr>\n    <tr>\n      <th>320770</th>\n      <td>9980282863788</td>\n      <td>Tomates aux Vermicelles</td>\n      <td>nan</td>\n      <td>en:france</td>\n      <td>France</td>\n      <td>NaN</td>\n      <td>NaN</td>\n      <td>NaN</td>\n      <td>NaN</td>\n      <td>NaN</td>\n      <td>NaN</td>\n      <td>NaN</td>\n      <td>NaN</td>\n      <td>NaN</td>\n      <td>NaN</td>\n      <td>NaN</td>\n    </tr>\n    <tr>\n      <th>320771</th>\n      <td>999990026839</td>\n      <td>Sugar Free Drink Mix, Peach Tea</td>\n      <td>nan</td>\n      <td>en:united-states</td>\n      <td>États-Unis</td>\n      <td>0.00</td>\n      <td>0.00</td>\n      <td>NaN</td>\n      <td>NaN</td>\n      <td>NaN</td>\n      <td>NaN</td>\n      <td>NaN</td>\n      <td>NaN</td>\n      <td>2092.0</td>\n      <td>0.00</td>\n      <td>NaN</td>\n    </tr>\n  </tbody>\n</table>\n<p>320772 rows × 16 columns</p>\n</div>"
     },
     "execution_count": 68,
     "metadata": {},
     "output_type": "execute_result"
    }
   ],
   "source": [
    "open_food_fact1"
   ],
   "metadata": {
    "collapsed": false,
    "pycharm": {
     "name": "#%%\n"
    }
   }
  },
  {
   "cell_type": "code",
   "execution_count": 69,
   "outputs": [
    {
     "data": {
      "text/plain": "<function list.index(value, start=0, stop=9223372036854775807, /)>"
     },
     "execution_count": 69,
     "metadata": {},
     "output_type": "execute_result"
    }
   ],
   "source": [
    "[open_food_fact1['carbohydrates_100g'] > 100].index"
   ],
   "metadata": {
    "collapsed": false,
    "pycharm": {
     "name": "#%%\n"
    }
   }
  },
  {
   "cell_type": "code",
   "execution_count": 70,
   "outputs": [],
   "source": [
    "def computeOutliers(value:str, dataframe:pd.DataFrame, category:str, columns:list[str], outliers:dict[str, pd.DataFrame]) -> None:\n",
    "\n",
    "    # Formatage du nom de la sortie\n",
    "    formatted_name = 'outliers_{}'.format(value)\n",
    "\n",
    "    # Vérification si la sortie existe déjà dans le dictionnaire des valeurs aberrantes\n",
    "    df = outliers.get(formatted_name)\n",
    "\n",
    "    # Si la sortie n'existe pas, on la calcule et on l'ajoute au dictionnaire des valeurs aberrantes\n",
    "    if df is None:\n",
    "\n",
    "        # Calcul des statistiques descriptives pour les colonnes spécifiées dans \"columns\"\n",
    "        # Si \"value\" est \"all\", on calcule les statistiques descriptives pour l'ensemble du DataFrame\n",
    "        if value == 'all':\n",
    "            df = dataframe[columns].describe().T\n",
    "        # Sinon, on calcule les statistiques descriptives pour les données appartenant à la catégorie spécifiée dans \"category\"\n",
    "        else:\n",
    "            df = dataframe.loc[dataframe[category]==value, columns].describe().T\n",
    "\n",
    "        # Calcul de l'écart interquartile (IQR) pour chaque colonne\n",
    "        df['iqr'] = df['75%'] - df['25%']\n",
    "\n",
    "        # Calcul des limites supérieure et inférieure pour chaque colonne en utilisant la formule Q1 - 1,5*IQR pour la limite inférieure et Q3 + 1,5*IQR pour la limite supérieure\n",
    "        df['q1-1.5iqr'] = df['25%']-1.5*df['iqr']\n",
    "        df['q3+1.5iqr'] = df['75%']+1.5*df['iqr']\n",
    "\n",
    "        # Comptage du nombre de valeurs aberrantes pour chaque colonne en utilisant les limites supérieure et inférieure calculées\n",
    "        # Le nombre de valeurs aberrantes et le pourcentage de valeurs aberrantes sont ajoutés au DataFrame\n",
    "        df['outliers_count']=0\n",
    "        for idx in df.index:\n",
    "            if value == 'all':\n",
    "                df.loc[idx, 'outliers_count'] = dataframe.loc[(dataframe[idx]<df['q1-1.5iqr'][idx]) | (dataframe[idx]>df['q3+1.5iqr'][idx]), :].shape[0]\n",
    "            else:\n",
    "                df.loc[idx, 'outliers_count'] = dataframe.loc[(dataframe[category]==value) & ((dataframe[idx]<df['q1-1.5iqr'][idx]) | (dataframe[idx]>df['q3+1.5iqr'][idx])), :].shape[0]\n",
    "        df['outliers_percentage']=round(df['outliers_count']/df['count']*100, 2)\n",
    "\n",
    "        # Ajout du DataFrame au dictionnaire des valeurs aberrantes\n",
    "        outliers[formatted_name] = df\n"
   ],
   "metadata": {
    "collapsed": false,
    "pycharm": {
     "name": "#%%\n"
    }
   }
  },
  {
   "cell_type": "code",
   "execution_count": 71,
   "outputs": [
    {
     "data": {
      "text/plain": "Index(['code', 'product_name', 'pnns_groups_1', 'countries_tags',\n       'countries_fr', 'carbohydrates_100g', 'sugars_100g', 'sucrose_100g',\n       'glucose_100g', 'fructose_100g', 'lactose_100g', 'maltose_100g',\n       'nutrition-score-fr_100g', 'energy_100g', 'proteins_100g',\n       'nutrition_grade_fr'],\n      dtype='object')"
     },
     "execution_count": 71,
     "metadata": {},
     "output_type": "execute_result"
    }
   ],
   "source": [
    "open_food_fact1.columns"
   ],
   "metadata": {
    "collapsed": false,
    "pycharm": {
     "name": "#%%\n"
    }
   }
  },
  {
   "cell_type": "code",
   "execution_count": 72,
   "outputs": [],
   "source": [
    "liste = ['carbohydrates_100g', 'sugars_100g', 'sucrose_100g',\n",
    "         'glucose_100g', 'fructose_100g', 'lactose_100g', 'maltose_100g',\n",
    "         'nutrition-score-fr_100g', 'energy_100g', 'proteins_100g']"
   ],
   "metadata": {
    "collapsed": false,
    "pycharm": {
     "name": "#%%\n"
    }
   }
  },
  {
   "cell_type": "code",
   "execution_count": 73,
   "outputs": [],
   "source": [
    "outliersPerNutritionalGrade = {}\n",
    "nutritional_columns = liste\n",
    "for elmt in groups:\n",
    "    computeOutliers(elmt, open_food_fact1, \"pnns_groups_1\", nutritional_columns, outliersPerNutritionalGrade)"
   ],
   "metadata": {
    "collapsed": false,
    "pycharm": {
     "name": "#%%\n"
    }
   }
  },
  {
   "cell_type": "code",
   "execution_count": 74,
   "outputs": [
    {
     "name": "stdout",
     "output_type": "stream",
     "text": [
      "{'outliers_nan':                             count         mean          std     min     25%  \\\n",
      "carbohydrates_100g       179652.0    33.554817    30.368421    0.00    6.67   \n",
      "sugars_100g              181363.0    16.970929    23.342310  -17.86    1.56   \n",
      "sucrose_100g                  8.0     3.287500     4.516774    0.00    0.00   \n",
      "glucose_100g                 17.0     1.655882     5.516612    0.00    0.10   \n",
      "fructose_100g                 9.0     0.333333     0.504975    0.00    0.00   \n",
      "lactose_100g                 53.0     2.573962     2.034833    0.00    0.00   \n",
      "maltose_100g                  0.0          NaN          NaN     NaN     NaN   \n",
      "nutrition-score-fr_100g  159406.0     9.440197     9.022384  -10.00    1.00   \n",
      "energy_100g              193302.0  1138.640295  1037.710016    0.00  372.00   \n",
      "proteins_100g            192777.0     6.932421     8.663609 -800.00    0.00   \n",
      "\n",
      "                             50%      75%        max      iqr  q1-1.5iqr  \\\n",
      "carbohydrates_100g         23.33    60.00    2916.67    53.33    -73.325   \n",
      "sugars_100g                 6.67    25.81    3520.00    24.25    -34.815   \n",
      "sucrose_100g                0.10     8.05       9.90     8.05    -12.075   \n",
      "glucose_100g                0.20     0.37      23.00     0.27     -0.305   \n",
      "fructose_100g               0.10     0.30       1.30     0.30     -0.450   \n",
      "lactose_100g                2.98     3.57       6.90     3.57     -5.355   \n",
      "maltose_100g                 NaN      NaN        NaN      NaN        NaN   \n",
      "nutrition-score-fr_100g    10.00    17.00      40.00    16.00    -23.000   \n",
      "energy_100g              1134.00  1674.00  231199.00  1302.00  -1581.000   \n",
      "proteins_100g               4.26    10.00     430.00    10.00    -15.000   \n",
      "\n",
      "                         q3+1.5iqr  outliers_count  outliers_percentage  \n",
      "carbohydrates_100g         139.995               2                 0.00  \n",
      "sugars_100g                 62.185           10461                 5.77  \n",
      "sucrose_100g                20.125               0                 0.00  \n",
      "glucose_100g                 0.775               3                17.65  \n",
      "fructose_100g                0.750               2                22.22  \n",
      "lactose_100g                 8.925               0                 0.00  \n",
      "maltose_100g                   NaN               0                  NaN  \n",
      "nutrition-score-fr_100g     41.000               0                 0.00  \n",
      "energy_100g               3627.000             654                 0.34  \n",
      "proteins_100g               25.000            5635                 2.92  , 'outliers_unknown':                            count         mean           std   min      25%  \\\n",
      "carbohydrates_100g       11667.0    30.299934     27.527645   0.0    5.585   \n",
      "sugars_100g              11756.0    13.928983     19.656316   0.0    1.000   \n",
      "sucrose_100g                31.0     9.958065      8.469308   0.0    4.700   \n",
      "glucose_100g                 4.0     8.600000     10.057170   0.2    3.800   \n",
      "fructose_100g               12.0    48.208333     30.296668   0.2   28.325   \n",
      "lactose_100g                72.0    17.103611     21.539230   0.0    0.000   \n",
      "maltose_100g                 1.0    36.000000           NaN  36.0   36.000   \n",
      "nutrition-score-fr_100g  11207.0     9.002855      8.703496 -10.0    1.000   \n",
      "energy_100g              12781.0  1406.226542  28809.990909   0.0  500.000   \n",
      "proteins_100g            12592.0     7.516124      8.795815   0.0    2.100   \n",
      "\n",
      "                            50%       75%        max       iqr  q1-1.5iqr  \\\n",
      "carbohydrates_100g         20.1    55.000      164.0    49.415   -68.5375   \n",
      "sugars_100g                 4.0    20.000      104.0    19.000   -27.5000   \n",
      "sucrose_100g                8.8    12.950       30.0     8.250    -7.6750   \n",
      "glucose_100g                5.5    10.300       23.2     6.500    -5.9500   \n",
      "fructose_100g              55.1    65.175      101.0    36.850   -26.9500   \n",
      "lactose_100g                5.3    40.550       58.5    40.550   -60.8250   \n",
      "maltose_100g               36.0    36.000       36.0     0.000    36.0000   \n",
      "nutrition-score-fr_100g     9.0    16.000       33.0    15.000   -21.5000   \n",
      "energy_100g              1090.0  1644.000  3251373.0  1144.000 -1216.0000   \n",
      "proteins_100g               5.7     9.600      100.0     7.500    -9.1500   \n",
      "\n",
      "                         q3+1.5iqr  outliers_count  outliers_percentage  \n",
      "carbohydrates_100g        129.1225               1                 0.01  \n",
      "sugars_100g                48.5000             987                 8.40  \n",
      "sucrose_100g               25.3250               3                 9.68  \n",
      "glucose_100g               20.0500               1                25.00  \n",
      "fructose_100g             120.4500               0                 0.00  \n",
      "lactose_100g              101.3750               0                 0.00  \n",
      "maltose_100g               36.0000               0                 0.00  \n",
      "nutrition-score-fr_100g    38.5000               0                 0.00  \n",
      "energy_100g              3360.0000              64                 0.50  \n",
      "proteins_100g              20.8500             843                 6.69  , 'outliers_fruits and vegetables':                           count        mean         std   min    25%    50%  \\\n",
      "carbohydrates_100g       4526.0   14.454490   19.096138   0.0    3.4    7.1   \n",
      "sugars_100g              4379.0   10.654145   16.224111   0.0    1.3    3.6   \n",
      "sucrose_100g                0.0         NaN         NaN   NaN    NaN    NaN   \n",
      "glucose_100g                0.0         NaN         NaN   NaN    NaN    NaN   \n",
      "fructose_100g               0.0         NaN         NaN   NaN    NaN    NaN   \n",
      "lactose_100g                0.0         NaN         NaN   NaN    NaN    NaN   \n",
      "maltose_100g                0.0         NaN         NaN   NaN    NaN    NaN   \n",
      "nutrition-score-fr_100g  4195.0   -2.803814    4.957510 -15.0   -6.0   -4.0   \n",
      "energy_100g              4726.0  397.812912  501.810657   0.0  119.0  219.0   \n",
      "proteins_100g            4697.0    2.320973    3.790463   0.0    0.6    1.3   \n",
      "\n",
      "                           75%     max    iqr  q1-1.5iqr  q3+1.5iqr  \\\n",
      "carbohydrates_100g        15.0   139.0   11.6     -14.00      32.40   \n",
      "sugars_100g               13.0    90.0   11.7     -16.25      30.55   \n",
      "sucrose_100g               NaN     NaN    NaN        NaN        NaN   \n",
      "glucose_100g               NaN     NaN    NaN        NaN        NaN   \n",
      "fructose_100g              NaN     NaN    NaN        NaN        NaN   \n",
      "lactose_100g               NaN     NaN    NaN        NaN        NaN   \n",
      "maltose_100g               NaN     NaN    NaN        NaN        NaN   \n",
      "nutrition-score-fr_100g    0.0    25.0    6.0     -15.00       9.00   \n",
      "energy_100g              354.0  4117.0  235.0    -233.50     706.50   \n",
      "proteins_100g              2.4    42.5    1.8      -2.10       5.10   \n",
      "\n",
      "                         outliers_count  outliers_percentage  \n",
      "carbohydrates_100g                  554                12.24  \n",
      "sugars_100g                         426                 9.73  \n",
      "sucrose_100g                          0                  NaN  \n",
      "glucose_100g                          0                  NaN  \n",
      "fructose_100g                         0                  NaN  \n",
      "lactose_100g                          0                  NaN  \n",
      "maltose_100g                          0                  NaN  \n",
      "nutrition-score-fr_100g              68                 1.62  \n",
      "energy_100g                         758                16.04  \n",
      "proteins_100g                       387                 8.24  , 'outliers_sugary snacks':                            count         mean         std   min       25%  \\\n",
      "carbohydrates_100g       10168.0    58.298146   16.434155   0.0    49.975   \n",
      "sugars_100g              10224.0    40.050348   19.765195   0.0    27.100   \n",
      "sucrose_100g                 2.0    46.400000   65.619509   0.0    23.200   \n",
      "glucose_100g                 1.0     2.000000         NaN   2.0     2.000   \n",
      "fructose_100g               11.0    30.000000   26.129485   1.5    21.500   \n",
      "lactose_100g                28.0     4.498929    5.478942   0.0     0.000   \n",
      "maltose_100g                 1.0    22.000000         NaN  22.0    22.000   \n",
      "nutrition-score-fr_100g  10001.0    17.792021    6.714532  -6.0    14.000   \n",
      "energy_100g              10575.0  1813.089533  550.841303   0.0  1532.000   \n",
      "proteins_100g            10506.0     5.501177    3.686118   0.0     3.700   \n",
      "\n",
      "                              50%      75%      max      iqr  q1-1.5iqr  \\\n",
      "carbohydrates_100g         58.000    67.00    106.0   17.025    24.4375   \n",
      "sugars_100g                39.000    52.00    105.0   24.900   -10.2500   \n",
      "sucrose_100g               46.400    69.60     92.8   46.400   -46.4000   \n",
      "glucose_100g                2.000     2.00      2.0    0.000     2.0000   \n",
      "fructose_100g              26.000    30.25    100.0    8.750     8.3750   \n",
      "lactose_100g                0.105    10.00     14.0   10.000   -15.0000   \n",
      "maltose_100g               22.000    22.00     22.0    0.000    22.0000   \n",
      "nutrition-score-fr_100g    19.000    23.00     33.0    9.000     0.5000   \n",
      "energy_100g              1924.000  2190.00  22000.0  658.000   545.0000   \n",
      "proteins_100g               5.900     7.30     72.0    3.600    -1.7000   \n",
      "\n",
      "                         q3+1.5iqr  outliers_count  outliers_percentage  \n",
      "carbohydrates_100g         92.5375             732                 7.20  \n",
      "sugars_100g                89.3500             253                 2.47  \n",
      "sucrose_100g              139.2000               0                 0.00  \n",
      "glucose_100g                2.0000               0                 0.00  \n",
      "fructose_100g              43.3750               3                27.27  \n",
      "lactose_100g               25.0000               0                 0.00  \n",
      "maltose_100g               22.0000               0                 0.00  \n",
      "nutrition-score-fr_100g    36.5000             118                 1.18  \n",
      "energy_100g              3177.0000             213                 2.01  \n",
      "proteins_100g              12.7000             178                 1.69  , 'outliers_cereals and potatoes':                           count         mean         std   min       25%  \\\n",
      "carbohydrates_100g       7159.0    55.032587   23.016440   0.0    42.000   \n",
      "sugars_100g              6914.0     6.807778    9.253175   0.0     1.355   \n",
      "sucrose_100g                1.0     0.000000         NaN   0.0     0.000   \n",
      "glucose_100g                1.0     8.100000         NaN   8.1     8.100   \n",
      "fructose_100g               1.0     2.400000         NaN   2.4     2.400   \n",
      "lactose_100g                3.0     0.000000    0.000000   0.0     0.000   \n",
      "maltose_100g                1.0    39.200000         NaN  39.2    39.200   \n",
      "nutrition-score-fr_100g  6802.0     1.441635    7.004371 -12.0    -4.000   \n",
      "energy_100g              7451.0  1357.802162  490.442528   0.0  1123.500   \n",
      "proteins_100g            7415.0    10.103136    5.053800   0.0     7.330   \n",
      "\n",
      "                            50%     75%     max      iqr  q1-1.5iqr  \\\n",
      "carbohydrates_100g         64.0    72.0    91.2   30.000    -3.0000   \n",
      "sugars_100g                 3.1     6.9    84.0    5.545    -6.9625   \n",
      "sucrose_100g                0.0     0.0     0.0    0.000     0.0000   \n",
      "glucose_100g                8.1     8.1     8.1    0.000     8.1000   \n",
      "fructose_100g               2.4     2.4     2.4    0.000     2.4000   \n",
      "lactose_100g                0.0     0.0     0.0    0.000     0.0000   \n",
      "maltose_100g               39.2    39.2    39.2    0.000    39.2000   \n",
      "nutrition-score-fr_100g    -1.0     7.0    35.0   11.000   -20.5000   \n",
      "energy_100g              1492.0  1610.0  9050.0  486.500   393.7500   \n",
      "proteins_100g               9.4    12.0    80.0    4.670     0.3250   \n",
      "\n",
      "                         q3+1.5iqr  outliers_count  outliers_percentage  \n",
      "carbohydrates_100g        117.0000               0                 0.00  \n",
      "sugars_100g                15.2175            1088                15.74  \n",
      "sucrose_100g                0.0000               0                 0.00  \n",
      "glucose_100g                8.1000               0                 0.00  \n",
      "fructose_100g               2.4000               0                 0.00  \n",
      "lactose_100g                0.0000               0                 0.00  \n",
      "maltose_100g               39.2000               0                 0.00  \n",
      "nutrition-score-fr_100g    23.5000              17                 0.25  \n",
      "energy_100g              2339.7500             630                 8.46  \n",
      "proteins_100g              19.0050             409                 5.52  , 'outliers_composite foods':                           count        mean         std   min    25%    50%  \\\n",
      "carbohydrates_100g       5843.0   15.808255   11.905352   0.0    7.3   13.7   \n",
      "sugars_100g              5780.0    2.425853    2.189996   0.0    1.0    2.0   \n",
      "sucrose_100g                0.0         NaN         NaN   NaN    NaN    NaN   \n",
      "glucose_100g                0.0         NaN         NaN   NaN    NaN    NaN   \n",
      "fructose_100g               0.0         NaN         NaN   NaN    NaN    NaN   \n",
      "lactose_100g                0.0         NaN         NaN   NaN    NaN    NaN   \n",
      "maltose_100g                0.0         NaN         NaN   NaN    NaN    NaN   \n",
      "nutrition-score-fr_100g  5594.0    3.423311    5.729613 -13.0    0.0    2.0   \n",
      "energy_100g              6019.0  689.733851  347.163125  30.0  442.5  638.0   \n",
      "proteins_100g            5997.0    7.551964    4.433687   0.0    4.7    7.0   \n",
      "\n",
      "                           75%     max    iqr  q1-1.5iqr  q3+1.5iqr  \\\n",
      "carbohydrates_100g        22.1    83.0   14.8     -14.90      44.30   \n",
      "sugars_100g                3.2    33.0    2.2      -2.30       6.50   \n",
      "sucrose_100g               NaN     NaN    NaN        NaN        NaN   \n",
      "glucose_100g               NaN     NaN    NaN        NaN        NaN   \n",
      "fructose_100g              NaN     NaN    NaN        NaN        NaN   \n",
      "lactose_100g               NaN     NaN    NaN        NaN        NaN   \n",
      "maltose_100g               NaN     NaN    NaN        NaN        NaN   \n",
      "nutrition-score-fr_100g    5.0    26.0    5.0      -7.50      12.50   \n",
      "energy_100g              916.0  3054.0  473.5    -267.75    1626.25   \n",
      "proteins_100g             10.0    44.0    5.3      -3.25      17.95   \n",
      "\n",
      "                         outliers_count  outliers_percentage  \n",
      "carbohydrates_100g                  167                 2.86  \n",
      "sugars_100g                         193                 3.34  \n",
      "sucrose_100g                          0                  NaN  \n",
      "glucose_100g                          0                  NaN  \n",
      "fructose_100g                         0                  NaN  \n",
      "lactose_100g                          0                  NaN  \n",
      "maltose_100g                          0                  NaN  \n",
      "nutrition-score-fr_100g             564                10.08  \n",
      "energy_100g                          77                 1.28  \n",
      "proteins_100g                       158                 2.63  , 'outliers_fish meat eggs':                           count        mean         std  min    25%    50%  \\\n",
      "carbohydrates_100g       5565.0    2.093741    3.717375  0.0    0.5    0.9   \n",
      "sugars_100g              5410.0    0.878638    1.139254  0.0    0.2    0.6   \n",
      "sucrose_100g                0.0         NaN         NaN  NaN    NaN    NaN   \n",
      "glucose_100g                0.0         NaN         NaN  NaN    NaN    NaN   \n",
      "fructose_100g               0.0         NaN         NaN  NaN    NaN    NaN   \n",
      "lactose_100g                1.0    0.100000         NaN  0.1    0.1    0.1   \n",
      "maltose_100g                0.0         NaN         NaN  NaN    NaN    NaN   \n",
      "nutrition-score-fr_100g  5362.0    9.472771    8.413738 -8.0    3.0   10.0   \n",
      "energy_100g              5868.0  864.816660  441.847325  0.0  506.0  790.5   \n",
      "proteins_100g            5830.0   18.635904    6.297629  0.0   14.0   19.0   \n",
      "\n",
      "                            75%     max    iqr  q1-1.5iqr  q3+1.5iqr  \\\n",
      "carbohydrates_100g          2.0    56.0    1.5      -1.75       4.25   \n",
      "sugars_100g                 1.0    29.9    0.8      -1.00       2.20   \n",
      "sucrose_100g                NaN     NaN    NaN        NaN        NaN   \n",
      "glucose_100g                NaN     NaN    NaN        NaN        NaN   \n",
      "fructose_100g               NaN     NaN    NaN        NaN        NaN   \n",
      "lactose_100g                0.1     0.1    0.0       0.10       0.10   \n",
      "maltose_100g                NaN     NaN    NaN        NaN        NaN   \n",
      "nutrition-score-fr_100g    17.0    27.0   14.0     -18.00      38.00   \n",
      "energy_100g              1079.0  4485.0  573.0    -353.50    1938.50   \n",
      "proteins_100g              22.0    59.1    8.0       2.00      34.00   \n",
      "\n",
      "                         outliers_count  outliers_percentage  \n",
      "carbohydrates_100g                  620                11.14  \n",
      "sugars_100g                         462                 8.54  \n",
      "sucrose_100g                          0                  NaN  \n",
      "glucose_100g                          0                  NaN  \n",
      "fructose_100g                         0                  NaN  \n",
      "lactose_100g                          0                 0.00  \n",
      "maltose_100g                          0                  NaN  \n",
      "nutrition-score-fr_100g               0                 0.00  \n",
      "energy_100g                         158                 2.69  \n",
      "proteins_100g                       100                 1.72  , 'outliers_beverages':                           count        mean         std   min      25%  \\\n",
      "carbohydrates_100g       5671.0   13.006744   18.136361   0.0    5.200   \n",
      "sugars_100g              6023.0   11.745616   16.603847   0.0    4.700   \n",
      "sucrose_100g                8.0    3.725000    3.693140   0.0    0.600   \n",
      "glucose_100g                2.0    1.050000    0.212132   0.9    0.975   \n",
      "fructose_100g               4.0   17.525000   30.928991   0.9    1.950   \n",
      "lactose_100g               50.0    2.822000   12.890279   0.0    0.000   \n",
      "maltose_100g                0.0         NaN         NaN   NaN      NaN   \n",
      "nutrition-score-fr_100g  5697.0    7.842724    6.782758 -10.0    2.000   \n",
      "energy_100g              6336.0  268.170786  375.466738   0.0  119.000   \n",
      "proteins_100g            6186.0    0.882254    2.929061   0.0    0.000   \n",
      "\n",
      "                            50%      75%     max     iqr  q1-1.5iqr  \\\n",
      "carbohydrates_100g         9.80   11.400   100.0   6.200    -4.1000   \n",
      "sugars_100g                9.10   11.000    94.1   6.300    -4.7500   \n",
      "sucrose_100g               2.65    6.900     9.5   6.300    -8.8500   \n",
      "glucose_100g               1.05    1.125     1.2   0.150     0.7500   \n",
      "fructose_100g              2.65   18.225    63.9  16.275   -22.4625   \n",
      "lactose_100g               0.00    0.000    74.5   0.000     0.0000   \n",
      "maltose_100g                NaN      NaN     NaN     NaN        NaN   \n",
      "nutrition-score-fr_100g    6.00   13.000    40.0  11.000   -14.5000   \n",
      "energy_100g              184.00  218.000  5904.0  99.000   -29.5000   \n",
      "proteins_100g              0.30    0.600    86.0   0.600    -0.9000   \n",
      "\n",
      "                         q3+1.5iqr  outliers_count  outliers_percentage  \n",
      "carbohydrates_100g         20.7000             458                 8.08  \n",
      "sugars_100g                20.4500             429                 7.12  \n",
      "sucrose_100g               16.3500               0                 0.00  \n",
      "glucose_100g                1.3500               0                 0.00  \n",
      "fructose_100g              42.6375               1                25.00  \n",
      "lactose_100g                0.0000               6                12.00  \n",
      "maltose_100g                   NaN               0                  NaN  \n",
      "nutrition-score-fr_100g    29.5000              37                 0.65  \n",
      "energy_100g               366.5000             662                10.45  \n",
      "proteins_100g               1.5000             667                10.78  , 'outliers_fat and sauces':                           count         mean          std    min     25%  \\\n",
      "carbohydrates_100g       3837.0     8.013995    11.109412   0.00    0.60   \n",
      "sugars_100g              3805.0     5.818014     9.399536   0.00    0.50   \n",
      "sucrose_100g                1.0    18.000000          NaN  18.00   18.00   \n",
      "glucose_100g                0.0          NaN          NaN    NaN     NaN   \n",
      "fructose_100g               0.0          NaN          NaN    NaN     NaN   \n",
      "lactose_100g                1.0     0.010000          NaN   0.01    0.01   \n",
      "maltose_100g                0.0          NaN          NaN    NaN     NaN   \n",
      "nutrition-score-fr_100g  3728.0    12.150215     6.745794  -8.00    8.00   \n",
      "energy_100g              4109.0  1618.139876  1274.870099   0.00  440.00   \n",
      "proteins_100g            4035.0     1.855824     2.564380   0.00    0.50   \n",
      "\n",
      "                             50%      75%       max     iqr  q1-1.5iqr  \\\n",
      "carbohydrates_100g          4.90     9.40    136.00     8.8     -12.60   \n",
      "sugars_100g                 2.37     6.10    134.00     5.6      -7.90   \n",
      "sucrose_100g               18.00    18.00     18.00     0.0      18.00   \n",
      "glucose_100g                 NaN      NaN       NaN     NaN        NaN   \n",
      "fructose_100g                NaN      NaN       NaN     NaN        NaN   \n",
      "lactose_100g                0.01     0.01      0.01     0.0       0.01   \n",
      "maltose_100g                 NaN      NaN       NaN     NaN        NaN   \n",
      "nutrition-score-fr_100g    12.00    17.00     29.00     9.0      -5.50   \n",
      "energy_100g              1211.00  2982.00  15481.00  2542.0   -3373.00   \n",
      "proteins_100g               1.00     1.90     32.30     1.4      -1.60   \n",
      "\n",
      "                         q3+1.5iqr  outliers_count  outliers_percentage  \n",
      "carbohydrates_100g           22.60             414                10.79  \n",
      "sugars_100g                  14.50             488                12.83  \n",
      "sucrose_100g                 18.00               0                 0.00  \n",
      "glucose_100g                   NaN               0                  NaN  \n",
      "fructose_100g                  NaN               0                  NaN  \n",
      "lactose_100g                  0.01               0                 0.00  \n",
      "maltose_100g                   NaN               0                  NaN  \n",
      "nutrition-score-fr_100g      30.50              20                 0.54  \n",
      "energy_100g                6795.00               1                 0.02  \n",
      "proteins_100g                 4.00             614                15.22  , 'outliers_milk and dairy products':                           count        mean         std  min    25%    50%  \\\n",
      "carbohydrates_100g       7128.0    8.836026    9.612054  0.0    1.5    4.8   \n",
      "sugars_100g              6936.0    7.580187    7.998825 -0.1    0.8    4.7   \n",
      "sucrose_100g               21.0   17.952381   11.477004  0.1    8.0   16.6   \n",
      "glucose_100g                1.0    0.100000         NaN  0.1    0.1    0.1   \n",
      "fructose_100g               1.0    0.100000         NaN  0.1    0.1    0.1   \n",
      "lactose_100g               54.0    0.550185    1.323119  0.0    0.0    0.1   \n",
      "maltose_100g                1.0    0.100000         NaN  0.1    0.1    0.1   \n",
      "nutrition-score-fr_100g  6861.0    8.115144    6.814718 -6.0    2.0    8.0   \n",
      "energy_100g              7477.0  816.166016  508.755317  0.0  369.0  676.0   \n",
      "proteins_100g            7437.0    9.676868    8.787895  0.0    3.2    4.5   \n",
      "\n",
      "                            75%     max    iqr  q1-1.5iqr  q3+1.5iqr  \\\n",
      "carbohydrates_100g         14.0    95.0   12.5     -17.25      32.75   \n",
      "sugars_100g                13.0    91.0   12.2     -17.50      31.30   \n",
      "sucrose_100g               26.0    43.5   18.0     -19.00      53.00   \n",
      "glucose_100g                0.1     0.1    0.0       0.10       0.10   \n",
      "fructose_100g               0.1     0.1    0.0       0.10       0.10   \n",
      "lactose_100g                0.1     6.4    0.1      -0.15       0.25   \n",
      "maltose_100g                0.1     0.1    0.0       0.10       0.10   \n",
      "nutrition-score-fr_100g    14.0    30.0   12.0     -16.00      32.00   \n",
      "energy_100g              1243.0  7029.0  874.0    -942.00    2554.00   \n",
      "proteins_100g              17.0    52.2   13.8     -17.50      37.70   \n",
      "\n",
      "                         outliers_count  outliers_percentage  \n",
      "carbohydrates_100g                  191                 2.68  \n",
      "sugars_100g                          45                 0.65  \n",
      "sucrose_100g                          0                 0.00  \n",
      "glucose_100g                          0                 0.00  \n",
      "fructose_100g                         0                 0.00  \n",
      "lactose_100g                         13                24.07  \n",
      "maltose_100g                          0                 0.00  \n",
      "nutrition-score-fr_100g               0                 0.00  \n",
      "energy_100g                           3                 0.04  \n",
      "proteins_100g                        13                 0.17  , 'outliers_salty snacks':                           count         mean         std  min     25%     50%  \\\n",
      "carbohydrates_100g       2372.0    45.299013   20.707979  0.0    32.5    51.2   \n",
      "sugars_100g              2381.0     4.750546    6.619512  0.0     1.4     3.2   \n",
      "sucrose_100g                0.0          NaN         NaN  NaN     NaN     NaN   \n",
      "glucose_100g                0.0          NaN         NaN  NaN     NaN     NaN   \n",
      "fructose_100g               0.0          NaN         NaN  NaN     NaN     NaN   \n",
      "lactose_100g                0.0          NaN         NaN  NaN     NaN     NaN   \n",
      "maltose_100g                0.0          NaN         NaN  NaN     NaN     NaN   \n",
      "nutrition-score-fr_100g  2357.0    12.817140    5.999653 -9.0     9.0    13.0   \n",
      "energy_100g              2469.0  2125.175574  553.184379  0.0  1983.0  2164.0   \n",
      "proteins_100g            2450.0    10.480423    7.016881  0.0     5.9     7.2   \n",
      "\n",
      "                            75%      max    iqr  q1-1.5iqr  q3+1.5iqr  \\\n",
      "carbohydrates_100g         60.0    190.0   27.5      -8.75     101.25   \n",
      "sugars_100g                 5.7     67.8    4.3      -5.05      12.15   \n",
      "sucrose_100g                NaN      NaN    NaN        NaN        NaN   \n",
      "glucose_100g                NaN      NaN    NaN        NaN        NaN   \n",
      "fructose_100g               NaN      NaN    NaN        NaN        NaN   \n",
      "lactose_100g                NaN      NaN    NaN        NaN        NaN   \n",
      "maltose_100g                NaN      NaN    NaN        NaN        NaN   \n",
      "nutrition-score-fr_100g    16.0     35.0    7.0      -1.50      26.50   \n",
      "energy_100g              2320.0  18700.0  337.0    1477.50    2825.50   \n",
      "proteins_100g              13.8     58.8    7.9      -5.95      25.65   \n",
      "\n",
      "                         outliers_count  outliers_percentage  \n",
      "carbohydrates_100g                    1                 0.04  \n",
      "sugars_100g                         145                 6.09  \n",
      "sucrose_100g                          0                  NaN  \n",
      "glucose_100g                          0                  NaN  \n",
      "fructose_100g                         0                  NaN  \n",
      "lactose_100g                          0                  NaN  \n",
      "maltose_100g                          0                  NaN  \n",
      "nutrition-score-fr_100g              66                 2.80  \n",
      "energy_100g                         237                 9.60  \n",
      "proteins_100g                       120                 4.90  }\n"
     ]
    }
   ],
   "source": [
    "print(outliersPerNutritionalGrade)"
   ],
   "metadata": {
    "collapsed": false,
    "pycharm": {
     "name": "#%%\n"
    }
   }
  },
  {
   "cell_type": "code",
   "execution_count": 75,
   "outputs": [
    {
     "data": {
      "text/plain": "                            count         mean          std     min     25%  \\\ncarbohydrates_100g       179652.0    33.554817    30.368421    0.00    6.67   \nsugars_100g              181363.0    16.970929    23.342310  -17.86    1.56   \nsucrose_100g                  8.0     3.287500     4.516774    0.00    0.00   \nglucose_100g                 17.0     1.655882     5.516612    0.00    0.10   \nfructose_100g                 9.0     0.333333     0.504975    0.00    0.00   \nlactose_100g                 53.0     2.573962     2.034833    0.00    0.00   \nmaltose_100g                  0.0          NaN          NaN     NaN     NaN   \nnutrition-score-fr_100g  159406.0     9.440197     9.022384  -10.00    1.00   \nenergy_100g              193302.0  1138.640295  1037.710016    0.00  372.00   \nproteins_100g            192777.0     6.932421     8.663609 -800.00    0.00   \n\n                             50%      75%        max      iqr  q1-1.5iqr  \\\ncarbohydrates_100g         23.33    60.00    2916.67    53.33    -73.325   \nsugars_100g                 6.67    25.81    3520.00    24.25    -34.815   \nsucrose_100g                0.10     8.05       9.90     8.05    -12.075   \nglucose_100g                0.20     0.37      23.00     0.27     -0.305   \nfructose_100g               0.10     0.30       1.30     0.30     -0.450   \nlactose_100g                2.98     3.57       6.90     3.57     -5.355   \nmaltose_100g                 NaN      NaN        NaN      NaN        NaN   \nnutrition-score-fr_100g    10.00    17.00      40.00    16.00    -23.000   \nenergy_100g              1134.00  1674.00  231199.00  1302.00  -1581.000   \nproteins_100g               4.26    10.00     430.00    10.00    -15.000   \n\n                         q3+1.5iqr  outliers_count  outliers_percentage  \ncarbohydrates_100g         139.995               2                 0.00  \nsugars_100g                 62.185           10461                 5.77  \nsucrose_100g                20.125               0                 0.00  \nglucose_100g                 0.775               3                17.65  \nfructose_100g                0.750               2                22.22  \nlactose_100g                 8.925               0                 0.00  \nmaltose_100g                   NaN               0                  NaN  \nnutrition-score-fr_100g     41.000               0                 0.00  \nenergy_100g               3627.000             654                 0.34  \nproteins_100g               25.000            5635                 2.92  ",
      "text/html": "<div>\n<style scoped>\n    .dataframe tbody tr th:only-of-type {\n        vertical-align: middle;\n    }\n\n    .dataframe tbody tr th {\n        vertical-align: top;\n    }\n\n    .dataframe thead th {\n        text-align: right;\n    }\n</style>\n<table border=\"1\" class=\"dataframe\">\n  <thead>\n    <tr style=\"text-align: right;\">\n      <th></th>\n      <th>count</th>\n      <th>mean</th>\n      <th>std</th>\n      <th>min</th>\n      <th>25%</th>\n      <th>50%</th>\n      <th>75%</th>\n      <th>max</th>\n      <th>iqr</th>\n      <th>q1-1.5iqr</th>\n      <th>q3+1.5iqr</th>\n      <th>outliers_count</th>\n      <th>outliers_percentage</th>\n    </tr>\n  </thead>\n  <tbody>\n    <tr>\n      <th>carbohydrates_100g</th>\n      <td>179652.0</td>\n      <td>33.554817</td>\n      <td>30.368421</td>\n      <td>0.00</td>\n      <td>6.67</td>\n      <td>23.33</td>\n      <td>60.00</td>\n      <td>2916.67</td>\n      <td>53.33</td>\n      <td>-73.325</td>\n      <td>139.995</td>\n      <td>2</td>\n      <td>0.00</td>\n    </tr>\n    <tr>\n      <th>sugars_100g</th>\n      <td>181363.0</td>\n      <td>16.970929</td>\n      <td>23.342310</td>\n      <td>-17.86</td>\n      <td>1.56</td>\n      <td>6.67</td>\n      <td>25.81</td>\n      <td>3520.00</td>\n      <td>24.25</td>\n      <td>-34.815</td>\n      <td>62.185</td>\n      <td>10461</td>\n      <td>5.77</td>\n    </tr>\n    <tr>\n      <th>sucrose_100g</th>\n      <td>8.0</td>\n      <td>3.287500</td>\n      <td>4.516774</td>\n      <td>0.00</td>\n      <td>0.00</td>\n      <td>0.10</td>\n      <td>8.05</td>\n      <td>9.90</td>\n      <td>8.05</td>\n      <td>-12.075</td>\n      <td>20.125</td>\n      <td>0</td>\n      <td>0.00</td>\n    </tr>\n    <tr>\n      <th>glucose_100g</th>\n      <td>17.0</td>\n      <td>1.655882</td>\n      <td>5.516612</td>\n      <td>0.00</td>\n      <td>0.10</td>\n      <td>0.20</td>\n      <td>0.37</td>\n      <td>23.00</td>\n      <td>0.27</td>\n      <td>-0.305</td>\n      <td>0.775</td>\n      <td>3</td>\n      <td>17.65</td>\n    </tr>\n    <tr>\n      <th>fructose_100g</th>\n      <td>9.0</td>\n      <td>0.333333</td>\n      <td>0.504975</td>\n      <td>0.00</td>\n      <td>0.00</td>\n      <td>0.10</td>\n      <td>0.30</td>\n      <td>1.30</td>\n      <td>0.30</td>\n      <td>-0.450</td>\n      <td>0.750</td>\n      <td>2</td>\n      <td>22.22</td>\n    </tr>\n    <tr>\n      <th>lactose_100g</th>\n      <td>53.0</td>\n      <td>2.573962</td>\n      <td>2.034833</td>\n      <td>0.00</td>\n      <td>0.00</td>\n      <td>2.98</td>\n      <td>3.57</td>\n      <td>6.90</td>\n      <td>3.57</td>\n      <td>-5.355</td>\n      <td>8.925</td>\n      <td>0</td>\n      <td>0.00</td>\n    </tr>\n    <tr>\n      <th>maltose_100g</th>\n      <td>0.0</td>\n      <td>NaN</td>\n      <td>NaN</td>\n      <td>NaN</td>\n      <td>NaN</td>\n      <td>NaN</td>\n      <td>NaN</td>\n      <td>NaN</td>\n      <td>NaN</td>\n      <td>NaN</td>\n      <td>NaN</td>\n      <td>0</td>\n      <td>NaN</td>\n    </tr>\n    <tr>\n      <th>nutrition-score-fr_100g</th>\n      <td>159406.0</td>\n      <td>9.440197</td>\n      <td>9.022384</td>\n      <td>-10.00</td>\n      <td>1.00</td>\n      <td>10.00</td>\n      <td>17.00</td>\n      <td>40.00</td>\n      <td>16.00</td>\n      <td>-23.000</td>\n      <td>41.000</td>\n      <td>0</td>\n      <td>0.00</td>\n    </tr>\n    <tr>\n      <th>energy_100g</th>\n      <td>193302.0</td>\n      <td>1138.640295</td>\n      <td>1037.710016</td>\n      <td>0.00</td>\n      <td>372.00</td>\n      <td>1134.00</td>\n      <td>1674.00</td>\n      <td>231199.00</td>\n      <td>1302.00</td>\n      <td>-1581.000</td>\n      <td>3627.000</td>\n      <td>654</td>\n      <td>0.34</td>\n    </tr>\n    <tr>\n      <th>proteins_100g</th>\n      <td>192777.0</td>\n      <td>6.932421</td>\n      <td>8.663609</td>\n      <td>-800.00</td>\n      <td>0.00</td>\n      <td>4.26</td>\n      <td>10.00</td>\n      <td>430.00</td>\n      <td>10.00</td>\n      <td>-15.000</td>\n      <td>25.000</td>\n      <td>5635</td>\n      <td>2.92</td>\n    </tr>\n  </tbody>\n</table>\n</div>"
     },
     "execution_count": 75,
     "metadata": {},
     "output_type": "execute_result"
    }
   ],
   "source": [
    "outliersPerNutritionalGrade['outliers_nan']"
   ],
   "metadata": {
    "collapsed": false,
    "pycharm": {
     "name": "#%%\n"
    }
   }
  },
  {
   "cell_type": "code",
   "execution_count": 76,
   "outputs": [
    {
     "data": {
      "text/plain": "                          count        mean         std   min    25%    50%  \\\ncarbohydrates_100g       4526.0   14.454490   19.096138   0.0    3.4    7.1   \nsugars_100g              4379.0   10.654145   16.224111   0.0    1.3    3.6   \nsucrose_100g                0.0         NaN         NaN   NaN    NaN    NaN   \nglucose_100g                0.0         NaN         NaN   NaN    NaN    NaN   \nfructose_100g               0.0         NaN         NaN   NaN    NaN    NaN   \nlactose_100g                0.0         NaN         NaN   NaN    NaN    NaN   \nmaltose_100g                0.0         NaN         NaN   NaN    NaN    NaN   \nnutrition-score-fr_100g  4195.0   -2.803814    4.957510 -15.0   -6.0   -4.0   \nenergy_100g              4726.0  397.812912  501.810657   0.0  119.0  219.0   \nproteins_100g            4697.0    2.320973    3.790463   0.0    0.6    1.3   \n\n                           75%     max    iqr  q1-1.5iqr  q3+1.5iqr  \\\ncarbohydrates_100g        15.0   139.0   11.6     -14.00      32.40   \nsugars_100g               13.0    90.0   11.7     -16.25      30.55   \nsucrose_100g               NaN     NaN    NaN        NaN        NaN   \nglucose_100g               NaN     NaN    NaN        NaN        NaN   \nfructose_100g              NaN     NaN    NaN        NaN        NaN   \nlactose_100g               NaN     NaN    NaN        NaN        NaN   \nmaltose_100g               NaN     NaN    NaN        NaN        NaN   \nnutrition-score-fr_100g    0.0    25.0    6.0     -15.00       9.00   \nenergy_100g              354.0  4117.0  235.0    -233.50     706.50   \nproteins_100g              2.4    42.5    1.8      -2.10       5.10   \n\n                         outliers_count  outliers_percentage  \ncarbohydrates_100g                  554                12.24  \nsugars_100g                         426                 9.73  \nsucrose_100g                          0                  NaN  \nglucose_100g                          0                  NaN  \nfructose_100g                         0                  NaN  \nlactose_100g                          0                  NaN  \nmaltose_100g                          0                  NaN  \nnutrition-score-fr_100g              68                 1.62  \nenergy_100g                         758                16.04  \nproteins_100g                       387                 8.24  ",
      "text/html": "<div>\n<style scoped>\n    .dataframe tbody tr th:only-of-type {\n        vertical-align: middle;\n    }\n\n    .dataframe tbody tr th {\n        vertical-align: top;\n    }\n\n    .dataframe thead th {\n        text-align: right;\n    }\n</style>\n<table border=\"1\" class=\"dataframe\">\n  <thead>\n    <tr style=\"text-align: right;\">\n      <th></th>\n      <th>count</th>\n      <th>mean</th>\n      <th>std</th>\n      <th>min</th>\n      <th>25%</th>\n      <th>50%</th>\n      <th>75%</th>\n      <th>max</th>\n      <th>iqr</th>\n      <th>q1-1.5iqr</th>\n      <th>q3+1.5iqr</th>\n      <th>outliers_count</th>\n      <th>outliers_percentage</th>\n    </tr>\n  </thead>\n  <tbody>\n    <tr>\n      <th>carbohydrates_100g</th>\n      <td>4526.0</td>\n      <td>14.454490</td>\n      <td>19.096138</td>\n      <td>0.0</td>\n      <td>3.4</td>\n      <td>7.1</td>\n      <td>15.0</td>\n      <td>139.0</td>\n      <td>11.6</td>\n      <td>-14.00</td>\n      <td>32.40</td>\n      <td>554</td>\n      <td>12.24</td>\n    </tr>\n    <tr>\n      <th>sugars_100g</th>\n      <td>4379.0</td>\n      <td>10.654145</td>\n      <td>16.224111</td>\n      <td>0.0</td>\n      <td>1.3</td>\n      <td>3.6</td>\n      <td>13.0</td>\n      <td>90.0</td>\n      <td>11.7</td>\n      <td>-16.25</td>\n      <td>30.55</td>\n      <td>426</td>\n      <td>9.73</td>\n    </tr>\n    <tr>\n      <th>sucrose_100g</th>\n      <td>0.0</td>\n      <td>NaN</td>\n      <td>NaN</td>\n      <td>NaN</td>\n      <td>NaN</td>\n      <td>NaN</td>\n      <td>NaN</td>\n      <td>NaN</td>\n      <td>NaN</td>\n      <td>NaN</td>\n      <td>NaN</td>\n      <td>0</td>\n      <td>NaN</td>\n    </tr>\n    <tr>\n      <th>glucose_100g</th>\n      <td>0.0</td>\n      <td>NaN</td>\n      <td>NaN</td>\n      <td>NaN</td>\n      <td>NaN</td>\n      <td>NaN</td>\n      <td>NaN</td>\n      <td>NaN</td>\n      <td>NaN</td>\n      <td>NaN</td>\n      <td>NaN</td>\n      <td>0</td>\n      <td>NaN</td>\n    </tr>\n    <tr>\n      <th>fructose_100g</th>\n      <td>0.0</td>\n      <td>NaN</td>\n      <td>NaN</td>\n      <td>NaN</td>\n      <td>NaN</td>\n      <td>NaN</td>\n      <td>NaN</td>\n      <td>NaN</td>\n      <td>NaN</td>\n      <td>NaN</td>\n      <td>NaN</td>\n      <td>0</td>\n      <td>NaN</td>\n    </tr>\n    <tr>\n      <th>lactose_100g</th>\n      <td>0.0</td>\n      <td>NaN</td>\n      <td>NaN</td>\n      <td>NaN</td>\n      <td>NaN</td>\n      <td>NaN</td>\n      <td>NaN</td>\n      <td>NaN</td>\n      <td>NaN</td>\n      <td>NaN</td>\n      <td>NaN</td>\n      <td>0</td>\n      <td>NaN</td>\n    </tr>\n    <tr>\n      <th>maltose_100g</th>\n      <td>0.0</td>\n      <td>NaN</td>\n      <td>NaN</td>\n      <td>NaN</td>\n      <td>NaN</td>\n      <td>NaN</td>\n      <td>NaN</td>\n      <td>NaN</td>\n      <td>NaN</td>\n      <td>NaN</td>\n      <td>NaN</td>\n      <td>0</td>\n      <td>NaN</td>\n    </tr>\n    <tr>\n      <th>nutrition-score-fr_100g</th>\n      <td>4195.0</td>\n      <td>-2.803814</td>\n      <td>4.957510</td>\n      <td>-15.0</td>\n      <td>-6.0</td>\n      <td>-4.0</td>\n      <td>0.0</td>\n      <td>25.0</td>\n      <td>6.0</td>\n      <td>-15.00</td>\n      <td>9.00</td>\n      <td>68</td>\n      <td>1.62</td>\n    </tr>\n    <tr>\n      <th>energy_100g</th>\n      <td>4726.0</td>\n      <td>397.812912</td>\n      <td>501.810657</td>\n      <td>0.0</td>\n      <td>119.0</td>\n      <td>219.0</td>\n      <td>354.0</td>\n      <td>4117.0</td>\n      <td>235.0</td>\n      <td>-233.50</td>\n      <td>706.50</td>\n      <td>758</td>\n      <td>16.04</td>\n    </tr>\n    <tr>\n      <th>proteins_100g</th>\n      <td>4697.0</td>\n      <td>2.320973</td>\n      <td>3.790463</td>\n      <td>0.0</td>\n      <td>0.6</td>\n      <td>1.3</td>\n      <td>2.4</td>\n      <td>42.5</td>\n      <td>1.8</td>\n      <td>-2.10</td>\n      <td>5.10</td>\n      <td>387</td>\n      <td>8.24</td>\n    </tr>\n  </tbody>\n</table>\n</div>"
     },
     "execution_count": 76,
     "metadata": {},
     "output_type": "execute_result"
    }
   ],
   "source": [
    "outliersPerNutritionalGrade['outliers_fruits and vegetables']"
   ],
   "metadata": {
    "collapsed": false,
    "pycharm": {
     "name": "#%%\n"
    }
   }
  },
  {
   "cell_type": "code",
   "execution_count": 77,
   "outputs": [
    {
     "data": {
      "text/plain": "                           count         mean         std   min       25%  \\\ncarbohydrates_100g       10168.0    58.298146   16.434155   0.0    49.975   \nsugars_100g              10224.0    40.050348   19.765195   0.0    27.100   \nsucrose_100g                 2.0    46.400000   65.619509   0.0    23.200   \nglucose_100g                 1.0     2.000000         NaN   2.0     2.000   \nfructose_100g               11.0    30.000000   26.129485   1.5    21.500   \nlactose_100g                28.0     4.498929    5.478942   0.0     0.000   \nmaltose_100g                 1.0    22.000000         NaN  22.0    22.000   \nnutrition-score-fr_100g  10001.0    17.792021    6.714532  -6.0    14.000   \nenergy_100g              10575.0  1813.089533  550.841303   0.0  1532.000   \nproteins_100g            10506.0     5.501177    3.686118   0.0     3.700   \n\n                              50%      75%      max      iqr  q1-1.5iqr  \\\ncarbohydrates_100g         58.000    67.00    106.0   17.025    24.4375   \nsugars_100g                39.000    52.00    105.0   24.900   -10.2500   \nsucrose_100g               46.400    69.60     92.8   46.400   -46.4000   \nglucose_100g                2.000     2.00      2.0    0.000     2.0000   \nfructose_100g              26.000    30.25    100.0    8.750     8.3750   \nlactose_100g                0.105    10.00     14.0   10.000   -15.0000   \nmaltose_100g               22.000    22.00     22.0    0.000    22.0000   \nnutrition-score-fr_100g    19.000    23.00     33.0    9.000     0.5000   \nenergy_100g              1924.000  2190.00  22000.0  658.000   545.0000   \nproteins_100g               5.900     7.30     72.0    3.600    -1.7000   \n\n                         q3+1.5iqr  outliers_count  outliers_percentage  \ncarbohydrates_100g         92.5375             732                 7.20  \nsugars_100g                89.3500             253                 2.47  \nsucrose_100g              139.2000               0                 0.00  \nglucose_100g                2.0000               0                 0.00  \nfructose_100g              43.3750               3                27.27  \nlactose_100g               25.0000               0                 0.00  \nmaltose_100g               22.0000               0                 0.00  \nnutrition-score-fr_100g    36.5000             118                 1.18  \nenergy_100g              3177.0000             213                 2.01  \nproteins_100g              12.7000             178                 1.69  ",
      "text/html": "<div>\n<style scoped>\n    .dataframe tbody tr th:only-of-type {\n        vertical-align: middle;\n    }\n\n    .dataframe tbody tr th {\n        vertical-align: top;\n    }\n\n    .dataframe thead th {\n        text-align: right;\n    }\n</style>\n<table border=\"1\" class=\"dataframe\">\n  <thead>\n    <tr style=\"text-align: right;\">\n      <th></th>\n      <th>count</th>\n      <th>mean</th>\n      <th>std</th>\n      <th>min</th>\n      <th>25%</th>\n      <th>50%</th>\n      <th>75%</th>\n      <th>max</th>\n      <th>iqr</th>\n      <th>q1-1.5iqr</th>\n      <th>q3+1.5iqr</th>\n      <th>outliers_count</th>\n      <th>outliers_percentage</th>\n    </tr>\n  </thead>\n  <tbody>\n    <tr>\n      <th>carbohydrates_100g</th>\n      <td>10168.0</td>\n      <td>58.298146</td>\n      <td>16.434155</td>\n      <td>0.0</td>\n      <td>49.975</td>\n      <td>58.000</td>\n      <td>67.00</td>\n      <td>106.0</td>\n      <td>17.025</td>\n      <td>24.4375</td>\n      <td>92.5375</td>\n      <td>732</td>\n      <td>7.20</td>\n    </tr>\n    <tr>\n      <th>sugars_100g</th>\n      <td>10224.0</td>\n      <td>40.050348</td>\n      <td>19.765195</td>\n      <td>0.0</td>\n      <td>27.100</td>\n      <td>39.000</td>\n      <td>52.00</td>\n      <td>105.0</td>\n      <td>24.900</td>\n      <td>-10.2500</td>\n      <td>89.3500</td>\n      <td>253</td>\n      <td>2.47</td>\n    </tr>\n    <tr>\n      <th>sucrose_100g</th>\n      <td>2.0</td>\n      <td>46.400000</td>\n      <td>65.619509</td>\n      <td>0.0</td>\n      <td>23.200</td>\n      <td>46.400</td>\n      <td>69.60</td>\n      <td>92.8</td>\n      <td>46.400</td>\n      <td>-46.4000</td>\n      <td>139.2000</td>\n      <td>0</td>\n      <td>0.00</td>\n    </tr>\n    <tr>\n      <th>glucose_100g</th>\n      <td>1.0</td>\n      <td>2.000000</td>\n      <td>NaN</td>\n      <td>2.0</td>\n      <td>2.000</td>\n      <td>2.000</td>\n      <td>2.00</td>\n      <td>2.0</td>\n      <td>0.000</td>\n      <td>2.0000</td>\n      <td>2.0000</td>\n      <td>0</td>\n      <td>0.00</td>\n    </tr>\n    <tr>\n      <th>fructose_100g</th>\n      <td>11.0</td>\n      <td>30.000000</td>\n      <td>26.129485</td>\n      <td>1.5</td>\n      <td>21.500</td>\n      <td>26.000</td>\n      <td>30.25</td>\n      <td>100.0</td>\n      <td>8.750</td>\n      <td>8.3750</td>\n      <td>43.3750</td>\n      <td>3</td>\n      <td>27.27</td>\n    </tr>\n    <tr>\n      <th>lactose_100g</th>\n      <td>28.0</td>\n      <td>4.498929</td>\n      <td>5.478942</td>\n      <td>0.0</td>\n      <td>0.000</td>\n      <td>0.105</td>\n      <td>10.00</td>\n      <td>14.0</td>\n      <td>10.000</td>\n      <td>-15.0000</td>\n      <td>25.0000</td>\n      <td>0</td>\n      <td>0.00</td>\n    </tr>\n    <tr>\n      <th>maltose_100g</th>\n      <td>1.0</td>\n      <td>22.000000</td>\n      <td>NaN</td>\n      <td>22.0</td>\n      <td>22.000</td>\n      <td>22.000</td>\n      <td>22.00</td>\n      <td>22.0</td>\n      <td>0.000</td>\n      <td>22.0000</td>\n      <td>22.0000</td>\n      <td>0</td>\n      <td>0.00</td>\n    </tr>\n    <tr>\n      <th>nutrition-score-fr_100g</th>\n      <td>10001.0</td>\n      <td>17.792021</td>\n      <td>6.714532</td>\n      <td>-6.0</td>\n      <td>14.000</td>\n      <td>19.000</td>\n      <td>23.00</td>\n      <td>33.0</td>\n      <td>9.000</td>\n      <td>0.5000</td>\n      <td>36.5000</td>\n      <td>118</td>\n      <td>1.18</td>\n    </tr>\n    <tr>\n      <th>energy_100g</th>\n      <td>10575.0</td>\n      <td>1813.089533</td>\n      <td>550.841303</td>\n      <td>0.0</td>\n      <td>1532.000</td>\n      <td>1924.000</td>\n      <td>2190.00</td>\n      <td>22000.0</td>\n      <td>658.000</td>\n      <td>545.0000</td>\n      <td>3177.0000</td>\n      <td>213</td>\n      <td>2.01</td>\n    </tr>\n    <tr>\n      <th>proteins_100g</th>\n      <td>10506.0</td>\n      <td>5.501177</td>\n      <td>3.686118</td>\n      <td>0.0</td>\n      <td>3.700</td>\n      <td>5.900</td>\n      <td>7.30</td>\n      <td>72.0</td>\n      <td>3.600</td>\n      <td>-1.7000</td>\n      <td>12.7000</td>\n      <td>178</td>\n      <td>1.69</td>\n    </tr>\n  </tbody>\n</table>\n</div>"
     },
     "execution_count": 77,
     "metadata": {},
     "output_type": "execute_result"
    }
   ],
   "source": [
    "outliersPerNutritionalGrade['outliers_sugary snacks']"
   ],
   "metadata": {
    "collapsed": false,
    "pycharm": {
     "name": "#%%\n"
    }
   }
  },
  {
   "cell_type": "code",
   "execution_count": 78,
   "outputs": [
    {
     "data": {
      "text/plain": "                          count         mean         std   min       25%  \\\ncarbohydrates_100g       7159.0    55.032587   23.016440   0.0    42.000   \nsugars_100g              6914.0     6.807778    9.253175   0.0     1.355   \nsucrose_100g                1.0     0.000000         NaN   0.0     0.000   \nglucose_100g                1.0     8.100000         NaN   8.1     8.100   \nfructose_100g               1.0     2.400000         NaN   2.4     2.400   \nlactose_100g                3.0     0.000000    0.000000   0.0     0.000   \nmaltose_100g                1.0    39.200000         NaN  39.2    39.200   \nnutrition-score-fr_100g  6802.0     1.441635    7.004371 -12.0    -4.000   \nenergy_100g              7451.0  1357.802162  490.442528   0.0  1123.500   \nproteins_100g            7415.0    10.103136    5.053800   0.0     7.330   \n\n                            50%     75%     max      iqr  q1-1.5iqr  \\\ncarbohydrates_100g         64.0    72.0    91.2   30.000    -3.0000   \nsugars_100g                 3.1     6.9    84.0    5.545    -6.9625   \nsucrose_100g                0.0     0.0     0.0    0.000     0.0000   \nglucose_100g                8.1     8.1     8.1    0.000     8.1000   \nfructose_100g               2.4     2.4     2.4    0.000     2.4000   \nlactose_100g                0.0     0.0     0.0    0.000     0.0000   \nmaltose_100g               39.2    39.2    39.2    0.000    39.2000   \nnutrition-score-fr_100g    -1.0     7.0    35.0   11.000   -20.5000   \nenergy_100g              1492.0  1610.0  9050.0  486.500   393.7500   \nproteins_100g               9.4    12.0    80.0    4.670     0.3250   \n\n                         q3+1.5iqr  outliers_count  outliers_percentage  \ncarbohydrates_100g        117.0000               0                 0.00  \nsugars_100g                15.2175            1088                15.74  \nsucrose_100g                0.0000               0                 0.00  \nglucose_100g                8.1000               0                 0.00  \nfructose_100g               2.4000               0                 0.00  \nlactose_100g                0.0000               0                 0.00  \nmaltose_100g               39.2000               0                 0.00  \nnutrition-score-fr_100g    23.5000              17                 0.25  \nenergy_100g              2339.7500             630                 8.46  \nproteins_100g              19.0050             409                 5.52  ",
      "text/html": "<div>\n<style scoped>\n    .dataframe tbody tr th:only-of-type {\n        vertical-align: middle;\n    }\n\n    .dataframe tbody tr th {\n        vertical-align: top;\n    }\n\n    .dataframe thead th {\n        text-align: right;\n    }\n</style>\n<table border=\"1\" class=\"dataframe\">\n  <thead>\n    <tr style=\"text-align: right;\">\n      <th></th>\n      <th>count</th>\n      <th>mean</th>\n      <th>std</th>\n      <th>min</th>\n      <th>25%</th>\n      <th>50%</th>\n      <th>75%</th>\n      <th>max</th>\n      <th>iqr</th>\n      <th>q1-1.5iqr</th>\n      <th>q3+1.5iqr</th>\n      <th>outliers_count</th>\n      <th>outliers_percentage</th>\n    </tr>\n  </thead>\n  <tbody>\n    <tr>\n      <th>carbohydrates_100g</th>\n      <td>7159.0</td>\n      <td>55.032587</td>\n      <td>23.016440</td>\n      <td>0.0</td>\n      <td>42.000</td>\n      <td>64.0</td>\n      <td>72.0</td>\n      <td>91.2</td>\n      <td>30.000</td>\n      <td>-3.0000</td>\n      <td>117.0000</td>\n      <td>0</td>\n      <td>0.00</td>\n    </tr>\n    <tr>\n      <th>sugars_100g</th>\n      <td>6914.0</td>\n      <td>6.807778</td>\n      <td>9.253175</td>\n      <td>0.0</td>\n      <td>1.355</td>\n      <td>3.1</td>\n      <td>6.9</td>\n      <td>84.0</td>\n      <td>5.545</td>\n      <td>-6.9625</td>\n      <td>15.2175</td>\n      <td>1088</td>\n      <td>15.74</td>\n    </tr>\n    <tr>\n      <th>sucrose_100g</th>\n      <td>1.0</td>\n      <td>0.000000</td>\n      <td>NaN</td>\n      <td>0.0</td>\n      <td>0.000</td>\n      <td>0.0</td>\n      <td>0.0</td>\n      <td>0.0</td>\n      <td>0.000</td>\n      <td>0.0000</td>\n      <td>0.0000</td>\n      <td>0</td>\n      <td>0.00</td>\n    </tr>\n    <tr>\n      <th>glucose_100g</th>\n      <td>1.0</td>\n      <td>8.100000</td>\n      <td>NaN</td>\n      <td>8.1</td>\n      <td>8.100</td>\n      <td>8.1</td>\n      <td>8.1</td>\n      <td>8.1</td>\n      <td>0.000</td>\n      <td>8.1000</td>\n      <td>8.1000</td>\n      <td>0</td>\n      <td>0.00</td>\n    </tr>\n    <tr>\n      <th>fructose_100g</th>\n      <td>1.0</td>\n      <td>2.400000</td>\n      <td>NaN</td>\n      <td>2.4</td>\n      <td>2.400</td>\n      <td>2.4</td>\n      <td>2.4</td>\n      <td>2.4</td>\n      <td>0.000</td>\n      <td>2.4000</td>\n      <td>2.4000</td>\n      <td>0</td>\n      <td>0.00</td>\n    </tr>\n    <tr>\n      <th>lactose_100g</th>\n      <td>3.0</td>\n      <td>0.000000</td>\n      <td>0.000000</td>\n      <td>0.0</td>\n      <td>0.000</td>\n      <td>0.0</td>\n      <td>0.0</td>\n      <td>0.0</td>\n      <td>0.000</td>\n      <td>0.0000</td>\n      <td>0.0000</td>\n      <td>0</td>\n      <td>0.00</td>\n    </tr>\n    <tr>\n      <th>maltose_100g</th>\n      <td>1.0</td>\n      <td>39.200000</td>\n      <td>NaN</td>\n      <td>39.2</td>\n      <td>39.200</td>\n      <td>39.2</td>\n      <td>39.2</td>\n      <td>39.2</td>\n      <td>0.000</td>\n      <td>39.2000</td>\n      <td>39.2000</td>\n      <td>0</td>\n      <td>0.00</td>\n    </tr>\n    <tr>\n      <th>nutrition-score-fr_100g</th>\n      <td>6802.0</td>\n      <td>1.441635</td>\n      <td>7.004371</td>\n      <td>-12.0</td>\n      <td>-4.000</td>\n      <td>-1.0</td>\n      <td>7.0</td>\n      <td>35.0</td>\n      <td>11.000</td>\n      <td>-20.5000</td>\n      <td>23.5000</td>\n      <td>17</td>\n      <td>0.25</td>\n    </tr>\n    <tr>\n      <th>energy_100g</th>\n      <td>7451.0</td>\n      <td>1357.802162</td>\n      <td>490.442528</td>\n      <td>0.0</td>\n      <td>1123.500</td>\n      <td>1492.0</td>\n      <td>1610.0</td>\n      <td>9050.0</td>\n      <td>486.500</td>\n      <td>393.7500</td>\n      <td>2339.7500</td>\n      <td>630</td>\n      <td>8.46</td>\n    </tr>\n    <tr>\n      <th>proteins_100g</th>\n      <td>7415.0</td>\n      <td>10.103136</td>\n      <td>5.053800</td>\n      <td>0.0</td>\n      <td>7.330</td>\n      <td>9.4</td>\n      <td>12.0</td>\n      <td>80.0</td>\n      <td>4.670</td>\n      <td>0.3250</td>\n      <td>19.0050</td>\n      <td>409</td>\n      <td>5.52</td>\n    </tr>\n  </tbody>\n</table>\n</div>"
     },
     "execution_count": 78,
     "metadata": {},
     "output_type": "execute_result"
    }
   ],
   "source": [
    "outliersPerNutritionalGrade['outliers_cereals and potatoes']"
   ],
   "metadata": {
    "collapsed": false,
    "pycharm": {
     "name": "#%%\n"
    }
   }
  },
  {
   "cell_type": "code",
   "execution_count": 79,
   "outputs": [
    {
     "data": {
      "text/plain": "                          count        mean         std   min    25%    50%  \\\ncarbohydrates_100g       5843.0   15.808255   11.905352   0.0    7.3   13.7   \nsugars_100g              5780.0    2.425853    2.189996   0.0    1.0    2.0   \nsucrose_100g                0.0         NaN         NaN   NaN    NaN    NaN   \nglucose_100g                0.0         NaN         NaN   NaN    NaN    NaN   \nfructose_100g               0.0         NaN         NaN   NaN    NaN    NaN   \nlactose_100g                0.0         NaN         NaN   NaN    NaN    NaN   \nmaltose_100g                0.0         NaN         NaN   NaN    NaN    NaN   \nnutrition-score-fr_100g  5594.0    3.423311    5.729613 -13.0    0.0    2.0   \nenergy_100g              6019.0  689.733851  347.163125  30.0  442.5  638.0   \nproteins_100g            5997.0    7.551964    4.433687   0.0    4.7    7.0   \n\n                           75%     max    iqr  q1-1.5iqr  q3+1.5iqr  \\\ncarbohydrates_100g        22.1    83.0   14.8     -14.90      44.30   \nsugars_100g                3.2    33.0    2.2      -2.30       6.50   \nsucrose_100g               NaN     NaN    NaN        NaN        NaN   \nglucose_100g               NaN     NaN    NaN        NaN        NaN   \nfructose_100g              NaN     NaN    NaN        NaN        NaN   \nlactose_100g               NaN     NaN    NaN        NaN        NaN   \nmaltose_100g               NaN     NaN    NaN        NaN        NaN   \nnutrition-score-fr_100g    5.0    26.0    5.0      -7.50      12.50   \nenergy_100g              916.0  3054.0  473.5    -267.75    1626.25   \nproteins_100g             10.0    44.0    5.3      -3.25      17.95   \n\n                         outliers_count  outliers_percentage  \ncarbohydrates_100g                  167                 2.86  \nsugars_100g                         193                 3.34  \nsucrose_100g                          0                  NaN  \nglucose_100g                          0                  NaN  \nfructose_100g                         0                  NaN  \nlactose_100g                          0                  NaN  \nmaltose_100g                          0                  NaN  \nnutrition-score-fr_100g             564                10.08  \nenergy_100g                          77                 1.28  \nproteins_100g                       158                 2.63  ",
      "text/html": "<div>\n<style scoped>\n    .dataframe tbody tr th:only-of-type {\n        vertical-align: middle;\n    }\n\n    .dataframe tbody tr th {\n        vertical-align: top;\n    }\n\n    .dataframe thead th {\n        text-align: right;\n    }\n</style>\n<table border=\"1\" class=\"dataframe\">\n  <thead>\n    <tr style=\"text-align: right;\">\n      <th></th>\n      <th>count</th>\n      <th>mean</th>\n      <th>std</th>\n      <th>min</th>\n      <th>25%</th>\n      <th>50%</th>\n      <th>75%</th>\n      <th>max</th>\n      <th>iqr</th>\n      <th>q1-1.5iqr</th>\n      <th>q3+1.5iqr</th>\n      <th>outliers_count</th>\n      <th>outliers_percentage</th>\n    </tr>\n  </thead>\n  <tbody>\n    <tr>\n      <th>carbohydrates_100g</th>\n      <td>5843.0</td>\n      <td>15.808255</td>\n      <td>11.905352</td>\n      <td>0.0</td>\n      <td>7.3</td>\n      <td>13.7</td>\n      <td>22.1</td>\n      <td>83.0</td>\n      <td>14.8</td>\n      <td>-14.90</td>\n      <td>44.30</td>\n      <td>167</td>\n      <td>2.86</td>\n    </tr>\n    <tr>\n      <th>sugars_100g</th>\n      <td>5780.0</td>\n      <td>2.425853</td>\n      <td>2.189996</td>\n      <td>0.0</td>\n      <td>1.0</td>\n      <td>2.0</td>\n      <td>3.2</td>\n      <td>33.0</td>\n      <td>2.2</td>\n      <td>-2.30</td>\n      <td>6.50</td>\n      <td>193</td>\n      <td>3.34</td>\n    </tr>\n    <tr>\n      <th>sucrose_100g</th>\n      <td>0.0</td>\n      <td>NaN</td>\n      <td>NaN</td>\n      <td>NaN</td>\n      <td>NaN</td>\n      <td>NaN</td>\n      <td>NaN</td>\n      <td>NaN</td>\n      <td>NaN</td>\n      <td>NaN</td>\n      <td>NaN</td>\n      <td>0</td>\n      <td>NaN</td>\n    </tr>\n    <tr>\n      <th>glucose_100g</th>\n      <td>0.0</td>\n      <td>NaN</td>\n      <td>NaN</td>\n      <td>NaN</td>\n      <td>NaN</td>\n      <td>NaN</td>\n      <td>NaN</td>\n      <td>NaN</td>\n      <td>NaN</td>\n      <td>NaN</td>\n      <td>NaN</td>\n      <td>0</td>\n      <td>NaN</td>\n    </tr>\n    <tr>\n      <th>fructose_100g</th>\n      <td>0.0</td>\n      <td>NaN</td>\n      <td>NaN</td>\n      <td>NaN</td>\n      <td>NaN</td>\n      <td>NaN</td>\n      <td>NaN</td>\n      <td>NaN</td>\n      <td>NaN</td>\n      <td>NaN</td>\n      <td>NaN</td>\n      <td>0</td>\n      <td>NaN</td>\n    </tr>\n    <tr>\n      <th>lactose_100g</th>\n      <td>0.0</td>\n      <td>NaN</td>\n      <td>NaN</td>\n      <td>NaN</td>\n      <td>NaN</td>\n      <td>NaN</td>\n      <td>NaN</td>\n      <td>NaN</td>\n      <td>NaN</td>\n      <td>NaN</td>\n      <td>NaN</td>\n      <td>0</td>\n      <td>NaN</td>\n    </tr>\n    <tr>\n      <th>maltose_100g</th>\n      <td>0.0</td>\n      <td>NaN</td>\n      <td>NaN</td>\n      <td>NaN</td>\n      <td>NaN</td>\n      <td>NaN</td>\n      <td>NaN</td>\n      <td>NaN</td>\n      <td>NaN</td>\n      <td>NaN</td>\n      <td>NaN</td>\n      <td>0</td>\n      <td>NaN</td>\n    </tr>\n    <tr>\n      <th>nutrition-score-fr_100g</th>\n      <td>5594.0</td>\n      <td>3.423311</td>\n      <td>5.729613</td>\n      <td>-13.0</td>\n      <td>0.0</td>\n      <td>2.0</td>\n      <td>5.0</td>\n      <td>26.0</td>\n      <td>5.0</td>\n      <td>-7.50</td>\n      <td>12.50</td>\n      <td>564</td>\n      <td>10.08</td>\n    </tr>\n    <tr>\n      <th>energy_100g</th>\n      <td>6019.0</td>\n      <td>689.733851</td>\n      <td>347.163125</td>\n      <td>30.0</td>\n      <td>442.5</td>\n      <td>638.0</td>\n      <td>916.0</td>\n      <td>3054.0</td>\n      <td>473.5</td>\n      <td>-267.75</td>\n      <td>1626.25</td>\n      <td>77</td>\n      <td>1.28</td>\n    </tr>\n    <tr>\n      <th>proteins_100g</th>\n      <td>5997.0</td>\n      <td>7.551964</td>\n      <td>4.433687</td>\n      <td>0.0</td>\n      <td>4.7</td>\n      <td>7.0</td>\n      <td>10.0</td>\n      <td>44.0</td>\n      <td>5.3</td>\n      <td>-3.25</td>\n      <td>17.95</td>\n      <td>158</td>\n      <td>2.63</td>\n    </tr>\n  </tbody>\n</table>\n</div>"
     },
     "execution_count": 79,
     "metadata": {},
     "output_type": "execute_result"
    }
   ],
   "source": [
    "outliersPerNutritionalGrade['outliers_composite foods']"
   ],
   "metadata": {
    "collapsed": false,
    "pycharm": {
     "name": "#%%\n"
    }
   }
  },
  {
   "cell_type": "code",
   "execution_count": 80,
   "outputs": [
    {
     "data": {
      "text/plain": "                          count        mean         std  min    25%    50%  \\\ncarbohydrates_100g       5565.0    2.093741    3.717375  0.0    0.5    0.9   \nsugars_100g              5410.0    0.878638    1.139254  0.0    0.2    0.6   \nsucrose_100g                0.0         NaN         NaN  NaN    NaN    NaN   \nglucose_100g                0.0         NaN         NaN  NaN    NaN    NaN   \nfructose_100g               0.0         NaN         NaN  NaN    NaN    NaN   \nlactose_100g                1.0    0.100000         NaN  0.1    0.1    0.1   \nmaltose_100g                0.0         NaN         NaN  NaN    NaN    NaN   \nnutrition-score-fr_100g  5362.0    9.472771    8.413738 -8.0    3.0   10.0   \nenergy_100g              5868.0  864.816660  441.847325  0.0  506.0  790.5   \nproteins_100g            5830.0   18.635904    6.297629  0.0   14.0   19.0   \n\n                            75%     max    iqr  q1-1.5iqr  q3+1.5iqr  \\\ncarbohydrates_100g          2.0    56.0    1.5      -1.75       4.25   \nsugars_100g                 1.0    29.9    0.8      -1.00       2.20   \nsucrose_100g                NaN     NaN    NaN        NaN        NaN   \nglucose_100g                NaN     NaN    NaN        NaN        NaN   \nfructose_100g               NaN     NaN    NaN        NaN        NaN   \nlactose_100g                0.1     0.1    0.0       0.10       0.10   \nmaltose_100g                NaN     NaN    NaN        NaN        NaN   \nnutrition-score-fr_100g    17.0    27.0   14.0     -18.00      38.00   \nenergy_100g              1079.0  4485.0  573.0    -353.50    1938.50   \nproteins_100g              22.0    59.1    8.0       2.00      34.00   \n\n                         outliers_count  outliers_percentage  \ncarbohydrates_100g                  620                11.14  \nsugars_100g                         462                 8.54  \nsucrose_100g                          0                  NaN  \nglucose_100g                          0                  NaN  \nfructose_100g                         0                  NaN  \nlactose_100g                          0                 0.00  \nmaltose_100g                          0                  NaN  \nnutrition-score-fr_100g               0                 0.00  \nenergy_100g                         158                 2.69  \nproteins_100g                       100                 1.72  ",
      "text/html": "<div>\n<style scoped>\n    .dataframe tbody tr th:only-of-type {\n        vertical-align: middle;\n    }\n\n    .dataframe tbody tr th {\n        vertical-align: top;\n    }\n\n    .dataframe thead th {\n        text-align: right;\n    }\n</style>\n<table border=\"1\" class=\"dataframe\">\n  <thead>\n    <tr style=\"text-align: right;\">\n      <th></th>\n      <th>count</th>\n      <th>mean</th>\n      <th>std</th>\n      <th>min</th>\n      <th>25%</th>\n      <th>50%</th>\n      <th>75%</th>\n      <th>max</th>\n      <th>iqr</th>\n      <th>q1-1.5iqr</th>\n      <th>q3+1.5iqr</th>\n      <th>outliers_count</th>\n      <th>outliers_percentage</th>\n    </tr>\n  </thead>\n  <tbody>\n    <tr>\n      <th>carbohydrates_100g</th>\n      <td>5565.0</td>\n      <td>2.093741</td>\n      <td>3.717375</td>\n      <td>0.0</td>\n      <td>0.5</td>\n      <td>0.9</td>\n      <td>2.0</td>\n      <td>56.0</td>\n      <td>1.5</td>\n      <td>-1.75</td>\n      <td>4.25</td>\n      <td>620</td>\n      <td>11.14</td>\n    </tr>\n    <tr>\n      <th>sugars_100g</th>\n      <td>5410.0</td>\n      <td>0.878638</td>\n      <td>1.139254</td>\n      <td>0.0</td>\n      <td>0.2</td>\n      <td>0.6</td>\n      <td>1.0</td>\n      <td>29.9</td>\n      <td>0.8</td>\n      <td>-1.00</td>\n      <td>2.20</td>\n      <td>462</td>\n      <td>8.54</td>\n    </tr>\n    <tr>\n      <th>sucrose_100g</th>\n      <td>0.0</td>\n      <td>NaN</td>\n      <td>NaN</td>\n      <td>NaN</td>\n      <td>NaN</td>\n      <td>NaN</td>\n      <td>NaN</td>\n      <td>NaN</td>\n      <td>NaN</td>\n      <td>NaN</td>\n      <td>NaN</td>\n      <td>0</td>\n      <td>NaN</td>\n    </tr>\n    <tr>\n      <th>glucose_100g</th>\n      <td>0.0</td>\n      <td>NaN</td>\n      <td>NaN</td>\n      <td>NaN</td>\n      <td>NaN</td>\n      <td>NaN</td>\n      <td>NaN</td>\n      <td>NaN</td>\n      <td>NaN</td>\n      <td>NaN</td>\n      <td>NaN</td>\n      <td>0</td>\n      <td>NaN</td>\n    </tr>\n    <tr>\n      <th>fructose_100g</th>\n      <td>0.0</td>\n      <td>NaN</td>\n      <td>NaN</td>\n      <td>NaN</td>\n      <td>NaN</td>\n      <td>NaN</td>\n      <td>NaN</td>\n      <td>NaN</td>\n      <td>NaN</td>\n      <td>NaN</td>\n      <td>NaN</td>\n      <td>0</td>\n      <td>NaN</td>\n    </tr>\n    <tr>\n      <th>lactose_100g</th>\n      <td>1.0</td>\n      <td>0.100000</td>\n      <td>NaN</td>\n      <td>0.1</td>\n      <td>0.1</td>\n      <td>0.1</td>\n      <td>0.1</td>\n      <td>0.1</td>\n      <td>0.0</td>\n      <td>0.10</td>\n      <td>0.10</td>\n      <td>0</td>\n      <td>0.00</td>\n    </tr>\n    <tr>\n      <th>maltose_100g</th>\n      <td>0.0</td>\n      <td>NaN</td>\n      <td>NaN</td>\n      <td>NaN</td>\n      <td>NaN</td>\n      <td>NaN</td>\n      <td>NaN</td>\n      <td>NaN</td>\n      <td>NaN</td>\n      <td>NaN</td>\n      <td>NaN</td>\n      <td>0</td>\n      <td>NaN</td>\n    </tr>\n    <tr>\n      <th>nutrition-score-fr_100g</th>\n      <td>5362.0</td>\n      <td>9.472771</td>\n      <td>8.413738</td>\n      <td>-8.0</td>\n      <td>3.0</td>\n      <td>10.0</td>\n      <td>17.0</td>\n      <td>27.0</td>\n      <td>14.0</td>\n      <td>-18.00</td>\n      <td>38.00</td>\n      <td>0</td>\n      <td>0.00</td>\n    </tr>\n    <tr>\n      <th>energy_100g</th>\n      <td>5868.0</td>\n      <td>864.816660</td>\n      <td>441.847325</td>\n      <td>0.0</td>\n      <td>506.0</td>\n      <td>790.5</td>\n      <td>1079.0</td>\n      <td>4485.0</td>\n      <td>573.0</td>\n      <td>-353.50</td>\n      <td>1938.50</td>\n      <td>158</td>\n      <td>2.69</td>\n    </tr>\n    <tr>\n      <th>proteins_100g</th>\n      <td>5830.0</td>\n      <td>18.635904</td>\n      <td>6.297629</td>\n      <td>0.0</td>\n      <td>14.0</td>\n      <td>19.0</td>\n      <td>22.0</td>\n      <td>59.1</td>\n      <td>8.0</td>\n      <td>2.00</td>\n      <td>34.00</td>\n      <td>100</td>\n      <td>1.72</td>\n    </tr>\n  </tbody>\n</table>\n</div>"
     },
     "execution_count": 80,
     "metadata": {},
     "output_type": "execute_result"
    }
   ],
   "source": [
    "outliersPerNutritionalGrade['outliers_fish meat eggs']"
   ],
   "metadata": {
    "collapsed": false,
    "pycharm": {
     "name": "#%%\n"
    }
   }
  },
  {
   "cell_type": "code",
   "execution_count": 81,
   "outputs": [
    {
     "data": {
      "text/plain": "                          count        mean         std   min      25%  \\\ncarbohydrates_100g       5671.0   13.006744   18.136361   0.0    5.200   \nsugars_100g              6023.0   11.745616   16.603847   0.0    4.700   \nsucrose_100g                8.0    3.725000    3.693140   0.0    0.600   \nglucose_100g                2.0    1.050000    0.212132   0.9    0.975   \nfructose_100g               4.0   17.525000   30.928991   0.9    1.950   \nlactose_100g               50.0    2.822000   12.890279   0.0    0.000   \nmaltose_100g                0.0         NaN         NaN   NaN      NaN   \nnutrition-score-fr_100g  5697.0    7.842724    6.782758 -10.0    2.000   \nenergy_100g              6336.0  268.170786  375.466738   0.0  119.000   \nproteins_100g            6186.0    0.882254    2.929061   0.0    0.000   \n\n                            50%      75%     max     iqr  q1-1.5iqr  \\\ncarbohydrates_100g         9.80   11.400   100.0   6.200    -4.1000   \nsugars_100g                9.10   11.000    94.1   6.300    -4.7500   \nsucrose_100g               2.65    6.900     9.5   6.300    -8.8500   \nglucose_100g               1.05    1.125     1.2   0.150     0.7500   \nfructose_100g              2.65   18.225    63.9  16.275   -22.4625   \nlactose_100g               0.00    0.000    74.5   0.000     0.0000   \nmaltose_100g                NaN      NaN     NaN     NaN        NaN   \nnutrition-score-fr_100g    6.00   13.000    40.0  11.000   -14.5000   \nenergy_100g              184.00  218.000  5904.0  99.000   -29.5000   \nproteins_100g              0.30    0.600    86.0   0.600    -0.9000   \n\n                         q3+1.5iqr  outliers_count  outliers_percentage  \ncarbohydrates_100g         20.7000             458                 8.08  \nsugars_100g                20.4500             429                 7.12  \nsucrose_100g               16.3500               0                 0.00  \nglucose_100g                1.3500               0                 0.00  \nfructose_100g              42.6375               1                25.00  \nlactose_100g                0.0000               6                12.00  \nmaltose_100g                   NaN               0                  NaN  \nnutrition-score-fr_100g    29.5000              37                 0.65  \nenergy_100g               366.5000             662                10.45  \nproteins_100g               1.5000             667                10.78  ",
      "text/html": "<div>\n<style scoped>\n    .dataframe tbody tr th:only-of-type {\n        vertical-align: middle;\n    }\n\n    .dataframe tbody tr th {\n        vertical-align: top;\n    }\n\n    .dataframe thead th {\n        text-align: right;\n    }\n</style>\n<table border=\"1\" class=\"dataframe\">\n  <thead>\n    <tr style=\"text-align: right;\">\n      <th></th>\n      <th>count</th>\n      <th>mean</th>\n      <th>std</th>\n      <th>min</th>\n      <th>25%</th>\n      <th>50%</th>\n      <th>75%</th>\n      <th>max</th>\n      <th>iqr</th>\n      <th>q1-1.5iqr</th>\n      <th>q3+1.5iqr</th>\n      <th>outliers_count</th>\n      <th>outliers_percentage</th>\n    </tr>\n  </thead>\n  <tbody>\n    <tr>\n      <th>carbohydrates_100g</th>\n      <td>5671.0</td>\n      <td>13.006744</td>\n      <td>18.136361</td>\n      <td>0.0</td>\n      <td>5.200</td>\n      <td>9.80</td>\n      <td>11.400</td>\n      <td>100.0</td>\n      <td>6.200</td>\n      <td>-4.1000</td>\n      <td>20.7000</td>\n      <td>458</td>\n      <td>8.08</td>\n    </tr>\n    <tr>\n      <th>sugars_100g</th>\n      <td>6023.0</td>\n      <td>11.745616</td>\n      <td>16.603847</td>\n      <td>0.0</td>\n      <td>4.700</td>\n      <td>9.10</td>\n      <td>11.000</td>\n      <td>94.1</td>\n      <td>6.300</td>\n      <td>-4.7500</td>\n      <td>20.4500</td>\n      <td>429</td>\n      <td>7.12</td>\n    </tr>\n    <tr>\n      <th>sucrose_100g</th>\n      <td>8.0</td>\n      <td>3.725000</td>\n      <td>3.693140</td>\n      <td>0.0</td>\n      <td>0.600</td>\n      <td>2.65</td>\n      <td>6.900</td>\n      <td>9.5</td>\n      <td>6.300</td>\n      <td>-8.8500</td>\n      <td>16.3500</td>\n      <td>0</td>\n      <td>0.00</td>\n    </tr>\n    <tr>\n      <th>glucose_100g</th>\n      <td>2.0</td>\n      <td>1.050000</td>\n      <td>0.212132</td>\n      <td>0.9</td>\n      <td>0.975</td>\n      <td>1.05</td>\n      <td>1.125</td>\n      <td>1.2</td>\n      <td>0.150</td>\n      <td>0.7500</td>\n      <td>1.3500</td>\n      <td>0</td>\n      <td>0.00</td>\n    </tr>\n    <tr>\n      <th>fructose_100g</th>\n      <td>4.0</td>\n      <td>17.525000</td>\n      <td>30.928991</td>\n      <td>0.9</td>\n      <td>1.950</td>\n      <td>2.65</td>\n      <td>18.225</td>\n      <td>63.9</td>\n      <td>16.275</td>\n      <td>-22.4625</td>\n      <td>42.6375</td>\n      <td>1</td>\n      <td>25.00</td>\n    </tr>\n    <tr>\n      <th>lactose_100g</th>\n      <td>50.0</td>\n      <td>2.822000</td>\n      <td>12.890279</td>\n      <td>0.0</td>\n      <td>0.000</td>\n      <td>0.00</td>\n      <td>0.000</td>\n      <td>74.5</td>\n      <td>0.000</td>\n      <td>0.0000</td>\n      <td>0.0000</td>\n      <td>6</td>\n      <td>12.00</td>\n    </tr>\n    <tr>\n      <th>maltose_100g</th>\n      <td>0.0</td>\n      <td>NaN</td>\n      <td>NaN</td>\n      <td>NaN</td>\n      <td>NaN</td>\n      <td>NaN</td>\n      <td>NaN</td>\n      <td>NaN</td>\n      <td>NaN</td>\n      <td>NaN</td>\n      <td>NaN</td>\n      <td>0</td>\n      <td>NaN</td>\n    </tr>\n    <tr>\n      <th>nutrition-score-fr_100g</th>\n      <td>5697.0</td>\n      <td>7.842724</td>\n      <td>6.782758</td>\n      <td>-10.0</td>\n      <td>2.000</td>\n      <td>6.00</td>\n      <td>13.000</td>\n      <td>40.0</td>\n      <td>11.000</td>\n      <td>-14.5000</td>\n      <td>29.5000</td>\n      <td>37</td>\n      <td>0.65</td>\n    </tr>\n    <tr>\n      <th>energy_100g</th>\n      <td>6336.0</td>\n      <td>268.170786</td>\n      <td>375.466738</td>\n      <td>0.0</td>\n      <td>119.000</td>\n      <td>184.00</td>\n      <td>218.000</td>\n      <td>5904.0</td>\n      <td>99.000</td>\n      <td>-29.5000</td>\n      <td>366.5000</td>\n      <td>662</td>\n      <td>10.45</td>\n    </tr>\n    <tr>\n      <th>proteins_100g</th>\n      <td>6186.0</td>\n      <td>0.882254</td>\n      <td>2.929061</td>\n      <td>0.0</td>\n      <td>0.000</td>\n      <td>0.30</td>\n      <td>0.600</td>\n      <td>86.0</td>\n      <td>0.600</td>\n      <td>-0.9000</td>\n      <td>1.5000</td>\n      <td>667</td>\n      <td>10.78</td>\n    </tr>\n  </tbody>\n</table>\n</div>"
     },
     "execution_count": 81,
     "metadata": {},
     "output_type": "execute_result"
    }
   ],
   "source": [
    "outliersPerNutritionalGrade['outliers_beverages']"
   ],
   "metadata": {
    "collapsed": false,
    "pycharm": {
     "name": "#%%\n"
    }
   }
  },
  {
   "cell_type": "markdown",
   "source": [
    "For the interquartile method: given the results found above, I can conclude that this method is not relevant for processing outliers."
   ],
   "metadata": {
    "collapsed": false,
    "pycharm": {
     "name": "#%% md\n"
    }
   }
  },
  {
   "cell_type": "code",
   "execution_count": 82,
   "outputs": [
    {
     "data": {
      "text/plain": "       carbohydrates_100g    sugars_100g  sucrose_100g  glucose_100g  \\\ncount       243588.000000  244971.000000     72.000000     26.000000   \nmean            32.073981      16.003484     11.841667      2.878846   \nstd             29.731719      22.327284     13.993859      6.290341   \nmin              0.000000     -17.860000      0.000000      0.000000   \n25%              6.000000       1.300000      2.100000      0.200000   \n50%             20.600000       5.710000      8.100000      0.250000   \n75%             58.330000      24.000000     16.150000      1.400000   \nmax           2916.670000    3520.000000     92.800000     23.200000   \n\n       fructose_100g  lactose_100g  maltose_100g  nutrition-score-fr_100g  \\\ncount      38.000000    262.000000      4.000000            221210.000000   \nmean       25.897368      6.354084     24.325000                 9.165535   \nstd        30.015451     14.386132     17.793515                 9.055903   \nmin         0.000000      0.000000      0.100000               -15.000000   \n25%         0.950000      0.000000     16.525000                 1.000000   \n50%        13.000000      0.100000     29.000000                10.000000   \n75%        52.075000      4.175000     36.800000                16.000000   \nmax       101.000000     74.500000     39.200000                40.000000   \n\n        energy_100g  proteins_100g  \ncount  2.611130e+05  259922.000000  \nmean   1.141915e+03       7.075940  \nstd    6.447154e+03       8.409054  \nmin    0.000000e+00    -800.000000  \n25%    3.770000e+02       0.700000  \n50%    1.100000e+03       4.760000  \n75%    1.674000e+03      10.000000  \nmax    3.251373e+06     430.000000  ",
      "text/html": "<div>\n<style scoped>\n    .dataframe tbody tr th:only-of-type {\n        vertical-align: middle;\n    }\n\n    .dataframe tbody tr th {\n        vertical-align: top;\n    }\n\n    .dataframe thead th {\n        text-align: right;\n    }\n</style>\n<table border=\"1\" class=\"dataframe\">\n  <thead>\n    <tr style=\"text-align: right;\">\n      <th></th>\n      <th>carbohydrates_100g</th>\n      <th>sugars_100g</th>\n      <th>sucrose_100g</th>\n      <th>glucose_100g</th>\n      <th>fructose_100g</th>\n      <th>lactose_100g</th>\n      <th>maltose_100g</th>\n      <th>nutrition-score-fr_100g</th>\n      <th>energy_100g</th>\n      <th>proteins_100g</th>\n    </tr>\n  </thead>\n  <tbody>\n    <tr>\n      <th>count</th>\n      <td>243588.000000</td>\n      <td>244971.000000</td>\n      <td>72.000000</td>\n      <td>26.000000</td>\n      <td>38.000000</td>\n      <td>262.000000</td>\n      <td>4.000000</td>\n      <td>221210.000000</td>\n      <td>2.611130e+05</td>\n      <td>259922.000000</td>\n    </tr>\n    <tr>\n      <th>mean</th>\n      <td>32.073981</td>\n      <td>16.003484</td>\n      <td>11.841667</td>\n      <td>2.878846</td>\n      <td>25.897368</td>\n      <td>6.354084</td>\n      <td>24.325000</td>\n      <td>9.165535</td>\n      <td>1.141915e+03</td>\n      <td>7.075940</td>\n    </tr>\n    <tr>\n      <th>std</th>\n      <td>29.731719</td>\n      <td>22.327284</td>\n      <td>13.993859</td>\n      <td>6.290341</td>\n      <td>30.015451</td>\n      <td>14.386132</td>\n      <td>17.793515</td>\n      <td>9.055903</td>\n      <td>6.447154e+03</td>\n      <td>8.409054</td>\n    </tr>\n    <tr>\n      <th>min</th>\n      <td>0.000000</td>\n      <td>-17.860000</td>\n      <td>0.000000</td>\n      <td>0.000000</td>\n      <td>0.000000</td>\n      <td>0.000000</td>\n      <td>0.100000</td>\n      <td>-15.000000</td>\n      <td>0.000000e+00</td>\n      <td>-800.000000</td>\n    </tr>\n    <tr>\n      <th>25%</th>\n      <td>6.000000</td>\n      <td>1.300000</td>\n      <td>2.100000</td>\n      <td>0.200000</td>\n      <td>0.950000</td>\n      <td>0.000000</td>\n      <td>16.525000</td>\n      <td>1.000000</td>\n      <td>3.770000e+02</td>\n      <td>0.700000</td>\n    </tr>\n    <tr>\n      <th>50%</th>\n      <td>20.600000</td>\n      <td>5.710000</td>\n      <td>8.100000</td>\n      <td>0.250000</td>\n      <td>13.000000</td>\n      <td>0.100000</td>\n      <td>29.000000</td>\n      <td>10.000000</td>\n      <td>1.100000e+03</td>\n      <td>4.760000</td>\n    </tr>\n    <tr>\n      <th>75%</th>\n      <td>58.330000</td>\n      <td>24.000000</td>\n      <td>16.150000</td>\n      <td>1.400000</td>\n      <td>52.075000</td>\n      <td>4.175000</td>\n      <td>36.800000</td>\n      <td>16.000000</td>\n      <td>1.674000e+03</td>\n      <td>10.000000</td>\n    </tr>\n    <tr>\n      <th>max</th>\n      <td>2916.670000</td>\n      <td>3520.000000</td>\n      <td>92.800000</td>\n      <td>23.200000</td>\n      <td>101.000000</td>\n      <td>74.500000</td>\n      <td>39.200000</td>\n      <td>40.000000</td>\n      <td>3.251373e+06</td>\n      <td>430.000000</td>\n    </tr>\n  </tbody>\n</table>\n</div>"
     },
     "execution_count": 82,
     "metadata": {},
     "output_type": "execute_result"
    }
   ],
   "source": [
    "open_food_fact1.describe()"
   ],
   "metadata": {
    "collapsed": false,
    "pycharm": {
     "name": "#%%\n"
    }
   }
  },
  {
   "cell_type": "code",
   "execution_count": 83,
   "metadata": {
    "pycharm": {
     "name": "#%%\n"
    }
   },
   "outputs": [
    {
     "name": "stderr",
     "output_type": "stream",
     "text": [
      "C:\\Users\\houda\\AppData\\Local\\Temp\\ipykernel_6352\\869614950.py:3: SettingWithCopyWarning: \n",
      "A value is trying to be set on a copy of a slice from a DataFrame\n",
      "\n",
      "See the caveats in the documentation: https://pandas.pydata.org/pandas-docs/stable/user_guide/indexing.html#returning-a-view-versus-a-copy\n",
      "  open_food_fact1.drop(open_food_fact1[open_food_fact1[e] > 100].index, inplace=True)\n",
      "C:\\Users\\houda\\AppData\\Local\\Temp\\ipykernel_6352\\869614950.py:4: SettingWithCopyWarning: \n",
      "A value is trying to be set on a copy of a slice from a DataFrame\n",
      "\n",
      "See the caveats in the documentation: https://pandas.pydata.org/pandas-docs/stable/user_guide/indexing.html#returning-a-view-versus-a-copy\n",
      "  open_food_fact1.drop(open_food_fact1[e][open_food_fact1[e] < 0].index, inplace=True)\n"
     ]
    }
   ],
   "source": [
    "sugars= [\"carbohydrates_100g\", \"sugars_100g\", \"sucrose_100g\", \"glucose_100g\", \"fructose_100g\", \"lactose_100g\", \"maltose_100g\"]\n",
    "for e in sugars:\n",
    "    open_food_fact1.drop(open_food_fact1[open_food_fact1[e] > 100].index, inplace=True)\n",
    "    open_food_fact1.drop(open_food_fact1[e][open_food_fact1[e] < 0].index, inplace=True)"
   ]
  },
  {
   "cell_type": "code",
   "execution_count": 84,
   "metadata": {
    "pycharm": {
     "name": "#%%\n"
    }
   },
   "outputs": [
    {
     "data": {
      "text/plain": "Empty DataFrame\nColumns: [code, product_name, pnns_groups_1, countries_tags, countries_fr, carbohydrates_100g, sugars_100g, sucrose_100g, glucose_100g, fructose_100g, lactose_100g, maltose_100g, nutrition-score-fr_100g, energy_100g, proteins_100g, nutrition_grade_fr]\nIndex: []",
      "text/html": "<div>\n<style scoped>\n    .dataframe tbody tr th:only-of-type {\n        vertical-align: middle;\n    }\n\n    .dataframe tbody tr th {\n        vertical-align: top;\n    }\n\n    .dataframe thead th {\n        text-align: right;\n    }\n</style>\n<table border=\"1\" class=\"dataframe\">\n  <thead>\n    <tr style=\"text-align: right;\">\n      <th></th>\n      <th>code</th>\n      <th>product_name</th>\n      <th>pnns_groups_1</th>\n      <th>countries_tags</th>\n      <th>countries_fr</th>\n      <th>carbohydrates_100g</th>\n      <th>sugars_100g</th>\n      <th>sucrose_100g</th>\n      <th>glucose_100g</th>\n      <th>fructose_100g</th>\n      <th>lactose_100g</th>\n      <th>maltose_100g</th>\n      <th>nutrition-score-fr_100g</th>\n      <th>energy_100g</th>\n      <th>proteins_100g</th>\n      <th>nutrition_grade_fr</th>\n    </tr>\n  </thead>\n  <tbody>\n  </tbody>\n</table>\n</div>"
     },
     "execution_count": 84,
     "metadata": {},
     "output_type": "execute_result"
    }
   ],
   "source": [
    "open_food_fact1[open_food_fact1[\"carbohydrates_100g\"] < 0]"
   ]
  },
  {
   "cell_type": "code",
   "execution_count": 85,
   "metadata": {
    "pycharm": {
     "name": "#%%\n"
    }
   },
   "outputs": [
    {
     "name": "stderr",
     "output_type": "stream",
     "text": [
      "C:\\Users\\houda\\AppData\\Local\\Temp\\ipykernel_6352\\3723129593.py:1: SettingWithCopyWarning: \n",
      "A value is trying to be set on a copy of a slice from a DataFrame\n",
      "\n",
      "See the caveats in the documentation: https://pandas.pydata.org/pandas-docs/stable/user_guide/indexing.html#returning-a-view-versus-a-copy\n",
      "  open_food_fact1.drop(open_food_fact1[\"proteins_100g\"][open_food_fact1[\"proteins_100g\"] < 0].index, inplace=True)\n",
      "C:\\Users\\houda\\AppData\\Local\\Temp\\ipykernel_6352\\3723129593.py:2: SettingWithCopyWarning: \n",
      "A value is trying to be set on a copy of a slice from a DataFrame\n",
      "\n",
      "See the caveats in the documentation: https://pandas.pydata.org/pandas-docs/stable/user_guide/indexing.html#returning-a-view-versus-a-copy\n",
      "  open_food_fact1.drop(open_food_fact1[open_food_fact1[\"proteins_100g\"] > 100].index, inplace=True)\n",
      "C:\\Users\\houda\\AppData\\Local\\Temp\\ipykernel_6352\\3723129593.py:3: SettingWithCopyWarning: \n",
      "A value is trying to be set on a copy of a slice from a DataFrame\n",
      "\n",
      "See the caveats in the documentation: https://pandas.pydata.org/pandas-docs/stable/user_guide/indexing.html#returning-a-view-versus-a-copy\n",
      "  open_food_fact1.drop(open_food_fact1[\"energy_100g\"][open_food_fact1[\"energy_100g\"] < 0].index, inplace=True)\n",
      "C:\\Users\\houda\\AppData\\Local\\Temp\\ipykernel_6352\\3723129593.py:4: SettingWithCopyWarning: \n",
      "A value is trying to be set on a copy of a slice from a DataFrame\n",
      "\n",
      "See the caveats in the documentation: https://pandas.pydata.org/pandas-docs/stable/user_guide/indexing.html#returning-a-view-versus-a-copy\n",
      "  open_food_fact1.drop(open_food_fact1[\"energy_100g\"][open_food_fact1[\"energy_100g\"] > 3000].index, inplace=True)\n"
     ]
    }
   ],
   "source": [
    "open_food_fact1.drop(open_food_fact1[\"proteins_100g\"][open_food_fact1[\"proteins_100g\"] < 0].index, inplace=True)\n",
    "open_food_fact1.drop(open_food_fact1[open_food_fact1[\"proteins_100g\"] > 100].index, inplace=True)\n",
    "open_food_fact1.drop(open_food_fact1[\"energy_100g\"][open_food_fact1[\"energy_100g\"] < 0].index, inplace=True)\n",
    "open_food_fact1.drop(open_food_fact1[\"energy_100g\"][open_food_fact1[\"energy_100g\"] > 3000].index, inplace=True)"
   ]
  },
  {
   "cell_type": "code",
   "execution_count": 86,
   "metadata": {
    "pycharm": {
     "name": "#%%\n"
    }
   },
   "outputs": [
    {
     "name": "stderr",
     "output_type": "stream",
     "text": [
      "C:\\Users\\houda\\AppData\\Local\\Temp\\ipykernel_6352\\3583800600.py:1: SettingWithCopyWarning: \n",
      "A value is trying to be set on a copy of a slice from a DataFrame\n",
      "\n",
      "See the caveats in the documentation: https://pandas.pydata.org/pandas-docs/stable/user_guide/indexing.html#returning-a-view-versus-a-copy\n",
      "  open_food_fact1.drop(open_food_fact1[\"nutrition-score-fr_100g\"][open_food_fact1[\"nutrition-score-fr_100g\"] < -15].index, inplace=True)\n",
      "C:\\Users\\houda\\AppData\\Local\\Temp\\ipykernel_6352\\3583800600.py:2: SettingWithCopyWarning: \n",
      "A value is trying to be set on a copy of a slice from a DataFrame\n",
      "\n",
      "See the caveats in the documentation: https://pandas.pydata.org/pandas-docs/stable/user_guide/indexing.html#returning-a-view-versus-a-copy\n",
      "  open_food_fact1.drop(open_food_fact1[\"nutrition-score-fr_100g\"][open_food_fact1[\"nutrition-score-fr_100g\"] > 40].index, inplace=True)\n"
     ]
    }
   ],
   "source": [
    "open_food_fact1.drop(open_food_fact1[\"nutrition-score-fr_100g\"][open_food_fact1[\"nutrition-score-fr_100g\"] < -15].index, inplace=True)\n",
    "open_food_fact1.drop(open_food_fact1[\"nutrition-score-fr_100g\"][open_food_fact1[\"nutrition-score-fr_100g\"] > 40].index, inplace=True)"
   ]
  },
  {
   "cell_type": "code",
   "execution_count": 87,
   "metadata": {
    "pycharm": {
     "name": "#%%\n"
    }
   },
   "outputs": [
    {
     "data": {
      "text/plain": "(316677, 16)"
     },
     "execution_count": 87,
     "metadata": {},
     "output_type": "execute_result"
    }
   ],
   "source": [
    "open_food_fact1.shape"
   ]
  },
  {
   "cell_type": "markdown",
   "metadata": {
    "pycharm": {
     "name": "#%% md\n"
    }
   },
   "source": [
    "### 3 - Treatments for missing values\n",
    "\n",
    "For the imputation, I remove the products not coming from France with a bar code and a generic name."
   ]
  },
  {
   "cell_type": "code",
   "execution_count": 88,
   "outputs": [
    {
     "name": "stderr",
     "output_type": "stream",
     "text": [
      "C:\\Users\\houda\\AppData\\Local\\Temp\\ipykernel_6352\\3882378263.py:1: SettingWithCopyWarning: \n",
      "A value is trying to be set on a copy of a slice from a DataFrame\n",
      "\n",
      "See the caveats in the documentation: https://pandas.pydata.org/pandas-docs/stable/user_guide/indexing.html#returning-a-view-versus-a-copy\n",
      "  open_food_fact1.drop(open_food_fact1[open_food_fact1['countries_tags'].isnull()].index, inplace=True)\n",
      "C:\\Users\\houda\\AppData\\Local\\Temp\\ipykernel_6352\\3882378263.py:2: SettingWithCopyWarning: \n",
      "A value is trying to be set on a copy of a slice from a DataFrame\n",
      "\n",
      "See the caveats in the documentation: https://pandas.pydata.org/pandas-docs/stable/user_guide/indexing.html#returning-a-view-versus-a-copy\n",
      "  open_food_fact1.drop(open_food_fact1[open_food_fact1['code'].isnull()].index, inplace=True)\n",
      "C:\\Users\\houda\\AppData\\Local\\Temp\\ipykernel_6352\\3882378263.py:3: SettingWithCopyWarning: \n",
      "A value is trying to be set on a copy of a slice from a DataFrame\n",
      "\n",
      "See the caveats in the documentation: https://pandas.pydata.org/pandas-docs/stable/user_guide/indexing.html#returning-a-view-versus-a-copy\n",
      "  open_food_fact1.drop(open_food_fact1[open_food_fact1['product_name'].isnull()].index, inplace=True)\n"
     ]
    }
   ],
   "source": [
    "open_food_fact1.drop(open_food_fact1[open_food_fact1['countries_tags'].isnull()].index, inplace=True)\n",
    "open_food_fact1.drop(open_food_fact1[open_food_fact1['code'].isnull()].index, inplace=True)\n",
    "open_food_fact1.drop(open_food_fact1[open_food_fact1['product_name'].isnull()].index, inplace=True)\n",
    "open_food_fact1 = open_food_fact1[open_food_fact1.countries_tags.str.contains('france')]"
   ],
   "metadata": {
    "collapsed": false,
    "pycharm": {
     "name": "#%%\n"
    }
   }
  },
  {
   "cell_type": "code",
   "execution_count": 89,
   "outputs": [
    {
     "data": {
      "text/plain": "array(['nan', 'unknown', 'cereals and potatoes', 'sugary snacks',\n       'beverages', 'fish meat eggs', 'composite foods',\n       'fruits and vegetables', 'milk and dairy products', 'salty snacks',\n       'fat and sauces'], dtype=object)"
     },
     "execution_count": 89,
     "metadata": {},
     "output_type": "execute_result"
    }
   ],
   "source": [
    "open_food_fact1['pnns_groups_1'].unique()"
   ],
   "metadata": {
    "collapsed": false,
    "pycharm": {
     "name": "#%%\n"
    }
   }
  },
  {
   "cell_type": "code",
   "execution_count": 90,
   "outputs": [
    {
     "name": "stderr",
     "output_type": "stream",
     "text": [
      "C:\\Users\\houda\\AppData\\Local\\Temp\\ipykernel_6352\\3799120611.py:1: SettingWithCopyWarning: \n",
      "A value is trying to be set on a copy of a slice from a DataFrame.\n",
      "Try using .loc[row_indexer,col_indexer] = value instead\n",
      "\n",
      "See the caveats in the documentation: https://pandas.pydata.org/pandas-docs/stable/user_guide/indexing.html#returning-a-view-versus-a-copy\n",
      "  open_food_fact1['pnns_groups_1'] = open_food_fact1['pnns_groups_1'].apply(lambda x: str(x).replace('-', ' '))\n",
      "C:\\Users\\houda\\AppData\\Local\\Temp\\ipykernel_6352\\3799120611.py:2: SettingWithCopyWarning: \n",
      "A value is trying to be set on a copy of a slice from a DataFrame.\n",
      "Try using .loc[row_indexer,col_indexer] = value instead\n",
      "\n",
      "See the caveats in the documentation: https://pandas.pydata.org/pandas-docs/stable/user_guide/indexing.html#returning-a-view-versus-a-copy\n",
      "  open_food_fact1['pnns_groups_1'] = open_food_fact1['pnns_groups_1'].str.lower()\n",
      "C:\\Users\\houda\\AppData\\Local\\Temp\\ipykernel_6352\\3799120611.py:3: SettingWithCopyWarning: \n",
      "A value is trying to be set on a copy of a slice from a DataFrame.\n",
      "Try using .loc[row_indexer,col_indexer] = value instead\n",
      "\n",
      "See the caveats in the documentation: https://pandas.pydata.org/pandas-docs/stable/user_guide/indexing.html#returning-a-view-versus-a-copy\n",
      "  open_food_fact1['pnns_groups_1'] = open_food_fact1['pnns_groups_1'].str.strip()\n"
     ]
    }
   ],
   "source": [
    "open_food_fact1['pnns_groups_1'] = open_food_fact1['pnns_groups_1'].apply(lambda x: str(x).replace('-', ' '))\n",
    "open_food_fact1['pnns_groups_1'] = open_food_fact1['pnns_groups_1'].str.lower()\n",
    "open_food_fact1['pnns_groups_1'] = open_food_fact1['pnns_groups_1'].str.strip()"
   ],
   "metadata": {
    "collapsed": false,
    "pycharm": {
     "name": "#%%\n"
    }
   }
  },
  {
   "cell_type": "code",
   "execution_count": 91,
   "outputs": [
    {
     "data": {
      "text/plain": "array(['nan', 'unknown', 'cereals and potatoes', 'sugary snacks',\n       'beverages', 'fish meat eggs', 'composite foods',\n       'fruits and vegetables', 'milk and dairy products', 'salty snacks',\n       'fat and sauces'], dtype=object)"
     },
     "execution_count": 91,
     "metadata": {},
     "output_type": "execute_result"
    }
   ],
   "source": [
    "open_food_fact1['pnns_groups_1'].unique()"
   ],
   "metadata": {
    "collapsed": false,
    "pycharm": {
     "name": "#%%\n"
    }
   }
  },
  {
   "cell_type": "code",
   "execution_count": 92,
   "metadata": {
    "pycharm": {
     "name": "#%%\n"
    }
   },
   "outputs": [
    {
     "data": {
      "text/plain": "code                           0\nproduct_name                   0\npnns_groups_1                  0\ncountries_tags                 0\ncountries_fr                   0\ncarbohydrates_100g         43943\nsugars_100g                29039\nsucrose_100g               90143\nglucose_100g               90150\nfructose_100g              90133\nlactose_100g               90012\nmaltose_100g               90152\nnutrition-score-fr_100g    30102\nenergy_100g                27025\nproteins_100g              27283\nnutrition_grade_fr         30102\ndtype: int64"
     },
     "execution_count": 92,
     "metadata": {},
     "output_type": "execute_result"
    }
   ],
   "source": [
    "open_food_fact1.isnull().sum()"
   ]
  },
  {
   "cell_type": "code",
   "execution_count": 93,
   "metadata": {
    "pycharm": {
     "name": "#%%\n"
    }
   },
   "outputs": [
    {
     "data": {
      "text/plain": "                 code                         product_name  \\\n106             36252                       Lion Peanut x2   \n190          10187319                       Mini Confettis   \n191          10207260           Praliné Amande Et Noisette   \n226          40608754                Pepsi, Nouveau goût !   \n234          69161025            Tarte Poireaux Et Lardons   \n...               ...                                  ...   \n320740  9782211109758           Verrine Cheescake Myrtille   \n320741  9782401029101                         Fiche Brevet   \n320751  9847548283004  Tartines craquantes bio au sarrasin   \n320757  9900000000233                              Amandes   \n320763       99111250                   Thé vert Earl grey   \n\n               pnns_groups_1              countries_tags       countries_fr  \\\n106                  unknown  en:france,en:united-states  France,États-Unis   \n190                      nan                   en:france             France   \n191                      nan                   en:france             France   \n226                beverages                   en:france             France   \n234                      nan                   en:france             France   \n...                      ...                         ...                ...   \n320740                   nan                   en:france             France   \n320741                   nan                   en:france             France   \n320751  cereals and potatoes                   en:france             France   \n320757                   nan                   en:france             France   \n320763             beverages                   en:france             France   \n\n        carbohydrates_100g  sugars_100g  sucrose_100g  glucose_100g  \\\n106                   70.0        57.50           NaN           NaN   \n190                    NaN        87.70           NaN           NaN   \n191                    NaN        50.30           NaN           NaN   \n226                   10.4        10.40           NaN           NaN   \n234                    NaN         1.00           NaN           NaN   \n...                    ...          ...           ...           ...   \n320740                 NaN        10.50           NaN           NaN   \n320741                 NaN         1.00           NaN           NaN   \n320751                74.8         2.60           NaN           NaN   \n320757                 NaN         3.89           NaN           NaN   \n320763                 0.5         0.50           NaN           NaN   \n\n        fructose_100g  lactose_100g  maltose_100g  nutrition-score-fr_100g  \\\n106               NaN           NaN           NaN                     22.0   \n190               NaN           NaN           NaN                     14.0   \n191               NaN           NaN           NaN                     14.0   \n226               NaN           NaN           NaN                     13.0   \n234               NaN           NaN           NaN                     15.0   \n...               ...           ...           ...                      ...   \n320740            NaN           NaN           NaN                     16.0   \n320741            NaN           NaN           NaN                      0.0   \n320751            NaN           NaN           NaN                     -4.0   \n320757            NaN           NaN           NaN                      0.0   \n320763            NaN           NaN           NaN                      2.0   \n\n        energy_100g  proteins_100g nutrition_grade_fr  \n106          1883.0           2.50                  e  \n190          1753.0           0.60                  d  \n191          2406.0           9.50                  d  \n226           177.0           0.00                  e  \n234          1079.0           7.50                  d  \n...             ...            ...                ...  \n320740       1084.0           8.70                  d  \n320741          4.0          10.00                  b  \n320751       1643.0          13.00                  a  \n320757       2406.0          21.22                  b  \n320763         21.0           0.50                  c  \n\n[61116 rows x 16 columns]",
      "text/html": "<div>\n<style scoped>\n    .dataframe tbody tr th:only-of-type {\n        vertical-align: middle;\n    }\n\n    .dataframe tbody tr th {\n        vertical-align: top;\n    }\n\n    .dataframe thead th {\n        text-align: right;\n    }\n</style>\n<table border=\"1\" class=\"dataframe\">\n  <thead>\n    <tr style=\"text-align: right;\">\n      <th></th>\n      <th>code</th>\n      <th>product_name</th>\n      <th>pnns_groups_1</th>\n      <th>countries_tags</th>\n      <th>countries_fr</th>\n      <th>carbohydrates_100g</th>\n      <th>sugars_100g</th>\n      <th>sucrose_100g</th>\n      <th>glucose_100g</th>\n      <th>fructose_100g</th>\n      <th>lactose_100g</th>\n      <th>maltose_100g</th>\n      <th>nutrition-score-fr_100g</th>\n      <th>energy_100g</th>\n      <th>proteins_100g</th>\n      <th>nutrition_grade_fr</th>\n    </tr>\n  </thead>\n  <tbody>\n    <tr>\n      <th>106</th>\n      <td>36252</td>\n      <td>Lion Peanut x2</td>\n      <td>unknown</td>\n      <td>en:france,en:united-states</td>\n      <td>France,États-Unis</td>\n      <td>70.0</td>\n      <td>57.50</td>\n      <td>NaN</td>\n      <td>NaN</td>\n      <td>NaN</td>\n      <td>NaN</td>\n      <td>NaN</td>\n      <td>22.0</td>\n      <td>1883.0</td>\n      <td>2.50</td>\n      <td>e</td>\n    </tr>\n    <tr>\n      <th>190</th>\n      <td>10187319</td>\n      <td>Mini Confettis</td>\n      <td>nan</td>\n      <td>en:france</td>\n      <td>France</td>\n      <td>NaN</td>\n      <td>87.70</td>\n      <td>NaN</td>\n      <td>NaN</td>\n      <td>NaN</td>\n      <td>NaN</td>\n      <td>NaN</td>\n      <td>14.0</td>\n      <td>1753.0</td>\n      <td>0.60</td>\n      <td>d</td>\n    </tr>\n    <tr>\n      <th>191</th>\n      <td>10207260</td>\n      <td>Praliné Amande Et Noisette</td>\n      <td>nan</td>\n      <td>en:france</td>\n      <td>France</td>\n      <td>NaN</td>\n      <td>50.30</td>\n      <td>NaN</td>\n      <td>NaN</td>\n      <td>NaN</td>\n      <td>NaN</td>\n      <td>NaN</td>\n      <td>14.0</td>\n      <td>2406.0</td>\n      <td>9.50</td>\n      <td>d</td>\n    </tr>\n    <tr>\n      <th>226</th>\n      <td>40608754</td>\n      <td>Pepsi, Nouveau goût !</td>\n      <td>beverages</td>\n      <td>en:france</td>\n      <td>France</td>\n      <td>10.4</td>\n      <td>10.40</td>\n      <td>NaN</td>\n      <td>NaN</td>\n      <td>NaN</td>\n      <td>NaN</td>\n      <td>NaN</td>\n      <td>13.0</td>\n      <td>177.0</td>\n      <td>0.00</td>\n      <td>e</td>\n    </tr>\n    <tr>\n      <th>234</th>\n      <td>69161025</td>\n      <td>Tarte Poireaux Et Lardons</td>\n      <td>nan</td>\n      <td>en:france</td>\n      <td>France</td>\n      <td>NaN</td>\n      <td>1.00</td>\n      <td>NaN</td>\n      <td>NaN</td>\n      <td>NaN</td>\n      <td>NaN</td>\n      <td>NaN</td>\n      <td>15.0</td>\n      <td>1079.0</td>\n      <td>7.50</td>\n      <td>d</td>\n    </tr>\n    <tr>\n      <th>...</th>\n      <td>...</td>\n      <td>...</td>\n      <td>...</td>\n      <td>...</td>\n      <td>...</td>\n      <td>...</td>\n      <td>...</td>\n      <td>...</td>\n      <td>...</td>\n      <td>...</td>\n      <td>...</td>\n      <td>...</td>\n      <td>...</td>\n      <td>...</td>\n      <td>...</td>\n      <td>...</td>\n    </tr>\n    <tr>\n      <th>320740</th>\n      <td>9782211109758</td>\n      <td>Verrine Cheescake Myrtille</td>\n      <td>nan</td>\n      <td>en:france</td>\n      <td>France</td>\n      <td>NaN</td>\n      <td>10.50</td>\n      <td>NaN</td>\n      <td>NaN</td>\n      <td>NaN</td>\n      <td>NaN</td>\n      <td>NaN</td>\n      <td>16.0</td>\n      <td>1084.0</td>\n      <td>8.70</td>\n      <td>d</td>\n    </tr>\n    <tr>\n      <th>320741</th>\n      <td>9782401029101</td>\n      <td>Fiche Brevet</td>\n      <td>nan</td>\n      <td>en:france</td>\n      <td>France</td>\n      <td>NaN</td>\n      <td>1.00</td>\n      <td>NaN</td>\n      <td>NaN</td>\n      <td>NaN</td>\n      <td>NaN</td>\n      <td>NaN</td>\n      <td>0.0</td>\n      <td>4.0</td>\n      <td>10.00</td>\n      <td>b</td>\n    </tr>\n    <tr>\n      <th>320751</th>\n      <td>9847548283004</td>\n      <td>Tartines craquantes bio au sarrasin</td>\n      <td>cereals and potatoes</td>\n      <td>en:france</td>\n      <td>France</td>\n      <td>74.8</td>\n      <td>2.60</td>\n      <td>NaN</td>\n      <td>NaN</td>\n      <td>NaN</td>\n      <td>NaN</td>\n      <td>NaN</td>\n      <td>-4.0</td>\n      <td>1643.0</td>\n      <td>13.00</td>\n      <td>a</td>\n    </tr>\n    <tr>\n      <th>320757</th>\n      <td>9900000000233</td>\n      <td>Amandes</td>\n      <td>nan</td>\n      <td>en:france</td>\n      <td>France</td>\n      <td>NaN</td>\n      <td>3.89</td>\n      <td>NaN</td>\n      <td>NaN</td>\n      <td>NaN</td>\n      <td>NaN</td>\n      <td>NaN</td>\n      <td>0.0</td>\n      <td>2406.0</td>\n      <td>21.22</td>\n      <td>b</td>\n    </tr>\n    <tr>\n      <th>320763</th>\n      <td>99111250</td>\n      <td>Thé vert Earl grey</td>\n      <td>beverages</td>\n      <td>en:france</td>\n      <td>France</td>\n      <td>0.5</td>\n      <td>0.50</td>\n      <td>NaN</td>\n      <td>NaN</td>\n      <td>NaN</td>\n      <td>NaN</td>\n      <td>NaN</td>\n      <td>2.0</td>\n      <td>21.0</td>\n      <td>0.50</td>\n      <td>c</td>\n    </tr>\n  </tbody>\n</table>\n<p>61116 rows × 16 columns</p>\n</div>"
     },
     "execution_count": 93,
     "metadata": {},
     "output_type": "execute_result"
    }
   ],
   "source": [
    "open_food_fact1[open_food_fact1['sugars_100g'].notnull()]"
   ]
  },
  {
   "cell_type": "code",
   "execution_count": 94,
   "metadata": {
    "pycharm": {
     "name": "#%%\n"
    }
   },
   "outputs": [
    {
     "data": {
      "text/plain": "                 code                product_name         pnns_groups_1  \\\n0                3087          Farine de blé noir                   nan   \n46              24600               Filet de bœuf               unknown   \n136             39259                     Twix x2               unknown   \n138             39529              Pack de 2 Twix               unknown   \n182           5200016           lentilles vertes   cereals and potatoes   \n...               ...                         ...                   ...   \n320760       99044169                    Poireaux                   nan   \n320761  9906410000009   Roussette du Bugey (2011)                   nan   \n320764           9918  Cheese cake thé vert, yuzu                   nan   \n320765  9935010000003              Rillette d'oie        fish meat eggs   \n320770  9980282863788    Tomates aux Vermicelles                    nan   \n\n                    countries_tags       countries_fr  carbohydrates_100g  \\\n0                        en:france             France                 NaN   \n46                       en:france             France                 NaN   \n136                      en:france             France                 NaN   \n138     en:france,en:united-states  France,États-Unis               77.08   \n182                      en:france             France                 NaN   \n...                            ...                ...                 ...   \n320760                   en:france             France                 NaN   \n320761                   en:france             France                 NaN   \n320764                   en:france             France                 NaN   \n320765                   en:france             France                 NaN   \n320770                   en:france             France                 NaN   \n\n        sugars_100g  sucrose_100g  glucose_100g  fructose_100g  lactose_100g  \\\n0               NaN           NaN           NaN            NaN           NaN   \n46              NaN           NaN           NaN            NaN           NaN   \n136             NaN           NaN           NaN            NaN           NaN   \n138             NaN           NaN           NaN            NaN           NaN   \n182             NaN           NaN           NaN            NaN           NaN   \n...             ...           ...           ...            ...           ...   \n320760          NaN           NaN           NaN            NaN           NaN   \n320761          NaN           NaN           NaN            NaN           NaN   \n320764          NaN           NaN           NaN            NaN           NaN   \n320765          NaN           NaN           NaN            NaN           NaN   \n320770          NaN           NaN           NaN            NaN           NaN   \n\n        maltose_100g  nutrition-score-fr_100g  energy_100g  proteins_100g  \\\n0                NaN                      NaN          NaN            NaN   \n46               NaN                      NaN          NaN            NaN   \n136              NaN                      NaN          NaN            NaN   \n138              NaN                      NaN       1481.0           6.25   \n182              NaN                      NaN          NaN            NaN   \n...              ...                      ...          ...            ...   \n320760           NaN                      NaN          NaN            NaN   \n320761           NaN                      NaN          NaN            NaN   \n320764           NaN                      NaN          NaN            NaN   \n320765           NaN                      NaN          NaN            NaN   \n320770           NaN                      NaN          NaN            NaN   \n\n       nutrition_grade_fr  \n0                     NaN  \n46                    NaN  \n136                   NaN  \n138                   NaN  \n182                   NaN  \n...                   ...  \n320760                NaN  \n320761                NaN  \n320764                NaN  \n320765                NaN  \n320770                NaN  \n\n[29039 rows x 16 columns]",
      "text/html": "<div>\n<style scoped>\n    .dataframe tbody tr th:only-of-type {\n        vertical-align: middle;\n    }\n\n    .dataframe tbody tr th {\n        vertical-align: top;\n    }\n\n    .dataframe thead th {\n        text-align: right;\n    }\n</style>\n<table border=\"1\" class=\"dataframe\">\n  <thead>\n    <tr style=\"text-align: right;\">\n      <th></th>\n      <th>code</th>\n      <th>product_name</th>\n      <th>pnns_groups_1</th>\n      <th>countries_tags</th>\n      <th>countries_fr</th>\n      <th>carbohydrates_100g</th>\n      <th>sugars_100g</th>\n      <th>sucrose_100g</th>\n      <th>glucose_100g</th>\n      <th>fructose_100g</th>\n      <th>lactose_100g</th>\n      <th>maltose_100g</th>\n      <th>nutrition-score-fr_100g</th>\n      <th>energy_100g</th>\n      <th>proteins_100g</th>\n      <th>nutrition_grade_fr</th>\n    </tr>\n  </thead>\n  <tbody>\n    <tr>\n      <th>0</th>\n      <td>3087</td>\n      <td>Farine de blé noir</td>\n      <td>nan</td>\n      <td>en:france</td>\n      <td>France</td>\n      <td>NaN</td>\n      <td>NaN</td>\n      <td>NaN</td>\n      <td>NaN</td>\n      <td>NaN</td>\n      <td>NaN</td>\n      <td>NaN</td>\n      <td>NaN</td>\n      <td>NaN</td>\n      <td>NaN</td>\n      <td>NaN</td>\n    </tr>\n    <tr>\n      <th>46</th>\n      <td>24600</td>\n      <td>Filet de bœuf</td>\n      <td>unknown</td>\n      <td>en:france</td>\n      <td>France</td>\n      <td>NaN</td>\n      <td>NaN</td>\n      <td>NaN</td>\n      <td>NaN</td>\n      <td>NaN</td>\n      <td>NaN</td>\n      <td>NaN</td>\n      <td>NaN</td>\n      <td>NaN</td>\n      <td>NaN</td>\n      <td>NaN</td>\n    </tr>\n    <tr>\n      <th>136</th>\n      <td>39259</td>\n      <td>Twix x2</td>\n      <td>unknown</td>\n      <td>en:france</td>\n      <td>France</td>\n      <td>NaN</td>\n      <td>NaN</td>\n      <td>NaN</td>\n      <td>NaN</td>\n      <td>NaN</td>\n      <td>NaN</td>\n      <td>NaN</td>\n      <td>NaN</td>\n      <td>NaN</td>\n      <td>NaN</td>\n      <td>NaN</td>\n    </tr>\n    <tr>\n      <th>138</th>\n      <td>39529</td>\n      <td>Pack de 2 Twix</td>\n      <td>unknown</td>\n      <td>en:france,en:united-states</td>\n      <td>France,États-Unis</td>\n      <td>77.08</td>\n      <td>NaN</td>\n      <td>NaN</td>\n      <td>NaN</td>\n      <td>NaN</td>\n      <td>NaN</td>\n      <td>NaN</td>\n      <td>NaN</td>\n      <td>1481.0</td>\n      <td>6.25</td>\n      <td>NaN</td>\n    </tr>\n    <tr>\n      <th>182</th>\n      <td>5200016</td>\n      <td>lentilles vertes</td>\n      <td>cereals and potatoes</td>\n      <td>en:france</td>\n      <td>France</td>\n      <td>NaN</td>\n      <td>NaN</td>\n      <td>NaN</td>\n      <td>NaN</td>\n      <td>NaN</td>\n      <td>NaN</td>\n      <td>NaN</td>\n      <td>NaN</td>\n      <td>NaN</td>\n      <td>NaN</td>\n      <td>NaN</td>\n    </tr>\n    <tr>\n      <th>...</th>\n      <td>...</td>\n      <td>...</td>\n      <td>...</td>\n      <td>...</td>\n      <td>...</td>\n      <td>...</td>\n      <td>...</td>\n      <td>...</td>\n      <td>...</td>\n      <td>...</td>\n      <td>...</td>\n      <td>...</td>\n      <td>...</td>\n      <td>...</td>\n      <td>...</td>\n      <td>...</td>\n    </tr>\n    <tr>\n      <th>320760</th>\n      <td>99044169</td>\n      <td>Poireaux</td>\n      <td>nan</td>\n      <td>en:france</td>\n      <td>France</td>\n      <td>NaN</td>\n      <td>NaN</td>\n      <td>NaN</td>\n      <td>NaN</td>\n      <td>NaN</td>\n      <td>NaN</td>\n      <td>NaN</td>\n      <td>NaN</td>\n      <td>NaN</td>\n      <td>NaN</td>\n      <td>NaN</td>\n    </tr>\n    <tr>\n      <th>320761</th>\n      <td>9906410000009</td>\n      <td>Roussette du Bugey (2011)</td>\n      <td>nan</td>\n      <td>en:france</td>\n      <td>France</td>\n      <td>NaN</td>\n      <td>NaN</td>\n      <td>NaN</td>\n      <td>NaN</td>\n      <td>NaN</td>\n      <td>NaN</td>\n      <td>NaN</td>\n      <td>NaN</td>\n      <td>NaN</td>\n      <td>NaN</td>\n      <td>NaN</td>\n    </tr>\n    <tr>\n      <th>320764</th>\n      <td>9918</td>\n      <td>Cheese cake thé vert, yuzu</td>\n      <td>nan</td>\n      <td>en:france</td>\n      <td>France</td>\n      <td>NaN</td>\n      <td>NaN</td>\n      <td>NaN</td>\n      <td>NaN</td>\n      <td>NaN</td>\n      <td>NaN</td>\n      <td>NaN</td>\n      <td>NaN</td>\n      <td>NaN</td>\n      <td>NaN</td>\n      <td>NaN</td>\n    </tr>\n    <tr>\n      <th>320765</th>\n      <td>9935010000003</td>\n      <td>Rillette d'oie</td>\n      <td>fish meat eggs</td>\n      <td>en:france</td>\n      <td>France</td>\n      <td>NaN</td>\n      <td>NaN</td>\n      <td>NaN</td>\n      <td>NaN</td>\n      <td>NaN</td>\n      <td>NaN</td>\n      <td>NaN</td>\n      <td>NaN</td>\n      <td>NaN</td>\n      <td>NaN</td>\n      <td>NaN</td>\n    </tr>\n    <tr>\n      <th>320770</th>\n      <td>9980282863788</td>\n      <td>Tomates aux Vermicelles</td>\n      <td>nan</td>\n      <td>en:france</td>\n      <td>France</td>\n      <td>NaN</td>\n      <td>NaN</td>\n      <td>NaN</td>\n      <td>NaN</td>\n      <td>NaN</td>\n      <td>NaN</td>\n      <td>NaN</td>\n      <td>NaN</td>\n      <td>NaN</td>\n      <td>NaN</td>\n      <td>NaN</td>\n    </tr>\n  </tbody>\n</table>\n<p>29039 rows × 16 columns</p>\n</div>"
     },
     "execution_count": 94,
     "metadata": {},
     "output_type": "execute_result"
    }
   ],
   "source": [
    "open_food_fact1[open_food_fact1['sugars_100g'].isnull()]"
   ]
  },
  {
   "cell_type": "markdown",
   "metadata": {
    "pycharm": {
     "name": "#%% md\n"
    }
   },
   "source": [
    "I filled in the missing values for the sugars and derived with 0 because these are products that do not contain certain sugars."
   ]
  },
  {
   "cell_type": "code",
   "execution_count": 95,
   "outputs": [
    {
     "name": "stderr",
     "output_type": "stream",
     "text": [
      "C:\\Users\\houda\\AppData\\Local\\Temp\\ipykernel_6352\\2413134466.py:2: SettingWithCopyWarning: \n",
      "A value is trying to be set on a copy of a slice from a DataFrame.\n",
      "Try using .loc[row_indexer,col_indexer] = value instead\n",
      "\n",
      "See the caveats in the documentation: https://pandas.pydata.org/pandas-docs/stable/user_guide/indexing.html#returning-a-view-versus-a-copy\n",
      "  open_food_fact1[elmt1] = open_food_fact1[elmt1].fillna(open_food_fact1.groupby('pnns_groups_1')[elmt1].transform('median'))\n",
      "C:\\Users\\houda\\AppData\\Local\\Temp\\ipykernel_6352\\2413134466.py:2: SettingWithCopyWarning: \n",
      "A value is trying to be set on a copy of a slice from a DataFrame.\n",
      "Try using .loc[row_indexer,col_indexer] = value instead\n",
      "\n",
      "See the caveats in the documentation: https://pandas.pydata.org/pandas-docs/stable/user_guide/indexing.html#returning-a-view-versus-a-copy\n",
      "  open_food_fact1[elmt1] = open_food_fact1[elmt1].fillna(open_food_fact1.groupby('pnns_groups_1')[elmt1].transform('median'))\n",
      "C:\\Users\\houda\\AppData\\Local\\Temp\\ipykernel_6352\\2413134466.py:2: SettingWithCopyWarning: \n",
      "A value is trying to be set on a copy of a slice from a DataFrame.\n",
      "Try using .loc[row_indexer,col_indexer] = value instead\n",
      "\n",
      "See the caveats in the documentation: https://pandas.pydata.org/pandas-docs/stable/user_guide/indexing.html#returning-a-view-versus-a-copy\n",
      "  open_food_fact1[elmt1] = open_food_fact1[elmt1].fillna(open_food_fact1.groupby('pnns_groups_1')[elmt1].transform('median'))\n",
      "C:\\Users\\houda\\AppData\\Local\\Temp\\ipykernel_6352\\2413134466.py:2: SettingWithCopyWarning: \n",
      "A value is trying to be set on a copy of a slice from a DataFrame.\n",
      "Try using .loc[row_indexer,col_indexer] = value instead\n",
      "\n",
      "See the caveats in the documentation: https://pandas.pydata.org/pandas-docs/stable/user_guide/indexing.html#returning-a-view-versus-a-copy\n",
      "  open_food_fact1[elmt1] = open_food_fact1[elmt1].fillna(open_food_fact1.groupby('pnns_groups_1')[elmt1].transform('median'))\n",
      "C:\\Users\\houda\\AppData\\Local\\Temp\\ipykernel_6352\\2413134466.py:2: SettingWithCopyWarning: \n",
      "A value is trying to be set on a copy of a slice from a DataFrame.\n",
      "Try using .loc[row_indexer,col_indexer] = value instead\n",
      "\n",
      "See the caveats in the documentation: https://pandas.pydata.org/pandas-docs/stable/user_guide/indexing.html#returning-a-view-versus-a-copy\n",
      "  open_food_fact1[elmt1] = open_food_fact1[elmt1].fillna(open_food_fact1.groupby('pnns_groups_1')[elmt1].transform('median'))\n",
      "C:\\Users\\houda\\AppData\\Local\\Temp\\ipykernel_6352\\2413134466.py:2: SettingWithCopyWarning: \n",
      "A value is trying to be set on a copy of a slice from a DataFrame.\n",
      "Try using .loc[row_indexer,col_indexer] = value instead\n",
      "\n",
      "See the caveats in the documentation: https://pandas.pydata.org/pandas-docs/stable/user_guide/indexing.html#returning-a-view-versus-a-copy\n",
      "  open_food_fact1[elmt1] = open_food_fact1[elmt1].fillna(open_food_fact1.groupby('pnns_groups_1')[elmt1].transform('median'))\n",
      "C:\\Users\\houda\\AppData\\Local\\Temp\\ipykernel_6352\\2413134466.py:2: SettingWithCopyWarning: \n",
      "A value is trying to be set on a copy of a slice from a DataFrame.\n",
      "Try using .loc[row_indexer,col_indexer] = value instead\n",
      "\n",
      "See the caveats in the documentation: https://pandas.pydata.org/pandas-docs/stable/user_guide/indexing.html#returning-a-view-versus-a-copy\n",
      "  open_food_fact1[elmt1] = open_food_fact1[elmt1].fillna(open_food_fact1.groupby('pnns_groups_1')[elmt1].transform('median'))\n",
      "C:\\Users\\houda\\AppData\\Local\\Temp\\ipykernel_6352\\2413134466.py:2: SettingWithCopyWarning: \n",
      "A value is trying to be set on a copy of a slice from a DataFrame.\n",
      "Try using .loc[row_indexer,col_indexer] = value instead\n",
      "\n",
      "See the caveats in the documentation: https://pandas.pydata.org/pandas-docs/stable/user_guide/indexing.html#returning-a-view-versus-a-copy\n",
      "  open_food_fact1[elmt1] = open_food_fact1[elmt1].fillna(open_food_fact1.groupby('pnns_groups_1')[elmt1].transform('median'))\n",
      "C:\\Users\\houda\\AppData\\Local\\Temp\\ipykernel_6352\\2413134466.py:2: SettingWithCopyWarning: \n",
      "A value is trying to be set on a copy of a slice from a DataFrame.\n",
      "Try using .loc[row_indexer,col_indexer] = value instead\n",
      "\n",
      "See the caveats in the documentation: https://pandas.pydata.org/pandas-docs/stable/user_guide/indexing.html#returning-a-view-versus-a-copy\n",
      "  open_food_fact1[elmt1] = open_food_fact1[elmt1].fillna(open_food_fact1.groupby('pnns_groups_1')[elmt1].transform('median'))\n",
      "C:\\Users\\houda\\AppData\\Local\\Temp\\ipykernel_6352\\2413134466.py:2: SettingWithCopyWarning: \n",
      "A value is trying to be set on a copy of a slice from a DataFrame.\n",
      "Try using .loc[row_indexer,col_indexer] = value instead\n",
      "\n",
      "See the caveats in the documentation: https://pandas.pydata.org/pandas-docs/stable/user_guide/indexing.html#returning-a-view-versus-a-copy\n",
      "  open_food_fact1[elmt1] = open_food_fact1[elmt1].fillna(open_food_fact1.groupby('pnns_groups_1')[elmt1].transform('median'))\n"
     ]
    }
   ],
   "source": [
    "for elmt1 in liste:\n",
    "    open_food_fact1[elmt1] = open_food_fact1[elmt1].fillna(open_food_fact1.groupby('pnns_groups_1')[elmt1].transform('median'))"
   ],
   "metadata": {
    "collapsed": false,
    "pycharm": {
     "name": "#%%\n"
    }
   }
  },
  {
   "cell_type": "code",
   "execution_count": 96,
   "outputs": [
    {
     "data": {
      "text/plain": "code                           0\nproduct_name                   0\npnns_groups_1                  0\ncountries_tags                 0\ncountries_fr                   0\ncarbohydrates_100g             0\nsugars_100g                    0\nsucrose_100g               56023\nglucose_100g               61304\nfructose_100g              49922\nlactose_100g               40100\nmaltose_100g               67849\nnutrition-score-fr_100g        0\nenergy_100g                    0\nproteins_100g                  0\nnutrition_grade_fr         30102\ndtype: int64"
     },
     "execution_count": 96,
     "metadata": {},
     "output_type": "execute_result"
    }
   ],
   "source": [
    "open_food_fact1.isnull().sum()"
   ],
   "metadata": {
    "collapsed": false,
    "pycharm": {
     "name": "#%%\n"
    }
   }
  },
  {
   "cell_type": "code",
   "execution_count": 97,
   "outputs": [
    {
     "data": {
      "text/plain": "0          4.70\n190       87.70\n191       50.30\n194        4.70\n224        4.70\n          ...  \n320757     3.89\n320760     4.70\n320761     4.70\n320764     4.70\n320770     4.70\nName: sugars_100g, Length: 27363, dtype: float64"
     },
     "execution_count": 97,
     "metadata": {},
     "output_type": "execute_result"
    }
   ],
   "source": [
    "open_food_fact1.loc[open_food_fact1['pnns_groups_1'] == 'nan', 'sugars_100g'].fillna(open_food_fact1.loc[open_food_fact1['pnns_groups_1'] == 'nan', 'sugars_100g'].median())"
   ],
   "metadata": {
    "collapsed": false,
    "pycharm": {
     "name": "#%%\n"
    }
   }
  },
  {
   "cell_type": "code",
   "execution_count": 98,
   "outputs": [
    {
     "data": {
      "text/plain": "0          4.70\n190       87.70\n191       50.30\n194        4.70\n224        4.70\n          ...  \n320757     3.89\n320760     4.70\n320761     4.70\n320764     4.70\n320770     4.70\nName: sugars_100g, Length: 27363, dtype: float64"
     },
     "execution_count": 98,
     "metadata": {},
     "output_type": "execute_result"
    }
   ],
   "source": [
    "open_food_fact1.loc[open_food_fact1['pnns_groups_1'] == 'nan', 'sugars_100g']"
   ],
   "metadata": {
    "collapsed": false,
    "pycharm": {
     "name": "#%%\n"
    }
   }
  },
  {
   "cell_type": "code",
   "execution_count": 99,
   "outputs": [
    {
     "data": {
      "text/plain": "code                       0.000000\nproduct_name               0.000000\npnns_groups_1              0.000000\ncountries_tags             0.000000\ncountries_fr               0.000000\ncarbohydrates_100g         0.000000\nsugars_100g                0.000000\nsucrose_100g               0.621408\nglucose_100g               0.679984\nfructose_100g              0.553735\nlactose_100g               0.444790\nmaltose_100g               0.752582\nnutrition-score-fr_100g    0.000000\nenergy_100g                0.000000\nproteins_100g              0.000000\nnutrition_grade_fr         0.333892\ndtype: float64"
     },
     "execution_count": 99,
     "metadata": {},
     "output_type": "execute_result"
    }
   ],
   "source": [
    "open_food_fact1.isnull().mean()"
   ],
   "metadata": {
    "collapsed": false,
    "pycharm": {
     "name": "#%%\n"
    }
   }
  },
  {
   "cell_type": "markdown",
   "source": [
    "This does not process values for group 'unknow'."
   ],
   "metadata": {
    "collapsed": false,
    "pycharm": {
     "name": "#%% md\n"
    }
   }
  },
  {
   "cell_type": "code",
   "execution_count": 100,
   "outputs": [],
   "source": [
    "for elmt1 in liste:\n",
    "    for elmt2 in groups:\n",
    "        open_food_fact1.loc[open_food_fact1['nutrition_grade_fr'] == elmt2, elmt1].fillna(open_food_fact1.loc[open_food_fact1['nutrition_grade_fr'] == elmt2, elmt1].median(), inplace=True)"
   ],
   "metadata": {
    "collapsed": false,
    "pycharm": {
     "name": "#%%\n"
    }
   }
  },
  {
   "cell_type": "code",
   "execution_count": 101,
   "outputs": [
    {
     "data": {
      "text/plain": "code                       0.000000\nproduct_name               0.000000\npnns_groups_1              0.000000\ncountries_tags             0.000000\ncountries_fr               0.000000\ncarbohydrates_100g         0.000000\nsugars_100g                0.000000\nsucrose_100g               0.621408\nglucose_100g               0.679984\nfructose_100g              0.553735\nlactose_100g               0.444790\nmaltose_100g               0.752582\nnutrition-score-fr_100g    0.000000\nenergy_100g                0.000000\nproteins_100g              0.000000\nnutrition_grade_fr         0.333892\ndtype: float64"
     },
     "execution_count": 101,
     "metadata": {},
     "output_type": "execute_result"
    }
   ],
   "source": [
    "open_food_fact1.isna().mean()"
   ],
   "metadata": {
    "collapsed": false,
    "pycharm": {
     "name": "#%%\n"
    }
   }
  },
  {
   "cell_type": "code",
   "execution_count": 102,
   "metadata": {
    "pycharm": {
     "name": "#%%\n"
    }
   },
   "outputs": [
    {
     "name": "stderr",
     "output_type": "stream",
     "text": [
      "C:\\Users\\houda\\AppData\\Local\\Temp\\ipykernel_6352\\873655244.py:1: SettingWithCopyWarning: \n",
      "A value is trying to be set on a copy of a slice from a DataFrame\n",
      "\n",
      "See the caveats in the documentation: https://pandas.pydata.org/pandas-docs/stable/user_guide/indexing.html#returning-a-view-versus-a-copy\n",
      "  open_food_fact1['sugars_100g'].fillna(open_food_fact1['sugars_100g'].median(), inplace=True)\n",
      "C:\\Users\\houda\\AppData\\Local\\Temp\\ipykernel_6352\\873655244.py:2: SettingWithCopyWarning: \n",
      "A value is trying to be set on a copy of a slice from a DataFrame\n",
      "\n",
      "See the caveats in the documentation: https://pandas.pydata.org/pandas-docs/stable/user_guide/indexing.html#returning-a-view-versus-a-copy\n",
      "  open_food_fact1['carbohydrates_100g'].fillna(open_food_fact1['carbohydrates_100g'].median(), inplace=True)\n",
      "C:\\Users\\houda\\AppData\\Local\\Temp\\ipykernel_6352\\873655244.py:3: SettingWithCopyWarning: \n",
      "A value is trying to be set on a copy of a slice from a DataFrame\n",
      "\n",
      "See the caveats in the documentation: https://pandas.pydata.org/pandas-docs/stable/user_guide/indexing.html#returning-a-view-versus-a-copy\n",
      "  open_food_fact1['energy_100g'].fillna(open_food_fact1['energy_100g'].median(), inplace=True)\n",
      "C:\\Users\\houda\\AppData\\Local\\Temp\\ipykernel_6352\\873655244.py:4: SettingWithCopyWarning: \n",
      "A value is trying to be set on a copy of a slice from a DataFrame\n",
      "\n",
      "See the caveats in the documentation: https://pandas.pydata.org/pandas-docs/stable/user_guide/indexing.html#returning-a-view-versus-a-copy\n",
      "  open_food_fact1['proteins_100g'].fillna(open_food_fact1['proteins_100g'].median(), inplace=True)\n",
      "C:\\Users\\houda\\AppData\\Local\\Temp\\ipykernel_6352\\873655244.py:5: SettingWithCopyWarning: \n",
      "A value is trying to be set on a copy of a slice from a DataFrame\n",
      "\n",
      "See the caveats in the documentation: https://pandas.pydata.org/pandas-docs/stable/user_guide/indexing.html#returning-a-view-versus-a-copy\n",
      "  open_food_fact1['sucrose_100g'].fillna(0, inplace=True)\n",
      "C:\\Users\\houda\\AppData\\Local\\Temp\\ipykernel_6352\\873655244.py:6: SettingWithCopyWarning: \n",
      "A value is trying to be set on a copy of a slice from a DataFrame\n",
      "\n",
      "See the caveats in the documentation: https://pandas.pydata.org/pandas-docs/stable/user_guide/indexing.html#returning-a-view-versus-a-copy\n",
      "  open_food_fact1['fructose_100g'].fillna(0, inplace=True)\n",
      "C:\\Users\\houda\\AppData\\Local\\Temp\\ipykernel_6352\\873655244.py:7: SettingWithCopyWarning: \n",
      "A value is trying to be set on a copy of a slice from a DataFrame\n",
      "\n",
      "See the caveats in the documentation: https://pandas.pydata.org/pandas-docs/stable/user_guide/indexing.html#returning-a-view-versus-a-copy\n",
      "  open_food_fact1['glucose_100g'].fillna(0, inplace=True)\n",
      "C:\\Users\\houda\\AppData\\Local\\Temp\\ipykernel_6352\\873655244.py:8: SettingWithCopyWarning: \n",
      "A value is trying to be set on a copy of a slice from a DataFrame\n",
      "\n",
      "See the caveats in the documentation: https://pandas.pydata.org/pandas-docs/stable/user_guide/indexing.html#returning-a-view-versus-a-copy\n",
      "  open_food_fact1['lactose_100g'].fillna(0, inplace=True)\n",
      "C:\\Users\\houda\\AppData\\Local\\Temp\\ipykernel_6352\\873655244.py:9: SettingWithCopyWarning: \n",
      "A value is trying to be set on a copy of a slice from a DataFrame\n",
      "\n",
      "See the caveats in the documentation: https://pandas.pydata.org/pandas-docs/stable/user_guide/indexing.html#returning-a-view-versus-a-copy\n",
      "  open_food_fact1['maltose_100g'].fillna(0, inplace=True)\n"
     ]
    }
   ],
   "source": [
    "open_food_fact1['sugars_100g'].fillna(open_food_fact1['sugars_100g'].median(), inplace=True)\n",
    "open_food_fact1['carbohydrates_100g'].fillna(open_food_fact1['carbohydrates_100g'].median(), inplace=True)\n",
    "open_food_fact1['energy_100g'].fillna(open_food_fact1['energy_100g'].median(), inplace=True)\n",
    "open_food_fact1['proteins_100g'].fillna(open_food_fact1['proteins_100g'].median(), inplace=True)\n",
    "open_food_fact1['sucrose_100g'].fillna(0, inplace=True)\n",
    "open_food_fact1['fructose_100g'].fillna(0, inplace=True)\n",
    "open_food_fact1['glucose_100g'].fillna(0, inplace=True)\n",
    "open_food_fact1['lactose_100g'].fillna(0, inplace=True)\n",
    "open_food_fact1['maltose_100g'].fillna(0, inplace=True)"
   ]
  },
  {
   "cell_type": "code",
   "execution_count": 103,
   "metadata": {
    "pycharm": {
     "name": "#%%\n"
    }
   },
   "outputs": [
    {
     "data": {
      "text/plain": "code                           0\nproduct_name                   0\npnns_groups_1                  0\ncountries_tags                 0\ncountries_fr                   0\ncarbohydrates_100g             0\nsugars_100g                    0\nsucrose_100g                   0\nglucose_100g                   0\nfructose_100g                  0\nlactose_100g                   0\nmaltose_100g                   0\nnutrition-score-fr_100g        0\nenergy_100g                    0\nproteins_100g                  0\nnutrition_grade_fr         30102\ndtype: int64"
     },
     "execution_count": 103,
     "metadata": {},
     "output_type": "execute_result"
    }
   ],
   "source": [
    "open_food_fact1.isnull().sum()"
   ]
  },
  {
   "cell_type": "code",
   "execution_count": 104,
   "metadata": {
    "pycharm": {
     "name": "#%%\n"
    }
   },
   "outputs": [
    {
     "data": {
      "text/plain": "Empty DataFrame\nColumns: [code, product_name, pnns_groups_1, countries_tags, countries_fr, carbohydrates_100g, sugars_100g, sucrose_100g, glucose_100g, fructose_100g, lactose_100g, maltose_100g, nutrition-score-fr_100g, energy_100g, proteins_100g, nutrition_grade_fr]\nIndex: []",
      "text/html": "<div>\n<style scoped>\n    .dataframe tbody tr th:only-of-type {\n        vertical-align: middle;\n    }\n\n    .dataframe tbody tr th {\n        vertical-align: top;\n    }\n\n    .dataframe thead th {\n        text-align: right;\n    }\n</style>\n<table border=\"1\" class=\"dataframe\">\n  <thead>\n    <tr style=\"text-align: right;\">\n      <th></th>\n      <th>code</th>\n      <th>product_name</th>\n      <th>pnns_groups_1</th>\n      <th>countries_tags</th>\n      <th>countries_fr</th>\n      <th>carbohydrates_100g</th>\n      <th>sugars_100g</th>\n      <th>sucrose_100g</th>\n      <th>glucose_100g</th>\n      <th>fructose_100g</th>\n      <th>lactose_100g</th>\n      <th>maltose_100g</th>\n      <th>nutrition-score-fr_100g</th>\n      <th>energy_100g</th>\n      <th>proteins_100g</th>\n      <th>nutrition_grade_fr</th>\n    </tr>\n  </thead>\n  <tbody>\n  </tbody>\n</table>\n</div>"
     },
     "execution_count": 104,
     "metadata": {},
     "output_type": "execute_result"
    }
   ],
   "source": [
    "open_food_fact1[open_food_fact1[\"nutrition-score-fr_100g\"].isna()]"
   ]
  },
  {
   "cell_type": "code",
   "execution_count": 105,
   "metadata": {
    "pycharm": {
     "name": "#%%\n"
    }
   },
   "outputs": [
    {
     "data": {
      "text/plain": "(320772, 162)"
     },
     "execution_count": 105,
     "metadata": {},
     "output_type": "execute_result"
    }
   ],
   "source": [
    "open_food_fact.shape"
   ]
  },
  {
   "cell_type": "markdown",
   "metadata": {
    "pycharm": {
     "name": "#%% md\n"
    }
   },
   "source": [
    "For the nutriscore, I used a KNN algorithm."
   ]
  },
  {
   "cell_type": "code",
   "execution_count": 106,
   "metadata": {
    "pycharm": {
     "name": "#%%\n"
    }
   },
   "outputs": [],
   "source": [
    "nutris = ['carbohydrates_100g', 'sugars_100g', 'nutrition-score-fr_100g', 'energy_100g', 'proteins_100g']\n",
    "opf = open_food_fact1[nutris]"
   ]
  },
  {
   "cell_type": "code",
   "execution_count": 107,
   "metadata": {
    "pycharm": {
     "name": "#%%\n"
    }
   },
   "outputs": [
    {
     "name": "stderr",
     "output_type": "stream",
     "text": [
      "C:\\Users\\houda\\AppData\\Local\\Temp\\ipykernel_6352\\3634834019.py:1: SettingWithCopyWarning: \n",
      "A value is trying to be set on a copy of a slice from a DataFrame\n",
      "\n",
      "See the caveats in the documentation: https://pandas.pydata.org/pandas-docs/stable/user_guide/indexing.html#returning-a-view-versus-a-copy\n",
      "  opf.drop(opf[opf['nutrition-score-fr_100g'].isnull()].index, inplace=True)\n"
     ]
    }
   ],
   "source": [
    "opf.drop(opf[opf['nutrition-score-fr_100g'].isnull()].index, inplace=True)"
   ]
  },
  {
   "cell_type": "code",
   "execution_count": 108,
   "metadata": {
    "pycharm": {
     "name": "#%%\n"
    }
   },
   "outputs": [],
   "source": [
    "opf2 = opf"
   ]
  },
  {
   "cell_type": "code",
   "execution_count": 109,
   "metadata": {
    "pycharm": {
     "name": "#%%\n"
    }
   },
   "outputs": [
    {
     "data": {
      "text/plain": "     carbohydrates_100g  sugars_100g  nutrition-score-fr_100g  energy_100g  \\\n0                 12.25        4.700                      9.0       1109.0   \n46                22.10        3.935                      9.0       1089.0   \n106               70.00       57.500                     22.0       1883.0   \n136               22.10        3.935                      9.0       1089.0   \n138               77.08        3.935                      9.0       1481.0   \n\n     proteins_100g  \n0             6.10  \n46            5.70  \n106           2.50  \n136           5.70  \n138           6.25  ",
      "text/html": "<div>\n<style scoped>\n    .dataframe tbody tr th:only-of-type {\n        vertical-align: middle;\n    }\n\n    .dataframe tbody tr th {\n        vertical-align: top;\n    }\n\n    .dataframe thead th {\n        text-align: right;\n    }\n</style>\n<table border=\"1\" class=\"dataframe\">\n  <thead>\n    <tr style=\"text-align: right;\">\n      <th></th>\n      <th>carbohydrates_100g</th>\n      <th>sugars_100g</th>\n      <th>nutrition-score-fr_100g</th>\n      <th>energy_100g</th>\n      <th>proteins_100g</th>\n    </tr>\n  </thead>\n  <tbody>\n    <tr>\n      <th>0</th>\n      <td>12.25</td>\n      <td>4.700</td>\n      <td>9.0</td>\n      <td>1109.0</td>\n      <td>6.10</td>\n    </tr>\n    <tr>\n      <th>46</th>\n      <td>22.10</td>\n      <td>3.935</td>\n      <td>9.0</td>\n      <td>1089.0</td>\n      <td>5.70</td>\n    </tr>\n    <tr>\n      <th>106</th>\n      <td>70.00</td>\n      <td>57.500</td>\n      <td>22.0</td>\n      <td>1883.0</td>\n      <td>2.50</td>\n    </tr>\n    <tr>\n      <th>136</th>\n      <td>22.10</td>\n      <td>3.935</td>\n      <td>9.0</td>\n      <td>1089.0</td>\n      <td>5.70</td>\n    </tr>\n    <tr>\n      <th>138</th>\n      <td>77.08</td>\n      <td>3.935</td>\n      <td>9.0</td>\n      <td>1481.0</td>\n      <td>6.25</td>\n    </tr>\n  </tbody>\n</table>\n</div>"
     },
     "execution_count": 109,
     "metadata": {},
     "output_type": "execute_result"
    }
   ],
   "source": [
    "opf2.head()"
   ]
  },
  {
   "cell_type": "code",
   "execution_count": 110,
   "metadata": {
    "pycharm": {
     "name": "#%%\n"
    }
   },
   "outputs": [],
   "source": [
    "import numpy as np\n",
    "\n",
    "sample = np.random.randint(opf.shape[0], size=5000)\n",
    "opf1 = opf.iloc[sample]"
   ]
  },
  {
   "cell_type": "code",
   "execution_count": 111,
   "metadata": {
    "pycharm": {
     "name": "#%%\n"
    }
   },
   "outputs": [],
   "source": [
    "X = opf1.drop(columns= [\"nutrition-score-fr_100g\"])"
   ]
  },
  {
   "cell_type": "code",
   "execution_count": 112,
   "metadata": {
    "pycharm": {
     "name": "#%%\n"
    }
   },
   "outputs": [],
   "source": [
    "y = opf1[\"nutrition-score-fr_100g\"]"
   ]
  },
  {
   "cell_type": "code",
   "execution_count": 113,
   "metadata": {
    "pycharm": {
     "name": "#%%\n"
    }
   },
   "outputs": [],
   "source": [
    "from sklearn.model_selection import train_test_split\n",
    "xtrain, xtest, ytrain, ytest = train_test_split(X, y, train_size=0.8)"
   ]
  },
  {
   "cell_type": "code",
   "execution_count": 114,
   "metadata": {
    "pycharm": {
     "name": "#%%\n"
    }
   },
   "outputs": [],
   "source": [
    "from sklearn import neighbors"
   ]
  },
  {
   "cell_type": "code",
   "execution_count": 115,
   "metadata": {
    "pycharm": {
     "name": "#%%\n"
    }
   },
   "outputs": [],
   "source": [
    "#error = 1 - knn.score(xtest, ytest)\n",
    "#print('Erreur: %f' % error)"
   ]
  },
  {
   "cell_type": "code",
   "execution_count": 116,
   "outputs": [
    {
     "data": {
      "text/plain": "carbohydrates_100g    0\nsugars_100g           0\nenergy_100g           0\nproteins_100g         0\ndtype: int64"
     },
     "execution_count": 116,
     "metadata": {},
     "output_type": "execute_result"
    }
   ],
   "source": [
    "xtrain.isnull().sum()"
   ],
   "metadata": {
    "collapsed": false,
    "pycharm": {
     "name": "#%%\n"
    }
   }
  },
  {
   "cell_type": "code",
   "execution_count": 117,
   "metadata": {
    "pycharm": {
     "name": "#%%\n"
    }
   },
   "outputs": [
    {
     "name": "stderr",
     "output_type": "stream",
     "text": [
      "C:\\Users\\houda\\anaconda3\\Lib\\site-packages\\sklearn\\neighbors\\_classification.py:228: FutureWarning: Unlike other reduction functions (e.g. `skew`, `kurtosis`), the default behavior of `mode` typically preserves the axis it acts along. In SciPy 1.11.0, this behavior will change: the default value of `keepdims` will become False, the `axis` over which the statistic is taken will be eliminated, and the value None will no longer be accepted. Set `keepdims` to True or False to avoid this warning.\n",
      "  mode, _ = stats.mode(_y[neigh_ind, k], axis=1)\n",
      "C:\\Users\\houda\\anaconda3\\Lib\\site-packages\\sklearn\\neighbors\\_classification.py:228: FutureWarning: Unlike other reduction functions (e.g. `skew`, `kurtosis`), the default behavior of `mode` typically preserves the axis it acts along. In SciPy 1.11.0, this behavior will change: the default value of `keepdims` will become False, the `axis` over which the statistic is taken will be eliminated, and the value None will no longer be accepted. Set `keepdims` to True or False to avoid this warning.\n",
      "  mode, _ = stats.mode(_y[neigh_ind, k], axis=1)\n",
      "C:\\Users\\houda\\anaconda3\\Lib\\site-packages\\sklearn\\neighbors\\_classification.py:228: FutureWarning: Unlike other reduction functions (e.g. `skew`, `kurtosis`), the default behavior of `mode` typically preserves the axis it acts along. In SciPy 1.11.0, this behavior will change: the default value of `keepdims` will become False, the `axis` over which the statistic is taken will be eliminated, and the value None will no longer be accepted. Set `keepdims` to True or False to avoid this warning.\n",
      "  mode, _ = stats.mode(_y[neigh_ind, k], axis=1)\n",
      "C:\\Users\\houda\\anaconda3\\Lib\\site-packages\\sklearn\\neighbors\\_classification.py:228: FutureWarning: Unlike other reduction functions (e.g. `skew`, `kurtosis`), the default behavior of `mode` typically preserves the axis it acts along. In SciPy 1.11.0, this behavior will change: the default value of `keepdims` will become False, the `axis` over which the statistic is taken will be eliminated, and the value None will no longer be accepted. Set `keepdims` to True or False to avoid this warning.\n",
      "  mode, _ = stats.mode(_y[neigh_ind, k], axis=1)\n",
      "C:\\Users\\houda\\anaconda3\\Lib\\site-packages\\sklearn\\neighbors\\_classification.py:228: FutureWarning: Unlike other reduction functions (e.g. `skew`, `kurtosis`), the default behavior of `mode` typically preserves the axis it acts along. In SciPy 1.11.0, this behavior will change: the default value of `keepdims` will become False, the `axis` over which the statistic is taken will be eliminated, and the value None will no longer be accepted. Set `keepdims` to True or False to avoid this warning.\n",
      "  mode, _ = stats.mode(_y[neigh_ind, k], axis=1)\n",
      "C:\\Users\\houda\\anaconda3\\Lib\\site-packages\\sklearn\\neighbors\\_classification.py:228: FutureWarning: Unlike other reduction functions (e.g. `skew`, `kurtosis`), the default behavior of `mode` typically preserves the axis it acts along. In SciPy 1.11.0, this behavior will change: the default value of `keepdims` will become False, the `axis` over which the statistic is taken will be eliminated, and the value None will no longer be accepted. Set `keepdims` to True or False to avoid this warning.\n",
      "  mode, _ = stats.mode(_y[neigh_ind, k], axis=1)\n",
      "C:\\Users\\houda\\anaconda3\\Lib\\site-packages\\sklearn\\neighbors\\_classification.py:228: FutureWarning: Unlike other reduction functions (e.g. `skew`, `kurtosis`), the default behavior of `mode` typically preserves the axis it acts along. In SciPy 1.11.0, this behavior will change: the default value of `keepdims` will become False, the `axis` over which the statistic is taken will be eliminated, and the value None will no longer be accepted. Set `keepdims` to True or False to avoid this warning.\n",
      "  mode, _ = stats.mode(_y[neigh_ind, k], axis=1)\n",
      "C:\\Users\\houda\\anaconda3\\Lib\\site-packages\\sklearn\\neighbors\\_classification.py:228: FutureWarning: Unlike other reduction functions (e.g. `skew`, `kurtosis`), the default behavior of `mode` typically preserves the axis it acts along. In SciPy 1.11.0, this behavior will change: the default value of `keepdims` will become False, the `axis` over which the statistic is taken will be eliminated, and the value None will no longer be accepted. Set `keepdims` to True or False to avoid this warning.\n",
      "  mode, _ = stats.mode(_y[neigh_ind, k], axis=1)\n",
      "C:\\Users\\houda\\anaconda3\\Lib\\site-packages\\sklearn\\neighbors\\_classification.py:228: FutureWarning: Unlike other reduction functions (e.g. `skew`, `kurtosis`), the default behavior of `mode` typically preserves the axis it acts along. In SciPy 1.11.0, this behavior will change: the default value of `keepdims` will become False, the `axis` over which the statistic is taken will be eliminated, and the value None will no longer be accepted. Set `keepdims` to True or False to avoid this warning.\n",
      "  mode, _ = stats.mode(_y[neigh_ind, k], axis=1)\n",
      "C:\\Users\\houda\\anaconda3\\Lib\\site-packages\\sklearn\\neighbors\\_classification.py:228: FutureWarning: Unlike other reduction functions (e.g. `skew`, `kurtosis`), the default behavior of `mode` typically preserves the axis it acts along. In SciPy 1.11.0, this behavior will change: the default value of `keepdims` will become False, the `axis` over which the statistic is taken will be eliminated, and the value None will no longer be accepted. Set `keepdims` to True or False to avoid this warning.\n",
      "  mode, _ = stats.mode(_y[neigh_ind, k], axis=1)\n",
      "C:\\Users\\houda\\anaconda3\\Lib\\site-packages\\sklearn\\neighbors\\_classification.py:228: FutureWarning: Unlike other reduction functions (e.g. `skew`, `kurtosis`), the default behavior of `mode` typically preserves the axis it acts along. In SciPy 1.11.0, this behavior will change: the default value of `keepdims` will become False, the `axis` over which the statistic is taken will be eliminated, and the value None will no longer be accepted. Set `keepdims` to True or False to avoid this warning.\n",
      "  mode, _ = stats.mode(_y[neigh_ind, k], axis=1)\n",
      "C:\\Users\\houda\\anaconda3\\Lib\\site-packages\\sklearn\\neighbors\\_classification.py:228: FutureWarning: Unlike other reduction functions (e.g. `skew`, `kurtosis`), the default behavior of `mode` typically preserves the axis it acts along. In SciPy 1.11.0, this behavior will change: the default value of `keepdims` will become False, the `axis` over which the statistic is taken will be eliminated, and the value None will no longer be accepted. Set `keepdims` to True or False to avoid this warning.\n",
      "  mode, _ = stats.mode(_y[neigh_ind, k], axis=1)\n",
      "C:\\Users\\houda\\anaconda3\\Lib\\site-packages\\sklearn\\neighbors\\_classification.py:228: FutureWarning: Unlike other reduction functions (e.g. `skew`, `kurtosis`), the default behavior of `mode` typically preserves the axis it acts along. In SciPy 1.11.0, this behavior will change: the default value of `keepdims` will become False, the `axis` over which the statistic is taken will be eliminated, and the value None will no longer be accepted. Set `keepdims` to True or False to avoid this warning.\n",
      "  mode, _ = stats.mode(_y[neigh_ind, k], axis=1)\n"
     ]
    },
    {
     "data": {
      "text/plain": "<Figure size 640x480 with 1 Axes>",
      "image/png": "[encoded data removed]"
     },
     "metadata": {},
     "output_type": "display_data"
    }
   ],
   "source": [
    "errors = []\n",
    "for k in range(2,15):\n",
    "    knn = neighbors.KNeighborsClassifier(k)\n",
    "    errors.append(100*(1 - knn.fit(xtrain, ytrain).score(xtest, ytest)))\n",
    "plt.plot(range(2,15), errors, 'o-')\n",
    "plt.show()"
   ]
  },
  {
   "cell_type": "code",
   "execution_count": 118,
   "metadata": {
    "pycharm": {
     "name": "#%%\n"
    }
   },
   "outputs": [
    {
     "data": {
      "text/plain": "KNeighborsClassifier(n_neighbors=2)"
     },
     "execution_count": 118,
     "metadata": {},
     "output_type": "execute_result"
    }
   ],
   "source": [
    "knn = neighbors.KNeighborsClassifier(n_neighbors=2)\n",
    "knn.fit(xtrain, ytrain)"
   ]
  },
  {
   "cell_type": "code",
   "execution_count": 119,
   "metadata": {
    "pycharm": {
     "name": "#%%\n"
    }
   },
   "outputs": [
    {
     "name": "stderr",
     "output_type": "stream",
     "text": [
      "C:\\Users\\houda\\AppData\\Local\\Temp\\ipykernel_6352\\3651672764.py:1: UserWarning: Boolean Series key will be reindexed to match DataFrame index.\n",
      "  test = open_food_fact1[open_food_fact['nutrition-score-fr_100g'].isna()]\n"
     ]
    }
   ],
   "source": [
    "test = open_food_fact1[open_food_fact['nutrition-score-fr_100g'].isna()]\n",
    "test = test[nutris]"
   ]
  },
  {
   "cell_type": "code",
   "execution_count": 120,
   "outputs": [],
   "source": [
    "y2 = test.drop(columns=[\"nutrition-score-fr_100g\"])"
   ],
   "metadata": {
    "collapsed": false,
    "pycharm": {
     "name": "#%%\n"
    }
   }
  },
  {
   "cell_type": "code",
   "execution_count": 121,
   "metadata": {
    "pycharm": {
     "name": "#%%\n"
    }
   },
   "outputs": [
    {
     "name": "stderr",
     "output_type": "stream",
     "text": [
      "C:\\Users\\houda\\anaconda3\\Lib\\site-packages\\sklearn\\neighbors\\_classification.py:228: FutureWarning: Unlike other reduction functions (e.g. `skew`, `kurtosis`), the default behavior of `mode` typically preserves the axis it acts along. In SciPy 1.11.0, this behavior will change: the default value of `keepdims` will become False, the `axis` over which the statistic is taken will be eliminated, and the value None will no longer be accepted. Set `keepdims` to True or False to avoid this warning.\n",
      "  mode, _ = stats.mode(_y[neigh_ind, k], axis=1)\n"
     ]
    },
    {
     "data": {
      "text/plain": "array([ 9.,  9.,  9., ...,  9., 10.,  9.])"
     },
     "execution_count": 121,
     "metadata": {},
     "output_type": "execute_result"
    }
   ],
   "source": [
    "predict = knn.predict(y2)\n",
    "predict"
   ]
  },
  {
   "cell_type": "code",
   "execution_count": 122,
   "metadata": {
    "pycharm": {
     "name": "#%%\n"
    }
   },
   "outputs": [],
   "source": [
    "test[\"nutrition-score-fr_100g\"] = predict"
   ]
  },
  {
   "cell_type": "code",
   "execution_count": 123,
   "metadata": {
    "pycharm": {
     "name": "#%%\n"
    }
   },
   "outputs": [],
   "source": [
    "for i in test['nutrition-score-fr_100g'].index:\n",
    "    open_food_fact1.loc[i, 'nutrition-score-fr_100g'] = test['nutrition-score-fr_100g'].loc[i]"
   ]
  },
  {
   "cell_type": "code",
   "execution_count": 124,
   "outputs": [
    {
     "data": {
      "text/plain": "code                           0\nproduct_name                   0\npnns_groups_1                  0\ncountries_tags                 0\ncountries_fr                   0\ncarbohydrates_100g             0\nsugars_100g                    0\nsucrose_100g                   0\nglucose_100g                   0\nfructose_100g                  0\nlactose_100g                   0\nmaltose_100g                   0\nnutrition-score-fr_100g        0\nenergy_100g                    0\nproteins_100g                  0\nnutrition_grade_fr         30102\ndtype: int64"
     },
     "execution_count": 124,
     "metadata": {},
     "output_type": "execute_result"
    }
   ],
   "source": [
    "open_food_fact1.isnull().sum()"
   ],
   "metadata": {
    "collapsed": false,
    "pycharm": {
     "name": "#%%\n"
    }
   }
  },
  {
   "cell_type": "markdown",
   "source": [
    "Categorisation of outliers for the nutrigrade by nutriscore values"
   ],
   "metadata": {
    "collapsed": false,
    "pycharm": {
     "name": "#%% md\n"
    }
   }
  },
  {
   "cell_type": "code",
   "execution_count": 125,
   "outputs": [],
   "source": [
    "for ind in open_food_fact1[open_food_fact1[\"nutrition_grade_fr\"].isna()].index:\n",
    "    a = open_food_fact1.loc[ind, 'nutrition-score-fr_100g']\n",
    "    if (-15 >= a) and (a <= -2):\n",
    "        open_food_fact1.loc[ind, \"nutrition_grade_fr\"] = 'a'\n",
    "    elif (-1 >= a) and (a <= 3):\n",
    "        open_food_fact1.loc[ind, \"nutrition_grade_fr\"] = 'b'\n",
    "    elif (4 >= a) and (a <= 11):\n",
    "        open_food_fact1.loc[ind, \"nutrition_grade_fr\"] = 'c'\n",
    "    elif (12 >= a) and (a <= 16):\n",
    "        open_food_fact1.loc[ind, \"nutrition_grade_fr\"] = 'd'\n",
    "    else:\n",
    "        open_food_fact1.loc[ind, \"nutrition_grade_fr\"] = 'e'"
   ],
   "metadata": {
    "collapsed": false,
    "pycharm": {
     "name": "#%%\n"
    }
   }
  },
  {
   "cell_type": "code",
   "execution_count": 126,
   "outputs": [
    {
     "data": {
      "text/plain": "Empty DataFrame\nColumns: [code, product_name, pnns_groups_1, countries_tags, countries_fr, carbohydrates_100g, sugars_100g, sucrose_100g, glucose_100g, fructose_100g, lactose_100g, maltose_100g, nutrition-score-fr_100g, energy_100g, proteins_100g, nutrition_grade_fr]\nIndex: []",
      "text/html": "<div>\n<style scoped>\n    .dataframe tbody tr th:only-of-type {\n        vertical-align: middle;\n    }\n\n    .dataframe tbody tr th {\n        vertical-align: top;\n    }\n\n    .dataframe thead th {\n        text-align: right;\n    }\n</style>\n<table border=\"1\" class=\"dataframe\">\n  <thead>\n    <tr style=\"text-align: right;\">\n      <th></th>\n      <th>code</th>\n      <th>product_name</th>\n      <th>pnns_groups_1</th>\n      <th>countries_tags</th>\n      <th>countries_fr</th>\n      <th>carbohydrates_100g</th>\n      <th>sugars_100g</th>\n      <th>sucrose_100g</th>\n      <th>glucose_100g</th>\n      <th>fructose_100g</th>\n      <th>lactose_100g</th>\n      <th>maltose_100g</th>\n      <th>nutrition-score-fr_100g</th>\n      <th>energy_100g</th>\n      <th>proteins_100g</th>\n      <th>nutrition_grade_fr</th>\n    </tr>\n  </thead>\n  <tbody>\n  </tbody>\n</table>\n</div>"
     },
     "execution_count": 126,
     "metadata": {},
     "output_type": "execute_result"
    }
   ],
   "source": [
    "open_food_fact1[open_food_fact1['nutrition_grade_fr'].isnull()]"
   ],
   "metadata": {
    "collapsed": false,
    "pycharm": {
     "name": "#%%\n"
    }
   }
  },
  {
   "cell_type": "code",
   "execution_count": 127,
   "outputs": [
    {
     "data": {
      "text/plain": "code                       0\nproduct_name               0\npnns_groups_1              0\ncountries_tags             0\ncountries_fr               0\ncarbohydrates_100g         0\nsugars_100g                0\nsucrose_100g               0\nglucose_100g               0\nfructose_100g              0\nlactose_100g               0\nmaltose_100g               0\nnutrition-score-fr_100g    0\nenergy_100g                0\nproteins_100g              0\nnutrition_grade_fr         0\ndtype: int64"
     },
     "execution_count": 127,
     "metadata": {},
     "output_type": "execute_result"
    }
   ],
   "source": [
    "open_food_fact1.isnull().sum()"
   ],
   "metadata": {
    "collapsed": false,
    "pycharm": {
     "name": "#%%\n"
    }
   }
  },
  {
   "cell_type": "code",
   "execution_count": 128,
   "outputs": [
    {
     "name": "stdout",
     "output_type": "stream",
     "text": [
      "<class 'pandas.core.frame.DataFrame'>\n",
      "Int64Index: 90155 entries, 0 to 320770\n",
      "Data columns (total 16 columns):\n",
      " #   Column                   Non-Null Count  Dtype  \n",
      "---  ------                   --------------  -----  \n",
      " 0   code                     90155 non-null  object \n",
      " 1   product_name             90155 non-null  object \n",
      " 2   pnns_groups_1            90155 non-null  object \n",
      " 3   countries_tags           90155 non-null  object \n",
      " 4   countries_fr             90155 non-null  object \n",
      " 5   carbohydrates_100g       90155 non-null  float64\n",
      " 6   sugars_100g              90155 non-null  float64\n",
      " 7   sucrose_100g             90155 non-null  float64\n",
      " 8   glucose_100g             90155 non-null  float64\n",
      " 9   fructose_100g            90155 non-null  float64\n",
      " 10  lactose_100g             90155 non-null  float64\n",
      " 11  maltose_100g             90155 non-null  float64\n",
      " 12  nutrition-score-fr_100g  90155 non-null  float64\n",
      " 13  energy_100g              90155 non-null  float64\n",
      " 14  proteins_100g            90155 non-null  float64\n",
      " 15  nutrition_grade_fr       90155 non-null  object \n",
      "dtypes: float64(10), object(6)\n",
      "memory usage: 13.7+ MB\n"
     ]
    }
   ],
   "source": [
    "open_food_fact1.info()"
   ],
   "metadata": {
    "collapsed": false,
    "pycharm": {
     "name": "#%%\n"
    }
   }
  },
  {
   "cell_type": "code",
   "execution_count": 130,
   "outputs": [],
   "source": [
    "open_food_fact1.to_csv('data_clean.csv', index=False)"
   ],
   "metadata": {
    "collapsed": false,
    "pycharm": {
     "name": "#%%\n"
    }
   }
  },
  {
   "cell_type": "code",
   "execution_count": null,
   "outputs": [],
   "source": [],
   "metadata": {
    "collapsed": false,
    "pycharm": {
     "name": "#%%\n"
    }
   }
  }
 ],
 "metadata": {
  "kernelspec": {
   "display_name": "Python 3",
   "language": "python",
   "name": "python3"
  },
  "language_info": {
   "codemirror_mode": {
    "name": "ipython",
    "version": 3
   },
   "file_extension": ".py",
   "mimetype": "text/x-python",
   "name": "python",
   "nbconvert_exporter": "python",
   "pygments_lexer": "ipython3",
   "version": "3.7.1"
  }
 },
 "nbformat": 4,
 "nbformat_minor": 5
}